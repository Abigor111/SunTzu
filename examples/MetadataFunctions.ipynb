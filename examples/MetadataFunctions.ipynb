{
 "cells": [
  {
   "cell_type": "markdown",
   "metadata": {},
   "source": [
    "## Imports"
   ]
  },
  {
   "cell_type": "code",
   "execution_count": 2,
   "metadata": {},
   "outputs": [],
   "source": [
    "import pandas as pd\n",
    "import pyarrow as pa\n",
    "import pyarrow.parquet as pq\n",
    "import json\n",
    "import jsonschema\n",
    "from jsonschema.exceptions import ValidationError\n",
    "import os\n",
    "import pathlib\n",
    "import os.path\n",
    "import polars as pl \n",
    "import xarray as xr "
   ]
  },
  {
   "cell_type": "markdown",
   "metadata": {},
   "source": [
    "# netCDF"
   ]
  },
  {
   "cell_type": "markdown",
   "metadata": {},
   "source": [
    "## Variable Metadata"
   ]
  },
  {
   "cell_type": "markdown",
   "metadata": {},
   "source": [
    "### Read"
   ]
  },
  {
   "cell_type": "code",
   "execution_count": 4,
   "metadata": {},
   "outputs": [],
   "source": [
    "def read_netCDF_metadata(self, variables=None, attributes=None):\n",
    "    \"\"\"\n",
    "    Get metadata for variables.\n",
    "\n",
    "    Args:\n",
    "        variables (list): List of variable names. If None, metadata for all variables will be retrieved.\n",
    "        attributes (list): List of attribute names. If None, all attributes will be retrieved.\n",
    "\n",
    "    Returns:\n",
    "        None\n",
    "    \"\"\"\n",
    "    def read_variable_metadata(var_name, var):\n",
    "        \"\"\"\n",
    "        Print metadata for a variable.\n",
    "\n",
    "        Args:\n",
    "            var_name (str): Name of the variable.\n",
    "            var (Variable): Variable object.\n",
    "\n",
    "        Returns:\n",
    "            None\n",
    "        \"\"\"\n",
    "        print(f\"Variable: {var_name}\")\n",
    "        if not var.attrs:\n",
    "            if var.values is not None:\n",
    "                print(f\"    Values: {var.values}\")\n",
    "            else:\n",
    "                print(\"No values were found\")\n",
    "            print(\"    No attributes were found for this variable.\")\n",
    "        else:\n",
    "            print(f\"    Values: {var.values}\")\n",
    "            print(\"    Attributes:\")\n",
    "            for key, value in var.attrs.items():\n",
    "                if attributes is None or key in attributes:\n",
    "                    print(f\"     {key}: {value}\")\n",
    "\n",
    "    if variables is None:\n",
    "        variables = get_file_variables(self)\n",
    "    for var_name in variables:\n",
    "        try:\n",
    "            coord_var = self.coords[var_name]\n",
    "            read_variable_metadata(var_name, coord_var)\n",
    "        except (KeyError, AttributeError) as e:\n",
    "            print(f\"Error occurred while retrieving metadata for variable {var_name}: {str(e)}\")"
   ]
  },
  {
   "cell_type": "markdown",
   "metadata": {},
   "source": [
    "### Insert"
   ]
  },
  {
   "cell_type": "markdown",
   "metadata": {},
   "source": [
    "#### Input"
   ]
  },
  {
   "cell_type": "code",
   "execution_count": 5,
   "metadata": {},
   "outputs": [],
   "source": [
    "def insert_netCDF_metadata_input(self, variables=None, attributes=None, new_file=False, filename=\"new_file.nc\",):\n",
    "    \"\"\"\n",
    "    This function prompts the user to input metadata for the specified variables in a netCDF file.\n",
    "    \n",
    "    Parameters:\n",
    "    - filename (str): Name of the netCDF file.\n",
    "    - variables (list): List of variable names. If None, all coordinate variables are used.\n",
    "    - attributes (list): List of attribute names. If None, default attributes are used.\n",
    "    - new_file (bool): If True, a new netCDF file is created. If False, the existing file is used.\n",
    "    \n",
    "    Raises:\n",
    "    - KeyError: If a variable was not found.\n",
    "    - FileExistsError: If the specified file already exists.\n",
    "    - ValueError: If the filename is invalid.\n",
    "    \"\"\"\n",
    "    \n",
    "    # Define default attributes if not provided\n",
    "    default_attributes = [\n",
    "        \"Units\", \"Long_Name\", \"Standard_Name/Short_Name\", \n",
    "        \"Valid_Min\", \"Valid_Max\", \"Missing_Value\", \n",
    "        \"Fill_Value\", \"Scale_Factor\", \"Add_Offset\", \n",
    "        \"Coordinates\", \"Axis\", \"Description\"\n",
    "    ]\n",
    "    if attributes is None:\n",
    "        attributes = default_attributes\n",
    "\n",
    "    if variables is None:\n",
    "        variables = get_file_variables(self)\n",
    "\n",
    "    for coord_name in variables:\n",
    "        try:\n",
    "            for attribute in attributes:\n",
    "                self[coord_name].attrs[attribute] = input(f\"{coord_name}: {attribute} - Enter value: \")\n",
    "        except KeyError as e:\n",
    "            raise KeyError(f\"Variable {coord_name} not found.\") from e\n",
    "    if new_file:\n",
    "        export_to_file(self,filename)\n",
    "    read_netCDF_metadata(self)"
   ]
  },
  {
   "cell_type": "markdown",
   "metadata": {},
   "source": [
    "#### Dictionary"
   ]
  },
  {
   "cell_type": "code",
   "execution_count": 6,
   "metadata": {},
   "outputs": [],
   "source": [
    "def insert_netCDF_metadata_dict(self, dictionary, variables=None, new_file=False, filename=\"new_file.nc\"):\n",
    "    \"\"\"\n",
    "    Insert metadata into a netCDF file using a dictionary.\n",
    "\n",
    "    Parameters:\n",
    "    - self: The netCDF object.\n",
    "    - dictionary: A dictionary containing the metadata to be inserted.\n",
    "    - filename: The name of the netCDF file to be created or modified.\n",
    "    - variables: A list of variables to insert the metadata into. If None, all variables will be used.\n",
    "    - new_file: If True, a new file will be created. If False, the metadata will be inserted into an existing file.\n",
    "\n",
    "    Raises:\n",
    "    - ValueError: If dictionary is None.\n",
    "    - AttributeError: If dictionary is not a dictionary.\n",
    "    - FileExistsError: If the specified file already exists.\n",
    "    - ValueError: If the filename is invalid.\n",
    "\n",
    "    Returns:\n",
    "    - None\n",
    "    \"\"\"\n",
    "    if dictionary is None:\n",
    "        raise ValueError(\"Please provide a dictionary.\")\n",
    "    if variables is None:\n",
    "        variables = get_file_variables(self)\n",
    "    if isinstance(dictionary, dict):\n",
    "        for var in variables:\n",
    "            for key, value in dictionary.items():\n",
    "                self[var].attrs[key] = value\n",
    "    else:\n",
    "        raise AttributeError(f\"{dictionary} is not a dictionary.\")\n",
    "    if new_file:\n",
    "        export_to_file(self,filename)\n",
    "    read_netCDF_metadata(self)"
   ]
  },
  {
   "cell_type": "markdown",
   "metadata": {},
   "source": [
    "#### Json"
   ]
  },
  {
   "cell_type": "code",
   "execution_count": 7,
   "metadata": {},
   "outputs": [],
   "source": [
    "def insert_netCDF_metadata_json(self, json_file, new_file=False, filename=\"new_file.nc\"):\n",
    "    \"\"\"\n",
    "    Inserts metadata from a JSON file into a netCDF file.\n",
    "\n",
    "    Args:\n",
    "        self: The instance of the class that the function belongs to.\n",
    "        json_file (str): The path to the JSON file containing the metadata.\n",
    "        new_file (bool, optional): A boolean flag indicating whether a new netCDF file should be created. Defaults to False.\n",
    "        filename (str, optional): The name of the new netCDF file. Defaults to \"new_file.nc\".\n",
    "\n",
    "    Raises:\n",
    "        FileNotFoundError: If the specified filename already exists.\n",
    "\n",
    "    Returns:\n",
    "        None: The function modifies the attributes of the netCDF file directly.\n",
    "    \"\"\"\n",
    "    schema = {\n",
    "        \"type\": \"object\",\n",
    "        \"patternProperties\": {\n",
    "            \".*\": {\n",
    "                \"type\": \"object\",\n",
    "                \"patternProperties\": {\n",
    "                    \".*\": {\n",
    "                        \"type\": \"string\",\n",
    "                    }\n",
    "                }\n",
    "            },\n",
    "            \"additionalProperties\": False\n",
    "            }   \n",
    "        }   \n",
    "    try:\n",
    "        with open(json_file, 'r') as file:\n",
    "            metadata = json.load(file)\n",
    "    except IOError:\n",
    "        raise IOError(\"Error opening JSON file. Please check if the file exists or if there are any permission issues.\")\n",
    "    try:\n",
    "        # Validate JSON against schema\n",
    "        jsonschema.validate(instance=metadata, schema=schema)\n",
    "    except ValidationError as e:\n",
    "        raise ValidationError(str(e))\n",
    "    for var, attributes in metadata.items():\n",
    "        for attr, value in attributes.items():\n",
    "            self[var].attrs[attr] = value    \n",
    "    if new_file:\n",
    "        export_to_file(self,filename)\n",
    "    read_netCDF_metadata(self)"
   ]
  },
  {
   "cell_type": "markdown",
   "metadata": {},
   "source": [
    "#### All"
   ]
  },
  {
   "cell_type": "code",
   "execution_count": 8,
   "metadata": {},
   "outputs": [],
   "source": [
    "def insert_netCDF_metadata(self, via=\"input\", **kwargs):\n",
    "    \"\"\"\n",
    "    Insert metadata into the netCDF file.\n",
    "\n",
    "    Parameters:\n",
    "        via (str, optional): The method of providing metadata. Can be \"dict\", \"json\", or \"input\". Defaults to \"input\".\n",
    "        **kwargs: Additional keyword arguments for the specific method.\n",
    "\n",
    "    Raises:\n",
    "        ValueError: If `via` is not a valid metadata input.\n",
    "    \"\"\"\n",
    "    via_lower = via.lower()\n",
    "    try:\n",
    "        if via_lower == \"dict\":\n",
    "            insert_netCDF_metadata_dict(self, **kwargs)\n",
    "        elif via_lower == \"json\":\n",
    "            insert_netCDF_metadata_json(self, **kwargs)\n",
    "        elif via_lower == \"input\":\n",
    "            insert_netCDF_metadata_input(self, **kwargs)\n",
    "        else:\n",
    "            raise ValueError(f\"{via} is not a valid metadata input.\")\n",
    "    except Exception as e:\n",
    "        raise ValueError(f\"Error inserting netCDF metadata: {str(e)}\")"
   ]
  },
  {
   "cell_type": "markdown",
   "metadata": {},
   "source": [
    "## Global Metadata"
   ]
  },
  {
   "cell_type": "markdown",
   "metadata": {},
   "source": [
    "### Read"
   ]
  },
  {
   "cell_type": "code",
   "execution_count": 9,
   "metadata": {},
   "outputs": [],
   "source": [
    "def get_attrs(self):\n",
    "    return self.attrs\n",
    "\n",
    "def read_global_metadata(self, attributes=None):\n",
    "    \"\"\"\n",
    "    Print the global metadata attributes of the dataset.\n",
    "\n",
    "    Args:\n",
    "        attributes (list): List of attribute names to print. If None, all attributes will be printed.\n",
    "    \"\"\"\n",
    "    attrs = get_attrs(self)\n",
    "    if not attrs:\n",
    "        print(\"No Global Attributes were found.\")\n",
    "    else:\n",
    "        if attributes is None:\n",
    "            for attr_name, attr_value in attrs.items():\n",
    "                print(attr_name, \":\", attr_value)\n",
    "        else:\n",
    "            for attr_name, attr_value in attrs.items():\n",
    "                if attr_name in attributes:\n",
    "                    print(attr_name, \":\", attr_value)"
   ]
  },
  {
   "cell_type": "markdown",
   "metadata": {},
   "source": [
    "### Insert"
   ]
  },
  {
   "cell_type": "markdown",
   "metadata": {},
   "source": [
    "#### Input"
   ]
  },
  {
   "cell_type": "code",
   "execution_count": 10,
   "metadata": {},
   "outputs": [],
   "source": [
    "def insert_netCDF_global_metadata_input(self, attributes=None, new_file=False, filename=\"new_file.nc\"):\n",
    "    \"\"\"\n",
    "    Insert global netCDF metadata attributes.\n",
    "\n",
    "    Args:\n",
    "        attributes (list): List of attributes to insert. If None, default attributes will be used.\n",
    "\n",
    "    Returns:\n",
    "        None\n",
    "    \"\"\"\n",
    "    default_attributes = [\n",
    "        \"Title\", \"Institution\", \"Source\",\n",
    "        \"History\", \"References\", \"Conventions\",\n",
    "        \"Creator_Author\", \"Project\", \"Description\"\n",
    "    ]\n",
    "    if attributes is None:\n",
    "        attributes = default_attributes\n",
    "    try:\n",
    "        if not isinstance(attributes, list):\n",
    "            raise ValueError(\"attributes must be a list\")\n",
    "        for attribute in attributes:\n",
    "            if not isinstance(attribute, str):\n",
    "                raise ValueError(\"attributes must contain only strings\")\n",
    "            self.attrs[attribute] = input(f\"{attribute} - Enter value: \")\n",
    "    except ValueError as e:\n",
    "        print(f\"An error occurred: {e}\")\n",
    "    if new_file:\n",
    "        export_to_file(self, filename)"
   ]
  },
  {
   "cell_type": "markdown",
   "metadata": {},
   "source": [
    "#### Dictionary"
   ]
  },
  {
   "cell_type": "code",
   "execution_count": 11,
   "metadata": {},
   "outputs": [],
   "source": [
    "def insert_netCDF_global_metadata_dict(self, dictionary, new_file=False, filename=\"new_file.nc\"):\n",
    "    \"\"\"\n",
    "    Inserts a dictionary of global netCDF metadata into a netCDF file.\n",
    "\n",
    "    Args:\n",
    "        self: The instance of the class that the function belongs to.\n",
    "        dictionary (dict): The dictionary of global netCDF metadata to be inserted.\n",
    "        new_file (bool, optional): A boolean flag indicating whether to create a new netCDF file or not. Default is True.\n",
    "        filename (str, optional): The name of the new netCDF file to be created. Default is \"new_file.nc\".\n",
    "\n",
    "    Raises:\n",
    "        TypeError: If the dictionary parameter is not a valid dictionary.\n",
    "        FileNotFoundError: If the filename is invalid.\n",
    "        FileExistsError: If the specified filename already exists.\n",
    "\n",
    "    Returns:\n",
    "        None. The function doesn't return any value.\n",
    "    \"\"\"\n",
    "    if not isinstance(dictionary, dict):\n",
    "        raise TypeError(f\"{dictionary} is not a dictionary.\")\n",
    "    \n",
    "    for key, value in dictionary.items():\n",
    "        self.attrs[key] = value\n",
    "    if new_file:\n",
    "        export_to_file(self, filename)"
   ]
  },
  {
   "cell_type": "markdown",
   "metadata": {},
   "source": [
    "#### Json"
   ]
  },
  {
   "cell_type": "code",
   "execution_count": 12,
   "metadata": {},
   "outputs": [],
   "source": [
    "def insert_netCDF_global_metadata_json(self, json_file, new_file=False, filename=\"new_file.nc\"):\n",
    "    \"\"\"\n",
    "    Inserts global metadata from a JSON file into a netCDF file.\n",
    "\n",
    "    Args:\n",
    "        self: The instance of the class calling the function.\n",
    "        json_file (str): The path to the JSON file containing the metadata.\n",
    "        new_file (bool, optional): Indicates whether a new netCDF file should be created. Default is False.\n",
    "        filename (str, optional): Specifies the name of the new netCDF file. Default is \"new_file.nc\".\n",
    "\n",
    "    Raises:\n",
    "        FileNotFoundError: If there is an error opening the JSON file.\n",
    "        json.JSONDecodeError: If there is an error decoding the JSON file.\n",
    "        ValueError: If the filename is invalid.\n",
    "        FileExistsError: If the filename already exists.\n",
    "        ValidationError: If the JSON file does not match the specified schema.\n",
    "\n",
    "    Returns:\n",
    "        None\n",
    "    \"\"\"\n",
    "    schema = {\n",
    "        \"type\": \"object\",\n",
    "        \"patternProperties\": {\n",
    "            \".*\": { \"type\": \"string\" }\n",
    "        },\n",
    "        \"additionalProperties\": False\n",
    "    }\n",
    "\n",
    "    try:\n",
    "        with open(json_file, 'r') as file:\n",
    "            metadata = json.load(file)\n",
    "    except FileNotFoundError:\n",
    "        raise FileNotFoundError(\"Error opening JSON file. Please check if the file exists or if there are any permission issues.\")\n",
    "    except json.JSONDecodeError:\n",
    "        raise json.JSONDecodeError(\"Error decoding JSON file. Please check if the file contains valid JSON.\")\n",
    "    \n",
    "    try:\n",
    "        # Validate JSON against schema\n",
    "        jsonschema.validate(instance=metadata, schema=schema)\n",
    "    except ValidationError as e:\n",
    "        raise ValidationError(str(e))\n",
    "    if new_file:\n",
    "        export_to_file(self, filename)"
   ]
  },
  {
   "cell_type": "markdown",
   "metadata": {},
   "source": [
    "# Parquet"
   ]
  },
  {
   "cell_type": "markdown",
   "metadata": {},
   "source": [
    "### Read"
   ]
  },
  {
   "cell_type": "code",
   "execution_count": 99,
   "metadata": {},
   "outputs": [],
   "source": [
    "def read_parquet_metadata(self, attributes=None, cols=None):\n",
    "    \"\"\"\n",
    "    Reads the metadata of a Parquet file and prints the attributes of each column.\n",
    "\n",
    "    Args:\n",
    "        attributes (list, optional): A list of attributes to filter the metadata. If not provided, all attributes will be printed.\n",
    "        cols (list, optional): A list of column names to filter the columns. If not provided, metadata of all columns will be printed.\n",
    "\n",
    "    Returns:\n",
    "        None\n",
    "\n",
    "    Example Usage:\n",
    "        # Example 1: Read metadata of all columns\n",
    "        read_parquet_metadata()\n",
    "\n",
    "        # Example 2: Read metadata of specific columns\n",
    "        read_parquet_metadata(cols=['column1', 'column2'])\n",
    "\n",
    "        # Example 3: Read metadata of specific attributes\n",
    "        read_parquet_metadata(attributes=['attribute1', 'attribute2'])\n",
    "\n",
    "        # Example 4: Read metadata of specific columns and attributes\n",
    "        read_parquet_metadata(cols=['column1', 'column2'], attributes=['attribute1', 'attribute2'])\n",
    "    \"\"\"\n",
    "    if isinstance(self, pd.DataFrame):\n",
    "        self = pa.Table.from_pandas(self)\n",
    "    if cols is None:\n",
    "        for i in range(self.num_columns):\n",
    "            field = self.field(i)\n",
    "            col = field.name\n",
    "            print(col)\n",
    "            if field.metadata is None:\n",
    "                print(\"    No attributes were found for this column.\")\n",
    "            else:\n",
    "                metadata = {key.decode('utf-8'): value.decode('utf-8') for key, value in field.metadata.items()}\n",
    "                for key, value in metadata.items():\n",
    "                    if attributes is None or key in attributes:\n",
    "                        print(f\"    {key}: {value}\")\n",
    "    else:\n",
    "        for i in range(self.num_columns):\n",
    "            field = self.field(i)\n",
    "            col = field.name\n",
    "            if col in cols:\n",
    "                print(col)\n",
    "                if field.metadata is None:\n",
    "                    print(\"    No attributes were found for this column.\")\n",
    "                else:\n",
    "                    metadata = {key.decode('utf-8'): value.decode('utf-8') for key, value in field.metadata.items()}\n",
    "                    if attributes:\n",
    "                        for attr in attributes:\n",
    "                            if attr in metadata:\n",
    "                                print(f\"    {attr}: {metadata[attr]}\")\n",
    "                            else:\n",
    "                                print(f\"    The '{attr}' attribute was not found in this column's metadata.\")\n",
    "                    else:\n",
    "                        for key, value in metadata.items():\n",
    "                            print(f\"    {key}: {value}\") \n",
    "        # TODO: Check why the else statement is much bigger than the if statement"
   ]
  },
  {
   "cell_type": "markdown",
   "metadata": {},
   "source": [
    "### Insert"
   ]
  },
  {
   "cell_type": "markdown",
   "metadata": {},
   "source": [
    "#### Input"
   ]
  },
  {
   "cell_type": "code",
   "execution_count": 14,
   "metadata": {},
   "outputs": [],
   "source": [
    "def insert_parquet_metadata_input(self, attributes=None, cols=None, new_file=False, filename=\"new_file.parquet\"):\n",
    "    \"\"\"\n",
    "    Inserts metadata into a Parquet file.\n",
    "\n",
    "    Args:\n",
    "        attributes (list, optional): A list of attribute names to be used as metadata keys. Default value is ['Description', 'Units', 'Data Source', 'Valid Range or Categories'].\n",
    "        cols (list, optional): A list of column names for which metadata needs to be inserted. Default value is all the columns in the DataFrame.\n",
    "\n",
    "    Returns:\n",
    "        pyarrow.Table: A Parquet table with metadata inserted.\n",
    "    \"\"\"\n",
    "    default_attributes = ['Description', 'Units', 'Data Source', 'Valid Range or Categories']\n",
    "    if attributes is None:\n",
    "        attributes = default_attributes\n",
    "    if cols is None:\n",
    "        cols = list(self.columns)  # Suggestion 1: Use list(self.columns) instead of self.columns.tolist()\n",
    "    metadata = []\n",
    "    columns = self.columns  # Suggestion 2: Store self.columns in a variable\n",
    "    cols_set = set(cols)  # Suggestion 3: Convert cols to a set for faster lookup\n",
    "    for col in columns:\n",
    "        if col in cols_set:\n",
    "            col_metadata = {}\n",
    "            for attribute in attributes:\n",
    "                data = input(f\"{col}: {attribute} - Enter value: \")\n",
    "                col_metadata[attribute] = data\n",
    "            metadata.append(col_metadata)\n",
    "        else:\n",
    "            metadata.append(None)\n",
    "    dtypes = self.dtypes  # Suggestion 4: Get all column data types at once\n",
    "    dtypes = [\"string\" if dtype == \"category\" else str(dtype) for dtype in dtypes]\n",
    "    cols_dtypes = zip(columns, dtypes, metadata)\n",
    "    schema = [pa.field(col, pa.type_for_alias(dtype), metadata=meta) for col, dtype, meta in cols_dtypes]\n",
    "    table_schema = pa.schema(schema)\n",
    "    table = pa.Table.from_pandas(self, schema=table_schema)\n",
    "    if new_file:\n",
    "        export_to_file(table, filename)\n",
    "    return table"
   ]
  },
  {
   "cell_type": "markdown",
   "metadata": {},
   "source": [
    "#### Dictionary"
   ]
  },
  {
   "cell_type": "code",
   "execution_count": 15,
   "metadata": {},
   "outputs": [],
   "source": [
    "def insert_parquet_metadata_dict(self, dictionary, cols=None, new_file=False, filename=\"new_file.parquet\"):\n",
    "    \"\"\"\n",
    "    Insert metadata into a netCDF file using a dictionary.\n",
    "\n",
    "    Parameters:\n",
    "    - self: The netCDF object.\n",
    "    - dictionary: A dictionary containing the metadata to be inserted.\n",
    "    - filename: The name of the netCDF file to be created or modified.\n",
    "    - variables: A list of variables to insert the metadata into. If None, all variables will be used.\n",
    "    - new_file: If True, a new file will be created. If False, the metadata will be inserted into an existing file.\n",
    "\n",
    "    Raises:\n",
    "    - ValueError: If dictionary is None.\n",
    "    - AttributeError: If dictionary is not a dictionary.\n",
    "    - FileExistsError: If the specified file already exists.\n",
    "    - ValueError: If the filename is invalid.\n",
    "\n",
    "    Returns:\n",
    "    - None\n",
    "    \"\"\"\n",
    "    if dictionary is None:\n",
    "        raise ValueError(\"Please provide a dictionary.\")\n",
    "    if cols is None:\n",
    "        cols = list(self.columns)\n",
    "    columns = self.columns  # Suggestion 2: Store self.columns in a variable\n",
    "    dtypes = self.dtypes  # Suggestion 4: Get all column data types at once\n",
    "    dtypes = [\"string\" if dtype == \"category\" else str(dtype) for dtype in dtypes]\n",
    "    metadata = []\n",
    "    if isinstance(dictionary, dict):\n",
    "        cols_set = set(cols)  # Suggestion 3: Convert cols to a set for faster lookup\n",
    "        for col in columns:\n",
    "            if col in cols_set:\n",
    "                metadata.append(dictionary)\n",
    "            else:\n",
    "                metadata.append(None)\n",
    "        cols_dtypes = zip(columns, dtypes, metadata)\n",
    "        schema = [pa.field(col, pa.type_for_alias(dtype), metadata=meta) for col, dtype, meta in cols_dtypes]\n",
    "        table_schema = pa.schema(schema)\n",
    "        table = pa.Table.from_pandas(self, schema=table_schema)\n",
    "        if new_file:\n",
    "            export_to_file(table, filename)\n",
    "        return table  \n",
    "    else:\n",
    "        raise AttributeError(f\"{dictionary} is not a dictionary.\")  "
   ]
  },
  {
   "cell_type": "markdown",
   "metadata": {},
   "source": [
    "#### Json"
   ]
  },
  {
   "cell_type": "code",
   "execution_count": 104,
   "metadata": {},
   "outputs": [],
   "source": [
    "def insert_parquet_metadata_json(self, json_file, new_file=False, filename=\"new_file.parquet\"):\n",
    "    \"\"\"\n",
    "    Inserts metadata from a JSON file into a netCDF file.\n",
    "\n",
    "    Args:\n",
    "        self: The instance of the class that the function belongs to.\n",
    "        json_file (str): The path to the JSON file containing the metadata.\n",
    "        new_file (bool, optional): A boolean flag indicating whether a new netCDF file should be created. Defaults to False.\n",
    "        filename (str, optional): The name of the new netCDF file. Defaults to \"new_file.nc\".\n",
    "\n",
    "    Raises:\n",
    "        FileNotFoundError: If the specified filename already exists.\n",
    "\n",
    "    Returns:\n",
    "        None: The function modifies the attributes of the netCDF file directly.\n",
    "    \"\"\"\n",
    "    schema = {\n",
    "    \"type\": \"object\",\n",
    "    \"patternProperties\": {\n",
    "        \".*\": {\n",
    "            \"type\": \"object\",\n",
    "            \"patternProperties\": {\n",
    "                \".*\": {\n",
    "                    \"type\": \"string\",\n",
    "                }\n",
    "            }\n",
    "        },\n",
    "        \"additionalProperties\": False\n",
    "        }   \n",
    "    }   \n",
    "    try:\n",
    "        with open(json_file, 'r') as file:\n",
    "            json_data = json.load(file)\n",
    "    except IOError:\n",
    "        raise IOError(\"Error opening JSON file. Please check if the file exists or if there are any permission issues.\")\n",
    "    try:\n",
    "        # Validate JSON against schema\n",
    "        jsonschema.validate(instance=json_data, schema=schema)\n",
    "    except ValidationError as e:\n",
    "        raise ValidationError(str(e))\n",
    "    cols_dtypes = get_df_cols_dtypes(self)\n",
    "    cols_dtypes = [[col, \"string\"] if dtype == \"category\" else [col, str(dtype)] for col, dtype in cols_dtypes]\n",
    "    metadata = []\n",
    "    for col in cols_dtypes:\n",
    "        if col[0] in json_data:\n",
    "            col_metadata = json_data[col[0]]\n",
    "            metadata.append(col_metadata)\n",
    "        else:\n",
    "            metadata.append(None)\n",
    "    cols_dtypes = zip(cols_dtypes, metadata)\n",
    "    schema = [pa.field(col_dtype[0], pa.type_for_alias(col_dtype[1]), metadata=meta) for col_dtype, meta in cols_dtypes]\n",
    "    table_schema = pa.schema(schema)\n",
    "    table = pa.Table.from_pandas(self, schema=table_schema)\n",
    "    if new_file:\n",
    "        export_to_file(table, filename)\n",
    "    return table"
   ]
  },
  {
   "cell_type": "markdown",
   "metadata": {},
   "source": [
    "# Export to File"
   ]
  },
  {
   "cell_type": "code",
   "execution_count": 17,
   "metadata": {},
   "outputs": [],
   "source": [
    "def get_file_extension(filename):\n",
    "    suffix = pathlib.Path(filename).suffix\n",
    "    return suffix"
   ]
  },
  {
   "cell_type": "code",
   "execution_count": 18,
   "metadata": {},
   "outputs": [],
   "source": [
    "def export_to_file(self, filename):\n",
    "    suffixs = [\".nc\", \".parquet\"]\n",
    "    if not os.path.isfile(filename):\n",
    "        if get_file_extension(filename) in suffixs:\n",
    "            if get_file_extension(filename) == \".nc\":\n",
    "                self.to_netcdf(filename)\n",
    "            elif get_file_extension(filename) == \".parquet\":\n",
    "                pq.write_table(self, filename, compression=None)        \n",
    "        else:\n",
    "            raise ValueError(f\"Invalid file extension. Please provide a valid filename. Valid file extesions {suffixs}.\")\n",
    "    else:\n",
    "        raise FileExistsError(f\"{filename} already exists. Please change it or delete it.\")"
   ]
  },
  {
   "cell_type": "code",
   "execution_count": 24,
   "metadata": {},
   "outputs": [],
   "source": [
    "def get_file_variables(self):\n",
    "    variables = list(self.variables.keys())\n",
    "    return variables"
   ]
  },
  {
   "cell_type": "code",
   "execution_count": 41,
   "metadata": {},
   "outputs": [],
   "source": [
    "def get_df_dtypes(self):\n",
    "    dtypes = (str(dtype) for dtype in self.dtypes)\n",
    "    return dtypes"
   ]
  },
  {
   "cell_type": "code",
   "execution_count": 28,
   "metadata": {},
   "outputs": [],
   "source": [
    "def get_df_cols(self):\n",
    "    cols = list(self.columns)\n",
    "    return cols"
   ]
  },
  {
   "cell_type": "code",
   "execution_count": 38,
   "metadata": {},
   "outputs": [],
   "source": [
    "def get_df_cols_dtypes(self):\n",
    "    cols = get_df_cols(self)\n",
    "    dtypes = get_df_dtypes(self)\n",
    "    cols_dtypes = list(zip(cols, dtypes))\n",
    "    return cols_dtypes"
   ]
  },
  {
   "cell_type": "code",
   "execution_count": 106,
   "metadata": {},
   "outputs": [
    {
     "data": {
      "text/plain": [
       "12776"
      ]
     },
     "execution_count": 106,
     "metadata": {},
     "output_type": "execute_result"
    }
   ],
   "source": [
    "def get_file_memory_usage(file_path):\n",
    "    if os.path.exists(file_path):\n",
    "        file_stats = os.stat(file_path)\n",
    "        memory_usage = file_stats.st_size\n",
    "        return memory_usage\n",
    "    else:\n",
    "        return -1  # File doesn't exist\n",
    "get_file_memory_usage(\"./aa.parquet\")"
   ]
  },
  {
   "cell_type": "code",
   "execution_count": 18,
   "metadata": {},
   "outputs": [
    {
     "data": {
      "text/plain": [
       "'Age'"
      ]
     },
     "execution_count": 18,
     "metadata": {},
     "output_type": "execute_result"
    }
   ],
   "source": [
    "df = pd.read_parquet(\"./aa.parquet\")\n",
    "df.memory_usage().idxmax()"
   ]
  },
  {
   "cell_type": "code",
   "execution_count": 19,
   "metadata": {},
   "outputs": [
    {
     "data": {
      "text/plain": [
       "1243"
      ]
     },
     "execution_count": 19,
     "metadata": {},
     "output_type": "execute_result"
    }
   ],
   "source": [
    "df['Gender'].memory_usage(deep=True)"
   ]
  },
  {
   "cell_type": "code",
   "execution_count": 22,
   "metadata": {},
   "outputs": [
    {
     "name": "stdout",
     "output_type": "stream",
     "text": [
      "<class 'dict'>\n"
     ]
    },
    {
     "data": {
      "text/html": [
       "<div>\n",
       "<style scoped>\n",
       "    .dataframe tbody tr th:only-of-type {\n",
       "        vertical-align: middle;\n",
       "    }\n",
       "\n",
       "    .dataframe tbody tr th {\n",
       "        vertical-align: top;\n",
       "    }\n",
       "\n",
       "    .dataframe thead th {\n",
       "        text-align: right;\n",
       "    }\n",
       "</style>\n",
       "<table border=\"1\" class=\"dataframe\">\n",
       "  <thead>\n",
       "    <tr style=\"text-align: right;\">\n",
       "      <th></th>\n",
       "      <th>Col</th>\n",
       "      <th>Memory Usage</th>\n",
       "    </tr>\n",
       "  </thead>\n",
       "  <tbody>\n",
       "    <tr>\n",
       "      <th>0</th>\n",
       "      <td>Gender</td>\n",
       "      <td>1243</td>\n",
       "    </tr>\n",
       "  </tbody>\n",
       "</table>\n",
       "</div>"
      ],
      "text/plain": [
       "      Col  Memory Usage\n",
       "0  Gender          1243"
      ]
     },
     "execution_count": 22,
     "metadata": {},
     "output_type": "execute_result"
    }
   ],
   "source": [
    "teste = {\"Col\": [\"Gender\"], \"Memory Usage\": [df['Gender'].memory_usage(deep=True)]}\n",
    "print(type(teste))\n",
    "teste = pd.DataFrame(data=teste)\n",
    "teste.head()"
   ]
  },
  {
   "cell_type": "code",
   "execution_count": 33,
   "metadata": {},
   "outputs": [
    {
     "data": {
      "text/html": [
       "<div>\n",
       "<style scoped>\n",
       "    .dataframe tbody tr th:only-of-type {\n",
       "        vertical-align: middle;\n",
       "    }\n",
       "\n",
       "    .dataframe tbody tr th {\n",
       "        vertical-align: top;\n",
       "    }\n",
       "\n",
       "    .dataframe thead th {\n",
       "        text-align: right;\n",
       "    }\n",
       "</style>\n",
       "<table border=\"1\" class=\"dataframe\">\n",
       "  <thead>\n",
       "    <tr style=\"text-align: right;\">\n",
       "      <th></th>\n",
       "      <th>Column</th>\n",
       "      <th>Memory</th>\n",
       "    </tr>\n",
       "  </thead>\n",
       "  <tbody>\n",
       "    <tr>\n",
       "      <th>0</th>\n",
       "      <td>Gender</td>\n",
       "      <td>1243</td>\n",
       "    </tr>\n",
       "    <tr>\n",
       "      <th>1</th>\n",
       "      <td>Age</td>\n",
       "      <td>7256</td>\n",
       "    </tr>\n",
       "    <tr>\n",
       "      <th>2</th>\n",
       "      <td>Siblings_on_Board</td>\n",
       "      <td>1019</td>\n",
       "    </tr>\n",
       "    <tr>\n",
       "      <th>3</th>\n",
       "      <td>Parents_on_Board</td>\n",
       "      <td>1019</td>\n",
       "    </tr>\n",
       "    <tr>\n",
       "      <th>4</th>\n",
       "      <td>Ticket_Price</td>\n",
       "      <td>7256</td>\n",
       "    </tr>\n",
       "    <tr>\n",
       "      <th>5</th>\n",
       "      <td>Port_of_Embarkation</td>\n",
       "      <td>1328</td>\n",
       "    </tr>\n",
       "    <tr>\n",
       "      <th>6</th>\n",
       "      <td>Class</td>\n",
       "      <td>1314</td>\n",
       "    </tr>\n",
       "    <tr>\n",
       "      <th>7</th>\n",
       "      <td>Adult/Child</td>\n",
       "      <td>1251</td>\n",
       "    </tr>\n",
       "    <tr>\n",
       "      <th>8</th>\n",
       "      <td>Alone</td>\n",
       "      <td>1019</td>\n",
       "    </tr>\n",
       "    <tr>\n",
       "      <th>9</th>\n",
       "      <td>Survived</td>\n",
       "      <td>7256</td>\n",
       "    </tr>\n",
       "  </tbody>\n",
       "</table>\n",
       "</div>"
      ],
      "text/plain": [
       "                Column  Memory\n",
       "0               Gender    1243\n",
       "1                  Age    7256\n",
       "2    Siblings_on_Board    1019\n",
       "3     Parents_on_Board    1019\n",
       "4         Ticket_Price    7256\n",
       "5  Port_of_Embarkation    1328\n",
       "6                Class    1314\n",
       "7          Adult/Child    1251\n",
       "8                Alone    1019\n",
       "9             Survived    7256"
      ]
     },
     "execution_count": 33,
     "metadata": {},
     "output_type": "execute_result"
    }
   ],
   "source": [
    "dataframe = []\n",
    "for col in df.columns:\n",
    "    col_info = [col, df[col].memory_usage(deep=True)]\n",
    "    dataframe.append(col_info)\n",
    "dataframe = pd.DataFrame(dataframe, columns=['Column', 'Memory'])\n",
    "dataframe.head(10)"
   ]
  },
  {
   "cell_type": "markdown",
   "metadata": {},
   "source": [
    "# Testing"
   ]
  },
  {
   "cell_type": "markdown",
   "metadata": {},
   "source": [
    "## netCDF"
   ]
  },
  {
   "cell_type": "code",
   "execution_count": 19,
   "metadata": {},
   "outputs": [],
   "source": [
    "# df = xr.open_dataset(\"example.nc\")\n",
    "# read_netCDF_metadata(df)"
   ]
  },
  {
   "cell_type": "code",
   "execution_count": 20,
   "metadata": {},
   "outputs": [],
   "source": [
    "# variables = [\"lat\", \"lon\"]\n",
    "# attributes= [\"Units\"]\n",
    "# insert_netCDF_metadata(df, via=\"input\", variables=variables, attributes=attributes, new_file=True, filename=\"wdwee.nbc\")"
   ]
  },
  {
   "cell_type": "code",
   "execution_count": 21,
   "metadata": {},
   "outputs": [],
   "source": [
    "# wdwee = xr.open_dataset(\"wdwee.nc\")\n",
    "# read_netCDF_metadata(wdwee)"
   ]
  },
  {
   "cell_type": "markdown",
   "metadata": {},
   "source": [
    "## Parquet"
   ]
  },
  {
   "cell_type": "code",
   "execution_count": 22,
   "metadata": {},
   "outputs": [],
   "source": [
    "# df = pq.read_table(\"./updated_Titanic.parquet\")\n",
    "# read_parquet_metadata(df)"
   ]
  },
  {
   "cell_type": "code",
   "execution_count": 105,
   "metadata": {},
   "outputs": [
    {
     "name": "stdout",
     "output_type": "stream",
     "text": [
      "Gender\n",
      "    units: Celsius\n",
      "    description: Temperature dwd\n",
      "Age\n",
      "    No attributes were found for this column.\n",
      "Siblings_on_Board\n",
      "    No attributes were found for this column.\n",
      "Parents_on_Board\n",
      "    No attributes were found for this column.\n",
      "Ticket_Price\n",
      "    No attributes were found for this column.\n",
      "Port_of_Embarkation\n",
      "    No attributes were found for this column.\n",
      "Class\n",
      "    No attributes were found for this column.\n",
      "Adult/Child\n",
      "    No attributes were found for this column.\n",
      "Alone\n",
      "    units: Pascal\n",
      "    description: Pressure readings\n",
      "Survived\n",
      "    No attributes were found for this column.\n"
     ]
    }
   ],
   "source": [
    "df = pd.read_parquet(\"./Titanic.parquet\")\n",
    "# get_df_cols_dtypes(df)\n",
    "#df = insert_parquet_metadata_json(df, \"./bosses.json\", True, \"ddwd.parquet\")\n",
    "df = pq.read_table(\"./ddwd.parquet\")\n",
    "read_parquet_metadata(df)"
   ]
  },
  {
   "cell_type": "code",
   "execution_count": 25,
   "metadata": {},
   "outputs": [
    {
     "data": {
      "text/plain": [
       "['lat', 'lon', 'los', 'pair', 'ref', 'rep']"
      ]
     },
     "execution_count": 25,
     "metadata": {},
     "output_type": "execute_result"
    }
   ],
   "source": [
    "df = xr.open_dataset(\"./dw.nc\")\n",
    "get_file_variables(df)"
   ]
  }
 ],
 "metadata": {
  "kernelspec": {
   "display_name": "pygmtsar",
   "language": "python",
   "name": "python3"
  },
  "language_info": {
   "codemirror_mode": {
    "name": "ipython",
    "version": 3
   },
   "file_extension": ".py",
   "mimetype": "text/x-python",
   "name": "python",
   "nbconvert_exporter": "python",
   "pygments_lexer": "ipython3",
   "version": "3.10.12"
  },
  "orig_nbformat": 4
 },
 "nbformat": 4,
 "nbformat_minor": 2
}
