{
 "cells": [
  {
   "cell_type": "code",
   "execution_count": null,
   "metadata": {},
   "outputs": [],
   "source": []
  },
  {
   "cell_type": "markdown",
   "metadata": {},
   "source": [
    "- [Introduction]() \n",
    "- [Packages]()\n",
    "    - [Packages Installation]()\n",
    "    - [Packages Versions]()\n",
    "- [Data Loading]()\n",
    "    - [Getting the Data](#getting-the-data)\n",
    "    - [Data Interpretation]()\n",
    "- [Functions Demonstration]()\n",
    "    - [Metadata]()\n",
    "    - [Memory Optimization]()\n",
    "    - [Visualization]()\n",
    "- [Conclusion]()\n",
    "    - [Recap]()\n",
    "    - [More Information]()"
   ]
  }
 ],
 "metadata": {
  "language_info": {
   "name": "python"
  }
 },
 "nbformat": 4,
 "nbformat_minor": 2
}
