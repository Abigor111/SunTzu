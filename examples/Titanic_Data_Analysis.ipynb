{
 "cells": [
  {
   "cell_type": "markdown",
   "metadata": {},
   "source": [
    "# Analysing the Data of Titanic"
   ]
  },
  {
   "cell_type": "markdown",
   "metadata": {},
   "source": [
    "### Indice"
   ]
  },
  {
   "cell_type": "markdown",
   "metadata": {},
   "source": [
    "- [Introduction]() \n",
    "- [Packages]()\n",
    "    - [Packages Installation]()\n",
    "    - [Packages Versions]()\n",
    "- [Data Loading]()\n",
    "    - [Getting the Data](#getting-the-data)\n",
    "    - [Data Interpretation]()\n",
    "- [Functions Demonstration]()\n",
    "    - [Metadata]()\n",
    "    - [Memory Optimization]()\n",
    "    - [Visualization]()\n",
    "- [Conclusion]()\n",
    "    - [Recap]()\n",
    "    - [More Information]()"
   ]
  },
  {
   "cell_type": "markdown",
   "metadata": {},
   "source": [
    "#### Getting The Data"
   ]
  },
  {
   "cell_type": "markdown",
   "metadata": {},
   "source": [
    "If you want to test this dataset on your own environment, you can download it [here](https://www.kaggle.com/c/titanic/data?select=test.csv)."
   ]
  }
 ],
 "metadata": {
  "kernelspec": {
   "display_name": "suntzu",
   "language": "python",
   "name": "python3"
  },
  "language_info": {
   "codemirror_mode": {
    "name": "ipython",
    "version": 3
   },
   "file_extension": ".py",
   "mimetype": "text/x-python",
   "name": "python",
   "nbconvert_exporter": "python",
   "pygments_lexer": "ipython3",
   "version": "3.1.-1"
  }
 },
 "nbformat": 4,
 "nbformat_minor": 2
}
