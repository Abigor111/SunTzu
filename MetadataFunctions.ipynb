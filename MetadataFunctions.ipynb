{
 "cells": [
  {
   "cell_type": "markdown",
   "metadata": {},
   "source": [
    "## Imports"
   ]
  },
  {
   "cell_type": "code",
   "execution_count": null,
   "metadata": {},
   "outputs": [],
   "source": [
    "import pandas as pd\n",
    "import pyarrow as pa\n",
    "import pyarrow.parquet as pq\n",
    "import json\n",
    "import jsonschema\n",
    "from jsonschema.exceptions import ValidationError\n",
    "import os\n",
    "from tqdm.notebook  import tqdm\n",
    "import pathlib\n",
    "import os.path\n",
    "import polars as pl \n",
    "import xarray as xr\n",
    "import matplotlib.pyplot as plt\n",
    "import requests\n",
    "import seaborn as sns\n",
    "from slack_sdk import WebClient\n",
    "from slack_sdk.errors import SlackApiError\n",
    "import time\n",
    "import os\n",
    "import numpy as np\n",
    "from IPython.display import display"
   ]
  },
  {
   "cell_type": "markdown",
   "metadata": {},
   "source": [
    "### **Next Steps** "
   ]
  },
  {
   "cell_type": "markdown",
   "metadata": {},
   "source": [
    "1 - Add more values insight"
   ]
  },
  {
   "cell_type": "code",
   "execution_count": null,
   "metadata": {},
   "outputs": [],
   "source": [
    "# import suntzu\n",
    "# import inspect\n",
    "\n",
    "# # Obtém todos os membros da classe Cleaning\n",
    "# cleaning_members = inspect.getmembers(suntzu.Cleaning, inspect.isfunction)\n",
    "\n",
    "# # Itera sobre os membros e imprime suas docstrings\n",
    "# for member_name, member_obj in cleaning_members:\n",
    "#     docstring = inspect.getdoc(member_obj)\n",
    "#     print(f\"Function: Cleaning.{member_name}\\nDocstring: {docstring}\\n\")\n"
   ]
  },
  {
   "cell_type": "code",
   "execution_count": null,
   "metadata": {},
   "outputs": [],
   "source": [
    "df = snt.read_file(\"examples/wdw.nc\")\n",
    "df.read_netCDF_metadata()"
   ]
  },
  {
   "cell_type": "code",
   "execution_count": null,
   "metadata": {},
   "outputs": [],
   "source": [
    "if isinstance(df.statistics, snt.Statistics):\n",
    "    print(\"A classe Statistics é uma propriedade do objeto df\")\n",
    "else:\n",
    "    print(\"A classe Statistics não é uma propriedade do objeto df\")"
   ]
  },
  {
   "cell_type": "code",
   "execution_count": 10,
   "metadata": {},
   "outputs": [
    {
     "name": "stdout",
     "output_type": "stream",
     "text": [
      "2.0.9\n"
     ]
    }
   ],
   "source": [
    "# import suntzu as snt\n",
    "\n",
    "# awd = snt.read_file(\"examples/updated_Titanic.parquet\")\n",
    "# awd.capitalize_cols_name()\n",
    "import pandas as pd\n",
    "import xarray as xr\n",
    "import os\n",
    "import pyarrow as pa\n",
    "import numpy as np\n",
    "import jsonschema\n",
    "import json\n",
    "print(json.__version__)"
   ]
  },
  {
   "cell_type": "code",
   "execution_count": 16,
   "metadata": {},
   "outputs": [
    {
     "data": {
      "text/html": [
       "<div>\n",
       "<style scoped>\n",
       "    .dataframe tbody tr th:only-of-type {\n",
       "        vertical-align: middle;\n",
       "    }\n",
       "\n",
       "    .dataframe tbody tr th {\n",
       "        vertical-align: top;\n",
       "    }\n",
       "\n",
       "    .dataframe thead th {\n",
       "        text-align: right;\n",
       "    }\n",
       "</style>\n",
       "<table border=\"1\" class=\"dataframe\">\n",
       "  <thead>\n",
       "    <tr style=\"text-align: right;\">\n",
       "      <th></th>\n",
       "      <th>Name</th>\n",
       "      <th>Age</th>\n",
       "      <th>Gender</th>\n",
       "      <th>City</th>\n",
       "    </tr>\n",
       "  </thead>\n",
       "  <tbody>\n",
       "    <tr>\n",
       "      <th>0</th>\n",
       "      <td>Alice</td>\n",
       "      <td>25</td>\n",
       "      <td>Female</td>\n",
       "      <td>New York</td>\n",
       "    </tr>\n",
       "    <tr>\n",
       "      <th>1</th>\n",
       "      <td>Bob</td>\n",
       "      <td>30</td>\n",
       "      <td>Male</td>\n",
       "      <td>Los Angeles</td>\n",
       "    </tr>\n",
       "    <tr>\n",
       "      <th>2</th>\n",
       "      <td>Charlie</td>\n",
       "      <td>35</td>\n",
       "      <td>Male</td>\n",
       "      <td>Chicago</td>\n",
       "    </tr>\n",
       "    <tr>\n",
       "      <th>3</th>\n",
       "      <td>David</td>\n",
       "      <td>40</td>\n",
       "      <td>Male</td>\n",
       "      <td>Houston</td>\n",
       "    </tr>\n",
       "    <tr>\n",
       "      <th>4</th>\n",
       "      <td>Emma</td>\n",
       "      <td>45</td>\n",
       "      <td>Female</td>\n",
       "      <td>Phoenix</td>\n",
       "    </tr>\n",
       "  </tbody>\n",
       "</table>\n",
       "</div>"
      ],
      "text/plain": [
       "      Name  Age  Gender         City\n",
       "0    Alice   25  Female     New York\n",
       "1      Bob   30    Male  Los Angeles\n",
       "2  Charlie   35    Male      Chicago\n",
       "3    David   40    Male      Houston\n",
       "4     Emma   45  Female      Phoenix"
      ]
     },
     "execution_count": 16,
     "metadata": {},
     "output_type": "execute_result"
    }
   ],
   "source": [
    "import suntzu as snt\n",
    "import pandas as pd\n",
    "data = {\n",
    "    'Name': ['Alice', 'Bob', 'Charlie', 'David', 'Emma'],\n",
    "    'Age': [25, 30, 35, 40, 45],\n",
    "    'Gender': ['Female', 'Male', 'Male', 'Male', 'Female'],\n",
    "    'City': ['New York', 'Los Angeles', 'Chicago', 'Houston', 'Phoenix']\n",
    "}\n",
    "teste3 = pd.DataFrame(data)\n",
    "teste = snt.read_file(\"examples/Titanic_Cleaned.parquet\")\n",
    "teste3.head()"
   ]
  },
  {
   "cell_type": "code",
   "execution_count": 15,
   "metadata": {},
   "outputs": [
    {
     "data": {
      "text/html": [
       "<div>\n",
       "<style scoped>\n",
       "    .dataframe tbody tr th:only-of-type {\n",
       "        vertical-align: middle;\n",
       "    }\n",
       "\n",
       "    .dataframe tbody tr th {\n",
       "        vertical-align: top;\n",
       "    }\n",
       "\n",
       "    .dataframe thead th {\n",
       "        text-align: right;\n",
       "    }\n",
       "</style>\n",
       "<table border=\"1\" class=\"dataframe\">\n",
       "  <thead>\n",
       "    <tr style=\"text-align: right;\">\n",
       "      <th></th>\n",
       "      <th>Name</th>\n",
       "      <th>Age</th>\n",
       "      <th>Gender</th>\n",
       "      <th>City</th>\n",
       "    </tr>\n",
       "  </thead>\n",
       "  <tbody>\n",
       "    <tr>\n",
       "      <th>0</th>\n",
       "      <td>lice</td>\n",
       "      <td>25</td>\n",
       "      <td>Femle</td>\n",
       "      <td>New York</td>\n",
       "    </tr>\n",
       "    <tr>\n",
       "      <th>1</th>\n",
       "      <td>Bob</td>\n",
       "      <td>30</td>\n",
       "      <td>Mle</td>\n",
       "      <td>Los ngeles</td>\n",
       "    </tr>\n",
       "    <tr>\n",
       "      <th>2</th>\n",
       "      <td>Chrlie</td>\n",
       "      <td>35</td>\n",
       "      <td>Mle</td>\n",
       "      <td>Chicgo</td>\n",
       "    </tr>\n",
       "    <tr>\n",
       "      <th>3</th>\n",
       "      <td>Dvid</td>\n",
       "      <td>40</td>\n",
       "      <td>Mle</td>\n",
       "      <td>Houston</td>\n",
       "    </tr>\n",
       "    <tr>\n",
       "      <th>4</th>\n",
       "      <td>Emm</td>\n",
       "      <td>45</td>\n",
       "      <td>Femle</td>\n",
       "      <td>Phoenix</td>\n",
       "    </tr>\n",
       "  </tbody>\n",
       "</table>\n",
       "</div>"
      ],
      "text/plain": [
       "     Name  Age Gender        City\n",
       "0    lice   25  Femle    New York\n",
       "1     Bob   30    Mle  Los ngeles\n",
       "2  Chrlie   35    Mle      Chicgo\n",
       "3    Dvid   40    Mle     Houston\n",
       "4     Emm   45  Femle     Phoenix"
      ]
     },
     "execution_count": 15,
     "metadata": {},
     "output_type": "execute_result"
    }
   ],
   "source": [
    "teste2 = snt.Cleaning.remove_rows_character(teste3, characters=['a'])\n",
    "teste2.head()"
   ]
  },
  {
   "cell_type": "markdown",
   "metadata": {},
   "source": [
    "6 - Visualization Functions"
   ]
  },
  {
   "cell_type": "code",
   "execution_count": null,
   "metadata": {},
   "outputs": [],
   "source": [
    "class Visualization:\n",
    "    def save_telegram_credentials(bot_token=None, chat_id=None):\n",
    "        \"\"\"\n",
    "        Save the Telegram credentials to a JSON file.\n",
    "\n",
    "        Args:\n",
    "            bot_token (str, optional): The bot token. If not provided, the user will be prompted to enter it.\n",
    "            chat_id (str, optional): The chat ID. If not provided, the user will be prompted to enter it.\n",
    "            filename (str, optional): The name of the JSON file to save the credentials. Defaults to \"telegram_credentials.json\".\n",
    "        \"\"\"\n",
    "        bot_token = bot_token or input(\"Insert the bot_token: \")\n",
    "        chat_id = chat_id or input(\"Insert the chat id: \")\n",
    "        dictionary = {\"chat_id\": chat_id, \"bot_token\": bot_token}\n",
    "        try:\n",
    "            with open('telegram_credentials.json', \"w\") as outfile:\n",
    "                json.dump(dictionary, outfile)\n",
    "        except Exception as e:\n",
    "            print(\"Error occurred while saving telegram credentials:\", str(e))\n",
    "    def send_images_via_telegram(file_path, chat_id=None, bot_token=None, caption=\"This is a caption\"):\n",
    "        \"\"\"\n",
    "        Sends an image via Telegram using the provided file path, chat ID, bot token, and caption.\n",
    "\n",
    "        Args:\n",
    "            file_path (str): The path to the image file.\n",
    "            chat_id (str, optional): The ID of the chat to send the image to. If not provided, it will be retrieved from the 'telegram_credentials.json' file. Defaults to None.\n",
    "            bot_token (str, optional): The token of the Telegram bot. If not provided, it will be retrieved from the 'telegram_credentials.json' file. Defaults to None.\n",
    "            caption (str, optional): The caption for the image. Defaults to \"This is a caption\".\n",
    "\n",
    "        Raises:\n",
    "            ValueError: If chat_id and bot_token are not provided and the 'telegram_credentials.json' file does not exist.\n",
    "            ValueError: If chat_id or bot_token is not provided.\n",
    "\n",
    "        Returns:\n",
    "            None\n",
    "        \"\"\"\n",
    "        if chat_id is None and bot_token is None:\n",
    "            if os.path.exists('telegram_credentials.json'):\n",
    "                try:\n",
    "                    with open('telegram_credentials.json', 'r') as openfile:\n",
    "                        json_object = json.load(openfile)\n",
    "                    chat_id = json_object.get(\"chat_id\")\n",
    "                    bot_token = json_object.get(\"bot_token\")\n",
    "                except ValueError:\n",
    "                    print(\"Please use the function 'save_telegram_credentials'\")\n",
    "            else:\n",
    "                raise ValueError(\"Please provide the chat_id and the bot_token or use the function 'save_telegram_credentials'.\")\n",
    "        if chat_id is None or bot_token is None:\n",
    "            raise ValueError(\"chat_id and bot_token are required parameters\")\n",
    "        base_url = f\"https://api.telegram.org/bot{bot_token}/sendPhoto\"\n",
    "        with open(file_path, 'rb') as my_file:\n",
    "            parameters = {\n",
    "                \"chat_id\": chat_id,\n",
    "                \"caption\": caption\n",
    "            }\n",
    "            files = {   \n",
    "                \"photo\": my_file\n",
    "            }\n",
    "            try:\n",
    "                resp = requests.post(base_url, data=parameters, files=files)\n",
    "                status_code = resp.status_code\n",
    "                if status_code == 200:\n",
    "                    print(\"The photo was sent.\")\n",
    "                else:\n",
    "                    resp_json = resp.json()\n",
    "                    print(\"Sent\",\"-\", resp_json.get(\"ok\"))\n",
    "                    del resp_json[\"ok\"]\n",
    "                    for key, values in resp_json.items():\n",
    "                        print(key.capitalize(), \"-\", values)\n",
    "            except requests.exceptions.RequestException as e:\n",
    "                print(\"An error occurred during the request:\", str(e))\n",
    "    def help_telegram_bot():\n",
    "        \"\"\"\n",
    "        Provides information on how to use a Telegram bot.\n",
    "        \"\"\"\n",
    "        print('''\n",
    "        1. How to create a bot: https://www.directual.com/lesson-library/how-to-create-a-telegram-bot\n",
    "        2. Adding the bot to a group: https://botifi.me/en/help/telegram-adding-bot-to-channel-or-group/\n",
    "        3. Getting the bot_token: https://botifi.me/en/help/telegram-existed-bot/\n",
    "        4. Getting the chat_id of a group: https://www.wikihow.com/Know-Chat-ID-on-Telegram-on-Android\n",
    "        5. Possible errors: https://core.telegram.org/api/errors\n",
    "        ''')\n",
    "    \n",
    "    def save_slack_credentials(channel_id = None, slack_token=None):\n",
    "        \"\"\"\n",
    "        Saves Slack credentials (channel ID and token) to a JSON file.\n",
    "\n",
    "        Args:\n",
    "            channel_id (str, optional): The ID of the Slack channel. If not provided, the user will be prompted to enter it.\n",
    "            slack_token (str, optional): The Slack token. If not provided, the user will be prompted to enter it.\n",
    "\n",
    "        Returns:\n",
    "            None: The function does not return any value.\n",
    "        \"\"\"\n",
    "        slack_token = slack_token or input(\"Insert the slack_token: \")\n",
    "        channel_id = channel_id or input(\"Insert the channel_id: \")\n",
    "        dictionary = {\"channel_id\": channel_id, \"slack_token\": slack_token}\n",
    "        try:\n",
    "            with open('slack_credentials.json', \"w\") as outfile:\n",
    "                json.dump(dictionary, outfile)\n",
    "        except Exception as e:\n",
    "            print(\"Error occurred while saving slack credentials:\", str(e))\n",
    "    def send_images_via_slack(file_path, channel_id=None, slack_token=None, caption=\"This is a caption\"):\n",
    "        \"\"\"\n",
    "        Sends an image file to a specified Slack channel using the Slack API.\n",
    "\n",
    "        Args:\n",
    "            file_path (str): The path to the image file to be sent.\n",
    "            channel_id (str, optional): The ID of the Slack channel to send the image to. If not provided, it will attempt to read the channel ID from a JSON file named 'slack_credentials.json'.\n",
    "            slack_token (str, optional): The Slack API token. If not provided, it will attempt to read the token from the same JSON file mentioned above.\n",
    "            caption (str, optional): The caption to be displayed with the image in Slack.\n",
    "\n",
    "        Raises:\n",
    "            ValueError: If 'slack_credentials.json' file is not found or the values are not valid.\n",
    "            ValueError: If either `channel_id` or `slack_token` is missing.\n",
    "\n",
    "        Returns:\n",
    "            None\n",
    "        \"\"\"\n",
    "        if channel_id is None and slack_token is None:\n",
    "            if os.path.exists('slack_credentials.json'):\n",
    "                try:\n",
    "                    with open('slack_credentials.json', 'r') as openfile:\n",
    "                        json_object = json.load(openfile)\n",
    "                    channel_id = json_object.get(\"channel_id\")\n",
    "                    slack_token = json_object.get(\"slack_token\")\n",
    "                except ValueError:\n",
    "                    print(\"Please use the function 'save_slack_credentials'\")\n",
    "            else:\n",
    "                raise ValueError(\"Please provide the channel_id and the slack_token or use the function 'save_slack_credentials'.\")\n",
    "        if channel_id is None or slack_token is None:\n",
    "            raise ValueError(\"channel_id and slack_token are required parameters\")\n",
    "        client = WebClient(token=slack_token)\n",
    "        try:\n",
    "            response = client.files_upload(\n",
    "                channels=channel_id,\n",
    "                file=file_path,\n",
    "                title=caption\n",
    "            )\n",
    "            if response[\"ok\"]:\n",
    "                print(\"The photo was sent.\")\n",
    "            else:\n",
    "                for key, value in response.items():\n",
    "                    print(f\"{key.capitalize()}: {value}\")\n",
    "        except SlackApiError as e:\n",
    "            print(f\"Error uploading file: {e.response['error']}\")\n",
    "    def help_slack_bot():\n",
    "        \"\"\"\n",
    "        Provides a list of resources to help users create and configure a Slack bot.\n",
    "        \"\"\"\n",
    "        print('''\n",
    "            1. Creating a slack_bot (read the first paragraph): https://medium.com/applied-data-science/how-to-build-you-own-slack-bot-714283fd16e5\n",
    "            2. Getting the channel_id (read method 1): https://www.process.st/how-to/find-slack-channel-id/ \n",
    "            ''')"
   ]
  },
  {
   "cell_type": "markdown",
   "metadata": {},
   "source": [
    "# Testes"
   ]
  },
  {
   "cell_type": "code",
   "execution_count": null,
   "metadata": {},
   "outputs": [],
   "source": [
    "df = pd.read_csv(\"./Titanic.csv\")\n",
    "df1 = pd.read_csv(\"./Sales_Data.csv\")\n",
    "df2 = pd.read_parquet(\"./Titanic_Cleaned.parquet\")"
   ]
  },
  {
   "cell_type": "code",
   "execution_count": null,
   "metadata": {},
   "outputs": [],
   "source": [
    "# Define the string\n",
    "my_string = \"HellO, wOrld!\"\n",
    "\n",
    "# Define the character you want to check for\n",
    "character_to_check = \"o\"\n",
    "\n",
    "# Check if the character is in the string\n",
    "if character_to_check.lower() in my_string.lower():\n",
    "    print(f\"The character '{character_to_check}' is in the string.\")\n",
    "else:\n",
    "    print(f\"The character '{character_to_check}' is not in the string.\")\n"
   ]
  },
  {
   "cell_type": "code",
   "execution_count": null,
   "metadata": {},
   "outputs": [],
   "source": [
    "import pandas as pd\n",
    "\n",
    "# Creating a DataFrame for testing\n",
    "data = {\n",
    "    'name': ['Alice', 'Bob', 'Charlie', 'David', 'Emma'],\n",
    "    'age': [25, 30, 35, 40, None],\n",
    "    'Gender': ['female', 'male', None, 'male', 'female'],\n",
    "    'City': ['New York', 'Los Angeles', 'Chicago', 'Houston', 'Phoenix'],\n",
    "    'SCORE': [85.5, None, 90.7, 75.2, 88.9]\n",
    "}\n",
    "df = pd.DataFrame(data)\n",
    "df.head()"
   ]
  },
  {
   "cell_type": "code",
   "execution_count": null,
   "metadata": {},
   "outputs": [],
   "source": [
    "df.head()"
   ]
  },
  {
   "cell_type": "code",
   "execution_count": null,
   "metadata": {},
   "outputs": [],
   "source": [
    "df1.head()"
   ]
  },
  {
   "cell_type": "code",
   "execution_count": null,
   "metadata": {},
   "outputs": [],
   "source": [
    "df_capitalize = Cleaning.split_rows_string(df1, col=\"Purchase Address\", new_cols=[\"City\", \"State\",], delete_col=False)\n",
    "df_capitalize.head()"
   ]
  },
  {
   "cell_type": "code",
   "execution_count": null,
   "metadata": {},
   "outputs": [],
   "source": [
    "erro"
   ]
  },
  {
   "cell_type": "code",
   "execution_count": null,
   "metadata": {},
   "outputs": [],
   "source": [
    "# self.info()"
   ]
  },
  {
   "cell_type": "code",
   "execution_count": null,
   "metadata": {},
   "outputs": [],
   "source": [
    "# teste = File.read_file(\"./Titanic_Cleaned.parquet\")\n",
    "# teste.info()"
   ]
  },
  {
   "cell_type": "code",
   "execution_count": null,
   "metadata": {},
   "outputs": [],
   "source": [
    "import pandas as pd\n",
    "# Criar um DataFrame de exemplo\n",
    "data = {\n",
    "    'Name': ['Alice', 'Bob', 'Charlie', 'David', 'Emma'],\n",
    "    'Age': [25, 30, 35, 40, 45],\n",
    "    'Gender': ['Female', 'Male', 'Male', 'Male', 'Female'],\n",
    "    'City': ['New York', 'Los Angeles', 'Chicago', 'Houston', 'Phoenix']\n",
    "}\n",
    "df = pd.DataFrame(data)\n",
    "df.head()"
   ]
  },
  {
   "cell_type": "code",
   "execution_count": null,
   "metadata": {},
   "outputs": [],
   "source": [
    "# Conditions for filtering\n",
    "conditions = [\n",
    "    df['Age'] <= 35,\n",
    "    df['Gender'] == 'Male'\n",
    "]\n",
    "df_find = Statistics.find(df, conditions)\n",
    "df_find.head()"
   ]
  },
  {
   "cell_type": "code",
   "execution_count": null,
   "metadata": {},
   "outputs": [],
   "source": [
    "df_replaced = Statistics.find_replace(df, conditions, ('Age', 'Unknown'))\n",
    "df_replaced.head()"
   ]
  },
  {
   "cell_type": "code",
   "execution_count": null,
   "metadata": {},
   "outputs": [],
   "source": [
    "# df_deleted = Statistics.find_delete(df, conditions)\n",
    "# df_deleted.head()"
   ]
  },
  {
   "cell_type": "code",
   "execution_count": null,
   "metadata": {},
   "outputs": [],
   "source": [
    "# Statistics.get_best_dtypes(self, output=True, convert=True)"
   ]
  },
  {
   "cell_type": "code",
   "execution_count": null,
   "metadata": {},
   "outputs": [],
   "source": [
    "# Statistics.get_null_percentage(teste, get_dict=True, output=False, get_total=False)"
   ]
  },
  {
   "cell_type": "code",
   "execution_count": null,
   "metadata": {},
   "outputs": [],
   "source": [
    "# Metadata.read_netCDF_metadata(teste)"
   ]
  },
  {
   "cell_type": "code",
   "execution_count": null,
   "metadata": {},
   "outputs": [],
   "source": [
    "# teste.head()"
   ]
  },
  {
   "cell_type": "code",
   "execution_count": null,
   "metadata": {},
   "outputs": [],
   "source": [
    "# get_nulls_count(teste1)"
   ]
  },
  {
   "cell_type": "code",
   "execution_count": null,
   "metadata": {},
   "outputs": [],
   "source": [
    "# import pandas as pd\n",
    "\n",
    "# # Creating a sample DataFrame\n",
    "# data = {\n",
    "#     'col1': ['apple, pie', 'banana! split', 'cherry? cake'],\n",
    "#     'col2': ['ice-cream', 'chocolate? cake', 'strawberry! shortcake']\n",
    "# }\n",
    "\n",
    "# teste = pd.DataFrame(data)\n",
    "# teste.head()\n"
   ]
  },
  {
   "cell_type": "code",
   "execution_count": null,
   "metadata": {},
   "outputs": [],
   "source": [
    "# self.head()"
   ]
  },
  {
   "cell_type": "code",
   "execution_count": null,
   "metadata": {},
   "outputs": [],
   "source": [
    "# self = pd.read_csv(\"./Titanic.csv\")\n",
    "# condition = self[\"sex\"] == \"female\"\n",
    "# conditions = [condition]\n",
    "# teste = find_delete(self, conditions)\n",
    "# teste[\"sex\"].value_counts()"
   ]
  },
  {
   "cell_type": "code",
   "execution_count": null,
   "metadata": {},
   "outputs": [],
   "source": [
    "# self = pd.read_csv(\"./Titanic.csv\")\n",
    "# condition = self[\"sex\"] == \"female\"\n",
    "# conditions = [condition]\n",
    "# replace = [\"survived\", 1]\n",
    "# teste = replace.values()\n",
    "# teste\n",
    "# teste = find_replace(self, conditions, replace)\n",
    "# teste4 = find(teste, conditions)\n",
    "# teste4[\"survived\"].value_counts()"
   ]
  },
  {
   "cell_type": "code",
   "execution_count": null,
   "metadata": {},
   "outputs": [],
   "source": [
    "# self = pd.read_csv(\"./Titanic.csv\")\n",
    "# teste2 = find(self, [self[\"sex\"] == \"female\"])\n",
    "# self.loc[teste2.index, \"survived\"] = 0\n",
    "# teste3 = find(self, [self[\"sex\"] == \"female\"])\n",
    "# teste3[\"survived\"].value_counts()"
   ]
  },
  {
   "cell_type": "code",
   "execution_count": null,
   "metadata": {},
   "outputs": [],
   "source": [
    "# condition = self[\"sex\"] == \"female\"\n",
    "# conditions = [condition]\n",
    "# replace = [self[\"survived\"], 1]\n",
    "# teste = replace.values()\n",
    "# teste\n",
    "# teste = find_replace(self, conditions, replace)\n",
    "# teste.head()\n",
    "# teste1 = find(teste, conditions)\n",
    "# teste1[\"survived\"].value_counts()\n",
    "# adw = find(teste, conditions)\n",
    "# teste.head()\n",
    "# df[\"female\"].value_counts()"
   ]
  },
  {
   "cell_type": "code",
   "execution_count": null,
   "metadata": {},
   "outputs": [],
   "source": [
    "# teste.head()"
   ]
  },
  {
   "cell_type": "code",
   "execution_count": null,
   "metadata": {},
   "outputs": [],
   "source": [
    "# teste = remove_rows_character(teste, characters=[\"-\", \"?\", \"!\", \" \", \",\"], add_blankspace=True)\n",
    "# teste.head()"
   ]
  },
  {
   "cell_type": "code",
   "execution_count": null,
   "metadata": {},
   "outputs": [],
   "source": [
    "# df1[\"Product\"].dtypes"
   ]
  },
  {
   "cell_type": "code",
   "execution_count": null,
   "metadata": {},
   "outputs": [],
   "source": [
    "# get_nulls_count(df1)"
   ]
  },
  {
   "cell_type": "code",
   "execution_count": null,
   "metadata": {},
   "outputs": [],
   "source": [
    "# df1.info()"
   ]
  },
  {
   "cell_type": "code",
   "execution_count": null,
   "metadata": {},
   "outputs": [],
   "source": [
    "# get_dtype(df1, \"Product\")"
   ]
  },
  {
   "cell_type": "code",
   "execution_count": null,
   "metadata": {},
   "outputs": [],
   "source": [
    "# df1 = get_best_dtypes(df1, convert=True)"
   ]
  },
  {
   "cell_type": "code",
   "execution_count": null,
   "metadata": {},
   "outputs": [],
   "source": [
    "# df1.info()"
   ]
  },
  {
   "cell_type": "code",
   "execution_count": null,
   "metadata": {},
   "outputs": [],
   "source": [
    "# df1 = remove_rows_with_missing_values(df1)"
   ]
  },
  {
   "cell_type": "code",
   "execution_count": null,
   "metadata": {},
   "outputs": [],
   "source": [
    "# get_col_null_count(df1, [\"Purchase Address\"])"
   ]
  },
  {
   "cell_type": "code",
   "execution_count": null,
   "metadata": {},
   "outputs": [],
   "source": [
    "Cleaning.split_rows_string(df1, \"Purchase Address\", [\"Address\", \"City\", \"State\"], delete_col=False)"
   ]
  }
 ],
 "metadata": {
  "kernelspec": {
   "display_name": "pygmtsar",
   "language": "python",
   "name": "python3"
  },
  "language_info": {
   "codemirror_mode": {
    "name": "ipython",
    "version": 3
   },
   "file_extension": ".py",
   "mimetype": "text/x-python",
   "name": "python",
   "nbconvert_exporter": "python",
   "pygments_lexer": "ipython3",
   "version": "3.10.12"
  },
  "orig_nbformat": 4
 },
 "nbformat": 4,
 "nbformat_minor": 2
}
