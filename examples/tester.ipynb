{
 "cells": [
  {
   "cell_type": "markdown",
   "metadata": {},
   "source": [
    "# **Pandas_Functions**"
   ]
  },
  {
   "cell_type": "code",
   "execution_count": 1,
   "metadata": {},
   "outputs": [
    {
     "data": {
      "text/html": [
       "<div><style>\n",
       ".dataframe > thead > tr > th,\n",
       ".dataframe > tbody > tr > td {\n",
       "  text-align: right;\n",
       "}\n",
       "</style>\n",
       "<small>shape: (5, 10)</small><table border=\"1\" class=\"dataframe\"><thead><tr><th>sex</th><th>age</th><th>sibsp</th><th>parch</th><th>fare</th><th>embarked</th><th>class</th><th>who</th><th>alone</th><th>survived</th></tr><tr><td>str</td><td>f64</td><td>i64</td><td>i64</td><td>f64</td><td>str</td><td>str</td><td>str</td><td>bool</td><td>i64</td></tr></thead><tbody><tr><td>&quot;male&quot;</td><td>22.0</td><td>1</td><td>0</td><td>7.25</td><td>&quot;S&quot;</td><td>&quot;Third&quot;</td><td>&quot;man&quot;</td><td>false</td><td>0</td></tr><tr><td>&quot;female&quot;</td><td>38.0</td><td>1</td><td>0</td><td>71.2833</td><td>&quot;C&quot;</td><td>&quot;First&quot;</td><td>&quot;woman&quot;</td><td>false</td><td>1</td></tr><tr><td>&quot;female&quot;</td><td>26.0</td><td>0</td><td>0</td><td>7.925</td><td>&quot;S&quot;</td><td>&quot;Third&quot;</td><td>&quot;woman&quot;</td><td>true</td><td>1</td></tr><tr><td>&quot;female&quot;</td><td>35.0</td><td>1</td><td>0</td><td>53.1</td><td>&quot;S&quot;</td><td>&quot;First&quot;</td><td>&quot;woman&quot;</td><td>false</td><td>1</td></tr><tr><td>&quot;male&quot;</td><td>35.0</td><td>0</td><td>0</td><td>8.05</td><td>&quot;S&quot;</td><td>&quot;Third&quot;</td><td>&quot;man&quot;</td><td>true</td><td>0</td></tr></tbody></table></div>"
      ],
      "text/plain": [
       "shape: (5, 10)\n",
       "┌────────┬──────┬───────┬───────┬───┬───────┬───────┬───────┬──────────┐\n",
       "│ sex    ┆ age  ┆ sibsp ┆ parch ┆ … ┆ class ┆ who   ┆ alone ┆ survived │\n",
       "│ ---    ┆ ---  ┆ ---   ┆ ---   ┆   ┆ ---   ┆ ---   ┆ ---   ┆ ---      │\n",
       "│ str    ┆ f64  ┆ i64   ┆ i64   ┆   ┆ str   ┆ str   ┆ bool  ┆ i64      │\n",
       "╞════════╪══════╪═══════╪═══════╪═══╪═══════╪═══════╪═══════╪══════════╡\n",
       "│ male   ┆ 22.0 ┆ 1     ┆ 0     ┆ … ┆ Third ┆ man   ┆ false ┆ 0        │\n",
       "│ female ┆ 38.0 ┆ 1     ┆ 0     ┆ … ┆ First ┆ woman ┆ false ┆ 1        │\n",
       "│ female ┆ 26.0 ┆ 0     ┆ 0     ┆ … ┆ Third ┆ woman ┆ true  ┆ 1        │\n",
       "│ female ┆ 35.0 ┆ 1     ┆ 0     ┆ … ┆ First ┆ woman ┆ false ┆ 1        │\n",
       "│ male   ┆ 35.0 ┆ 0     ┆ 0     ┆ … ┆ Third ┆ man   ┆ true  ┆ 0        │\n",
       "└────────┴──────┴───────┴───────┴───┴───────┴───────┴───────┴──────────┘"
      ]
     },
     "execution_count": 1,
     "metadata": {},
     "output_type": "execute_result"
    }
   ],
   "source": [
    "import sys\n",
    "sys.path.append(\"..\")\n",
    "from suntzu.data_processing.dataloading import Dataloading  # noqa: E402\n",
    "df = Dataloading.read_file(\"./Titanic.csv\")\n",
    "df.view()"
   ]
  },
  {
   "cell_type": "code",
   "execution_count": 8,
   "metadata": {},
   "outputs": [
    {
     "name": "stdout",
     "output_type": "stream",
     "text": [
      "Cols: 10\n",
      "Rows: 891\n"
     ]
    }
   ],
   "source": [
    "df.get_dims()"
   ]
  },
  {
   "cell_type": "code",
   "execution_count": null,
   "metadata": {},
   "outputs": [],
   "source": [
    "def set_full_view(max_cols=\"yes\", max_rows=\"yes\", max_width=\"yes\", max_colwidht=\"yes\"):\n",
    "   from pandas import set_option\n",
    "   if max_cols == \"yes\":\n",
    "      set_option('display.max_rows', None)\n",
    "   elif max_rows == \"yes\":\n",
    "      set_option('display.max_columns', None)\n",
    "   elif max_width == \"yes\":\n",
    "      set_option('display.width', None)\n",
    "   elif max_colwidht == \"yes\":\n",
    "      set_option('display.max_colwidth', None)"
   ]
  },
  {
   "cell_type": "code",
   "execution_count": null,
   "metadata": {},
   "outputs": [],
   "source": [
    "def modify_col_case(self, option=\"\"):\n",
    "    if option == \"title\":                             \n",
    "        self = self.rename(columns=lambda x: x[0].title() + x[1:]).head()\n",
    "    elif option ==\"upper\":\n",
    "        self = self.rename(columns=lambda x: x[0].upper() + x[1:]).head()\n",
    "    else:\n",
    "        self = self.rename(columns=lambda x: x[0].lower() + x[1:]).head()"
   ]
  },
  {
   "cell_type": "markdown",
   "metadata": {},
   "source": [
    "Checking Libraries versions"
   ]
  },
  {
   "cell_type": "markdown",
   "metadata": {},
   "source": [
    "Get Dtypes"
   ]
  },
  {
   "cell_type": "markdown",
   "metadata": {},
   "source": [
    "Removing Cells"
   ]
  },
  {
   "cell_type": "markdown",
   "metadata": {},
   "source": [
    "Get Memory Usage"
   ]
  },
  {
   "cell_type": "markdown",
   "metadata": {},
   "source": [
    "Type Conversion"
   ]
  },
  {
   "cell_type": "markdown",
   "metadata": {},
   "source": [
    "Verificar o joblib"
   ]
  },
  {
   "cell_type": "markdown",
   "metadata": {},
   "source": [
    "Redefine Index"
   ]
  },
  {
   "cell_type": "markdown",
   "metadata": {},
   "source": [
    "Drop Duplicates"
   ]
  },
  {
   "cell_type": "markdown",
   "metadata": {},
   "source": [
    "Truncate Cells"
   ]
  },
  {
   "cell_type": "markdown",
   "metadata": {},
   "source": [
    "Best Dtypes"
   ]
  },
  {
   "cell_type": "markdown",
   "metadata": {},
   "source": [
    "Metadata"
   ]
  },
  {
   "cell_type": "markdown",
   "metadata": {},
   "source": [
    "Renaming Axis"
   ]
  },
  {
   "cell_type": "markdown",
   "metadata": {},
   "source": [
    "!jupyter nbextension enable --py widgetsnbextension"
   ]
  },
  {
   "cell_type": "markdown",
   "metadata": {},
   "source": [
    "### **Getting The Dimensions**"
   ]
  },
  {
   "cell_type": "markdown",
   "metadata": {},
   "source": [
    "### Drop Columns"
   ]
  }
 ],
 "metadata": {
  "kernelspec": {
   "display_name": "pygmtsar",
   "language": "python",
   "name": "python3"
  },
  "language_info": {
   "codemirror_mode": {
    "name": "ipython",
    "version": 3
   },
   "file_extension": ".py",
   "mimetype": "text/x-python",
   "name": "python",
   "nbconvert_exporter": "python",
   "pygments_lexer": "ipython3",
   "version": "3.10.12"
  },
  "orig_nbformat": 4
 },
 "nbformat": 4,
 "nbformat_minor": 2
}
