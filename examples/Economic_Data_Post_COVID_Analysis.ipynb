{
 "cells": [
  {
   "cell_type": "markdown",
   "metadata": {},
   "source": [
    "# **Analysing Economic Data Post-Covid**"
   ]
  },
  {
   "cell_type": "markdown",
   "metadata": {},
   "source": [
    "### ***Indice***"
   ]
  },
  {
   "cell_type": "markdown",
   "metadata": {},
   "source": [
    "- [Introduction](#introduction) \n",
    "- [Packages](#packages)\n",
    "    - [Packages Installation](#packages-installation)\n",
    "    - [Packages Versions](#packages-versions)\n",
    "- [Data Loading](#data-loading)\n",
    "    - [Getting the Data](#getting-the-data)\n",
    "    - [Data Interpretation](#data-interpretation)\n",
    "- [Functions Demonstration](#functions-demonstration)\n",
    "    - [Metadata](#metadata)\n",
    "    - [Memory Optimization](#memory-optimization)\n",
    "    - [Visualization](#visualization)\n",
    "- [Conclusion](#conclusion)\n",
    "    - [Recap](#recap)\n",
    "    - [More Information](#more-information)"
   ]
  },
  {
   "cell_type": "markdown",
   "metadata": {},
   "source": [
    "### **Introduction**"
   ]
  },
  {
   "cell_type": "markdown",
   "metadata": {},
   "source": [
    "### **Packages**"
   ]
  },
  {
   "cell_type": "markdown",
   "metadata": {},
   "source": [
    "#### Packages Installation"
   ]
  },
  {
   "cell_type": "code",
   "execution_count": 1,
   "metadata": {},
   "outputs": [
    {
     "name": "stdout",
     "output_type": "stream",
     "text": [
      "Collecting suntzu\n",
      "  Downloading suntzu-0.5.0-py3-none-any.whl.metadata (3.3 kB)\n",
      "Requirement already satisfied: pandas in /home/abigor/miniconda3/envs/suntzu/lib/python3.12/site-packages (from suntzu) (2.2.2)\n",
      "Requirement already satisfied: xarray in /home/abigor/miniconda3/envs/suntzu/lib/python3.12/site-packages (from suntzu) (2024.5.0)\n",
      "Requirement already satisfied: pyarrow in /home/abigor/miniconda3/envs/suntzu/lib/python3.12/site-packages (from suntzu) (16.1.0)\n",
      "Requirement already satisfied: numpy in /home/abigor/miniconda3/envs/suntzu/lib/python3.12/site-packages (from suntzu) (1.26.4)\n",
      "Requirement already satisfied: jsonschema in /home/abigor/miniconda3/envs/suntzu/lib/python3.12/site-packages (from suntzu) (4.22.0)\n",
      "Requirement already satisfied: IPython in /home/abigor/miniconda3/envs/suntzu/lib/python3.12/site-packages (from suntzu) (8.25.0)\n",
      "Requirement already satisfied: slack-sdk in /home/abigor/miniconda3/envs/suntzu/lib/python3.12/site-packages (from suntzu) (3.28.0)\n",
      "Requirement already satisfied: matplotlib in /home/abigor/miniconda3/envs/suntzu/lib/python3.12/site-packages (from suntzu) (3.8.4)\n",
      "Requirement already satisfied: decorator in /home/abigor/miniconda3/envs/suntzu/lib/python3.12/site-packages (from IPython->suntzu) (5.1.1)\n",
      "Requirement already satisfied: jedi>=0.16 in /home/abigor/miniconda3/envs/suntzu/lib/python3.12/site-packages (from IPython->suntzu) (0.19.1)\n",
      "Requirement already satisfied: matplotlib-inline in /home/abigor/miniconda3/envs/suntzu/lib/python3.12/site-packages (from IPython->suntzu) (0.1.7)\n",
      "Requirement already satisfied: prompt-toolkit<3.1.0,>=3.0.41 in /home/abigor/miniconda3/envs/suntzu/lib/python3.12/site-packages (from IPython->suntzu) (3.0.47)\n",
      "Requirement already satisfied: pygments>=2.4.0 in /home/abigor/miniconda3/envs/suntzu/lib/python3.12/site-packages (from IPython->suntzu) (2.18.0)\n",
      "Requirement already satisfied: stack-data in /home/abigor/miniconda3/envs/suntzu/lib/python3.12/site-packages (from IPython->suntzu) (0.6.2)\n",
      "Requirement already satisfied: traitlets>=5.13.0 in /home/abigor/miniconda3/envs/suntzu/lib/python3.12/site-packages (from IPython->suntzu) (5.14.3)\n",
      "Requirement already satisfied: pexpect>4.3 in /home/abigor/miniconda3/envs/suntzu/lib/python3.12/site-packages (from IPython->suntzu) (4.9.0)\n",
      "Requirement already satisfied: attrs>=22.2.0 in /home/abigor/miniconda3/envs/suntzu/lib/python3.12/site-packages (from jsonschema->suntzu) (23.2.0)\n",
      "Requirement already satisfied: jsonschema-specifications>=2023.03.6 in /home/abigor/miniconda3/envs/suntzu/lib/python3.12/site-packages (from jsonschema->suntzu) (2023.12.1)\n",
      "Requirement already satisfied: referencing>=0.28.4 in /home/abigor/miniconda3/envs/suntzu/lib/python3.12/site-packages (from jsonschema->suntzu) (0.35.1)\n",
      "Requirement already satisfied: rpds-py>=0.7.1 in /home/abigor/miniconda3/envs/suntzu/lib/python3.12/site-packages (from jsonschema->suntzu) (0.18.1)\n",
      "Requirement already satisfied: contourpy>=1.0.1 in /home/abigor/miniconda3/envs/suntzu/lib/python3.12/site-packages (from matplotlib->suntzu) (1.2.1)\n",
      "Requirement already satisfied: cycler>=0.10 in /home/abigor/miniconda3/envs/suntzu/lib/python3.12/site-packages (from matplotlib->suntzu) (0.12.1)\n",
      "Requirement already satisfied: fonttools>=4.22.0 in /home/abigor/miniconda3/envs/suntzu/lib/python3.12/site-packages (from matplotlib->suntzu) (4.53.0)\n",
      "Requirement already satisfied: kiwisolver>=1.3.1 in /home/abigor/miniconda3/envs/suntzu/lib/python3.12/site-packages (from matplotlib->suntzu) (1.4.5)\n",
      "Requirement already satisfied: packaging>=20.0 in /home/abigor/miniconda3/envs/suntzu/lib/python3.12/site-packages (from matplotlib->suntzu) (24.1)\n",
      "Requirement already satisfied: pillow>=8 in /home/abigor/miniconda3/envs/suntzu/lib/python3.12/site-packages (from matplotlib->suntzu) (10.3.0)\n",
      "Requirement already satisfied: pyparsing>=2.3.1 in /home/abigor/miniconda3/envs/suntzu/lib/python3.12/site-packages (from matplotlib->suntzu) (3.1.2)\n",
      "Requirement already satisfied: python-dateutil>=2.7 in /home/abigor/miniconda3/envs/suntzu/lib/python3.12/site-packages (from matplotlib->suntzu) (2.9.0)\n",
      "Requirement already satisfied: pytz>=2020.1 in /home/abigor/miniconda3/envs/suntzu/lib/python3.12/site-packages (from pandas->suntzu) (2024.1)\n",
      "Requirement already satisfied: tzdata>=2022.7 in /home/abigor/miniconda3/envs/suntzu/lib/python3.12/site-packages (from pandas->suntzu) (2024.1)\n",
      "Requirement already satisfied: parso<0.9.0,>=0.8.3 in /home/abigor/miniconda3/envs/suntzu/lib/python3.12/site-packages (from jedi>=0.16->IPython->suntzu) (0.8.4)\n",
      "Requirement already satisfied: ptyprocess>=0.5 in /home/abigor/miniconda3/envs/suntzu/lib/python3.12/site-packages (from pexpect>4.3->IPython->suntzu) (0.7.0)\n",
      "Requirement already satisfied: wcwidth in /home/abigor/miniconda3/envs/suntzu/lib/python3.12/site-packages (from prompt-toolkit<3.1.0,>=3.0.41->IPython->suntzu) (0.2.13)\n",
      "Requirement already satisfied: six>=1.5 in /home/abigor/miniconda3/envs/suntzu/lib/python3.12/site-packages (from python-dateutil>=2.7->matplotlib->suntzu) (1.16.0)\n",
      "Requirement already satisfied: executing>=1.2.0 in /home/abigor/miniconda3/envs/suntzu/lib/python3.12/site-packages (from stack-data->IPython->suntzu) (2.0.1)\n",
      "Requirement already satisfied: asttokens>=2.1.0 in /home/abigor/miniconda3/envs/suntzu/lib/python3.12/site-packages (from stack-data->IPython->suntzu) (2.4.1)\n",
      "Requirement already satisfied: pure-eval in /home/abigor/miniconda3/envs/suntzu/lib/python3.12/site-packages (from stack-data->IPython->suntzu) (0.2.2)\n",
      "Downloading suntzu-0.5.0-py3-none-any.whl (33 kB)\n",
      "Installing collected packages: suntzu\n",
      "Successfully installed suntzu-0.5.0\n",
      "Note: you may need to restart the kernel to use updated packages.\n"
     ]
    }
   ],
   "source": [
    "%pip install suntzu"
   ]
  },
  {
   "cell_type": "code",
   "execution_count": 3,
   "metadata": {},
   "outputs": [
    {
     "data": {
      "text/html": [
       "<div>\n",
       "<style scoped>\n",
       "    .dataframe tbody tr th:only-of-type {\n",
       "        vertical-align: middle;\n",
       "    }\n",
       "\n",
       "    .dataframe tbody tr th {\n",
       "        vertical-align: top;\n",
       "    }\n",
       "\n",
       "    .dataframe thead th {\n",
       "        text-align: right;\n",
       "    }\n",
       "</style>\n",
       "<table border=\"1\" class=\"dataframe\">\n",
       "  <thead>\n",
       "    <tr style=\"text-align: right;\">\n",
       "      <th></th>\n",
       "      <th>country</th>\n",
       "      <th>date</th>\n",
       "      <th>manufacturing pmi</th>\n",
       "      <th>services pmi</th>\n",
       "      <th>consumer confidence</th>\n",
       "      <th>interest rates</th>\n",
       "      <th>cpi yoy</th>\n",
       "      <th>core cpi</th>\n",
       "      <th>unemployment rate</th>\n",
       "      <th>gdp yoy</th>\n",
       "      <th>ticker</th>\n",
       "      <th>open</th>\n",
       "      <th>high</th>\n",
       "      <th>low</th>\n",
       "      <th>close</th>\n",
       "    </tr>\n",
       "  </thead>\n",
       "  <tbody>\n",
       "    <tr>\n",
       "      <th>0</th>\n",
       "      <td>australia</td>\n",
       "      <td>2020-01-01</td>\n",
       "      <td>49.6</td>\n",
       "      <td>50.6</td>\n",
       "      <td>93.4</td>\n",
       "      <td>0.75%</td>\n",
       "      <td>2.20%</td>\n",
       "      <td>1.70%</td>\n",
       "      <td>5.20%</td>\n",
       "      <td>1.20%</td>\n",
       "      <td>audusd</td>\n",
       "      <td>0.7021</td>\n",
       "      <td>0.7031</td>\n",
       "      <td>0.6682</td>\n",
       "      <td>0.6691</td>\n",
       "    </tr>\n",
       "    <tr>\n",
       "      <th>1</th>\n",
       "      <td>australia</td>\n",
       "      <td>2020-02-01</td>\n",
       "      <td>50.2</td>\n",
       "      <td>49.0</td>\n",
       "      <td>95.5</td>\n",
       "      <td>0.75%</td>\n",
       "      <td>2.20%</td>\n",
       "      <td>1.70%</td>\n",
       "      <td>5.10%</td>\n",
       "      <td>1.20%</td>\n",
       "      <td>audusd</td>\n",
       "      <td>0.6690</td>\n",
       "      <td>0.6776</td>\n",
       "      <td>0.6434</td>\n",
       "      <td>0.6509</td>\n",
       "    </tr>\n",
       "    <tr>\n",
       "      <th>2</th>\n",
       "      <td>australia</td>\n",
       "      <td>2020-03-01</td>\n",
       "      <td>49.7</td>\n",
       "      <td>38.5</td>\n",
       "      <td>91.9</td>\n",
       "      <td>0.50%</td>\n",
       "      <td>2.20%</td>\n",
       "      <td>1.70%</td>\n",
       "      <td>5.20%</td>\n",
       "      <td>1.20%</td>\n",
       "      <td>audusd</td>\n",
       "      <td>0.6488</td>\n",
       "      <td>0.6686</td>\n",
       "      <td>0.5507</td>\n",
       "      <td>0.6135</td>\n",
       "    </tr>\n",
       "    <tr>\n",
       "      <th>3</th>\n",
       "      <td>australia</td>\n",
       "      <td>2020-04-01</td>\n",
       "      <td>44.1</td>\n",
       "      <td>19.5</td>\n",
       "      <td>75.6</td>\n",
       "      <td>0.25%</td>\n",
       "      <td>-0.30%</td>\n",
       "      <td>1.20%</td>\n",
       "      <td>6.30%</td>\n",
       "      <td>-6.10%</td>\n",
       "      <td>audusd</td>\n",
       "      <td>0.6133</td>\n",
       "      <td>0.6571</td>\n",
       "      <td>0.5979</td>\n",
       "      <td>0.6510</td>\n",
       "    </tr>\n",
       "    <tr>\n",
       "      <th>4</th>\n",
       "      <td>australia</td>\n",
       "      <td>2020-05-01</td>\n",
       "      <td>44.0</td>\n",
       "      <td>26.9</td>\n",
       "      <td>88.1</td>\n",
       "      <td>0.25%</td>\n",
       "      <td>-0.30%</td>\n",
       "      <td>1.20%</td>\n",
       "      <td>7.00%</td>\n",
       "      <td>-6.10%</td>\n",
       "      <td>audusd</td>\n",
       "      <td>0.6511</td>\n",
       "      <td>0.6684</td>\n",
       "      <td>0.6371</td>\n",
       "      <td>0.6666</td>\n",
       "    </tr>\n",
       "  </tbody>\n",
       "</table>\n",
       "</div>"
      ],
      "text/plain": [
       "     country        date  manufacturing pmi  services pmi  \\\n",
       "0  australia  2020-01-01               49.6          50.6   \n",
       "1  australia  2020-02-01               50.2          49.0   \n",
       "2  australia  2020-03-01               49.7          38.5   \n",
       "3  australia  2020-04-01               44.1          19.5   \n",
       "4  australia  2020-05-01               44.0          26.9   \n",
       "\n",
       "   consumer confidence interest rates cpi yoy core cpi unemployment rate  \\\n",
       "0                 93.4          0.75%   2.20%    1.70%             5.20%   \n",
       "1                 95.5          0.75%   2.20%    1.70%             5.10%   \n",
       "2                 91.9          0.50%   2.20%    1.70%             5.20%   \n",
       "3                 75.6          0.25%  -0.30%    1.20%             6.30%   \n",
       "4                 88.1          0.25%  -0.30%    1.20%             7.00%   \n",
       "\n",
       "  gdp yoy  ticker    open    high     low   close  \n",
       "0   1.20%  audusd  0.7021  0.7031  0.6682  0.6691  \n",
       "1   1.20%  audusd  0.6690  0.6776  0.6434  0.6509  \n",
       "2   1.20%  audusd  0.6488  0.6686  0.5507  0.6135  \n",
       "3  -6.10%  audusd  0.6133  0.6571  0.5979  0.6510  \n",
       "4  -6.10%  audusd  0.6511  0.6684  0.6371  0.6666  "
      ]
     },
     "execution_count": 3,
     "metadata": {},
     "output_type": "execute_result"
    }
   ],
   "source": [
    "import suntzu as snt\n",
    "teste = snt.read_file(\"economic_data.csv\")\n",
    "teste.head()"
   ]
  },
  {
   "cell_type": "markdown",
   "metadata": {},
   "source": [
    "#### Packages Versions"
   ]
  },
  {
   "cell_type": "markdown",
   "metadata": {},
   "source": [
    "### **Data Loading**"
   ]
  },
  {
   "cell_type": "markdown",
   "metadata": {},
   "source": [
    "#### Getting the Data"
   ]
  },
  {
   "cell_type": "markdown",
   "metadata": {},
   "source": [
    "#### Data Interpretation"
   ]
  },
  {
   "cell_type": "markdown",
   "metadata": {},
   "source": [
    "### **Functions Demonstration**"
   ]
  },
  {
   "cell_type": "markdown",
   "metadata": {},
   "source": [
    "#### Metadata"
   ]
  },
  {
   "cell_type": "markdown",
   "metadata": {},
   "source": [
    "#### Memory Optimization"
   ]
  },
  {
   "cell_type": "markdown",
   "metadata": {},
   "source": [
    "#### Visualization"
   ]
  },
  {
   "cell_type": "markdown",
   "metadata": {},
   "source": [
    "### **Conclusion**"
   ]
  },
  {
   "cell_type": "markdown",
   "metadata": {},
   "source": [
    "#### Recap"
   ]
  },
  {
   "cell_type": "markdown",
   "metadata": {},
   "source": [
    "#### More Information"
   ]
  }
 ],
 "metadata": {
  "kernelspec": {
   "display_name": "suntzu",
   "language": "python",
   "name": "python3"
  },
  "language_info": {
   "codemirror_mode": {
    "name": "ipython",
    "version": 3
   },
   "file_extension": ".py",
   "mimetype": "text/x-python",
   "name": "python",
   "nbconvert_exporter": "python",
   "pygments_lexer": "ipython3",
   "version": "3.12.3"
  }
 },
 "nbformat": 4,
 "nbformat_minor": 2
}
