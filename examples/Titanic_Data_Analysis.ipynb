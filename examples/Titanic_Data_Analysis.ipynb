{
 "cells": [
  {
   "cell_type": "markdown",
   "metadata": {},
   "source": [
    "# **Analysing Titanic Data**"
   ]
  },
  {
   "cell_type": "markdown",
   "metadata": {},
   "source": [
    "### **Introduction**"
   ]
  },
  {
   "cell_type": "markdown",
   "metadata": {},
   "source": [
    "In 1912, one of the most famous maritime disasters in history occurred, resulting in the loss of over 1,500 lives.\n",
    "\n",
    "In this notebook, we will use a dataset that includes information on some of the passengers involved in that tragic incident. This dataset contains data on 891 passengers, which we will analyze to understand the factors that contributed to passenger survival on the Titanic.\n",
    "\n",
    "Additionally, this notebook will showcase the functions of the data science library Suntzu. \n",
    "\n",
    "You can find more info about it here:\n",
    " - Source code: [GitHub Repository](https://github.com/Abigor111/SunTzu)\n",
    " - Documentation: [Read the Docs](https://suntzu.readthedocs.io/en/latest/index.html)\n",
    " - Latest Versions: [PyPI](https://pypi.org/project/suntzu/#history)"
   ]
  },
  {
   "cell_type": "markdown",
   "metadata": {},
   "source": [
    "### **Packages**"
   ]
  },
  {
   "cell_type": "markdown",
   "metadata": {},
   "source": [
    "#### Packages Installation"
   ]
  },
  {
   "cell_type": "code",
   "execution_count": 1,
   "metadata": {},
   "outputs": [
    {
     "name": "stdout",
     "output_type": "stream",
     "text": [
      "Requirement already satisfied: suntzu in /home/abigor/miniconda3/envs/suntzu/lib/python3.12/site-packages (0.8.0)\n",
      "Requirement already satisfied: pandas in /home/abigor/miniconda3/envs/suntzu/lib/python3.12/site-packages (from suntzu) (2.2.2)\n",
      "Requirement already satisfied: xarray in /home/abigor/miniconda3/envs/suntzu/lib/python3.12/site-packages (from suntzu) (2024.5.0)\n",
      "Requirement already satisfied: pyarrow in /home/abigor/miniconda3/envs/suntzu/lib/python3.12/site-packages (from suntzu) (16.1.0)\n",
      "Requirement already satisfied: numpy in /home/abigor/miniconda3/envs/suntzu/lib/python3.12/site-packages (from suntzu) (1.26.4)\n",
      "Requirement already satisfied: jsonschema in /home/abigor/miniconda3/envs/suntzu/lib/python3.12/site-packages (from suntzu) (4.22.0)\n",
      "Requirement already satisfied: IPython in /home/abigor/miniconda3/envs/suntzu/lib/python3.12/site-packages (from suntzu) (8.25.0)\n",
      "Requirement already satisfied: slack-sdk in /home/abigor/miniconda3/envs/suntzu/lib/python3.12/site-packages (from suntzu) (3.28.0)\n",
      "Requirement already satisfied: matplotlib in /home/abigor/miniconda3/envs/suntzu/lib/python3.12/site-packages (from suntzu) (3.8.4)\n",
      "Requirement already satisfied: decorator in /home/abigor/miniconda3/envs/suntzu/lib/python3.12/site-packages (from IPython->suntzu) (5.1.1)\n",
      "Requirement already satisfied: jedi>=0.16 in /home/abigor/miniconda3/envs/suntzu/lib/python3.12/site-packages (from IPython->suntzu) (0.19.1)\n",
      "Requirement already satisfied: matplotlib-inline in /home/abigor/miniconda3/envs/suntzu/lib/python3.12/site-packages (from IPython->suntzu) (0.1.7)\n",
      "Requirement already satisfied: prompt-toolkit<3.1.0,>=3.0.41 in /home/abigor/miniconda3/envs/suntzu/lib/python3.12/site-packages (from IPython->suntzu) (3.0.47)\n",
      "Requirement already satisfied: pygments>=2.4.0 in /home/abigor/miniconda3/envs/suntzu/lib/python3.12/site-packages (from IPython->suntzu) (2.18.0)\n",
      "Requirement already satisfied: stack-data in /home/abigor/miniconda3/envs/suntzu/lib/python3.12/site-packages (from IPython->suntzu) (0.6.2)\n",
      "Requirement already satisfied: traitlets>=5.13.0 in /home/abigor/miniconda3/envs/suntzu/lib/python3.12/site-packages (from IPython->suntzu) (5.14.3)\n",
      "Requirement already satisfied: pexpect>4.3 in /home/abigor/miniconda3/envs/suntzu/lib/python3.12/site-packages (from IPython->suntzu) (4.9.0)\n",
      "Requirement already satisfied: attrs>=22.2.0 in /home/abigor/miniconda3/envs/suntzu/lib/python3.12/site-packages (from jsonschema->suntzu) (23.2.0)\n",
      "Requirement already satisfied: jsonschema-specifications>=2023.03.6 in /home/abigor/miniconda3/envs/suntzu/lib/python3.12/site-packages (from jsonschema->suntzu) (2023.12.1)\n",
      "Requirement already satisfied: referencing>=0.28.4 in /home/abigor/miniconda3/envs/suntzu/lib/python3.12/site-packages (from jsonschema->suntzu) (0.35.1)\n",
      "Requirement already satisfied: rpds-py>=0.7.1 in /home/abigor/miniconda3/envs/suntzu/lib/python3.12/site-packages (from jsonschema->suntzu) (0.18.1)\n",
      "Requirement already satisfied: contourpy>=1.0.1 in /home/abigor/miniconda3/envs/suntzu/lib/python3.12/site-packages (from matplotlib->suntzu) (1.2.1)\n",
      "Requirement already satisfied: cycler>=0.10 in /home/abigor/miniconda3/envs/suntzu/lib/python3.12/site-packages (from matplotlib->suntzu) (0.12.1)\n",
      "Requirement already satisfied: fonttools>=4.22.0 in /home/abigor/miniconda3/envs/suntzu/lib/python3.12/site-packages (from matplotlib->suntzu) (4.53.0)\n",
      "Requirement already satisfied: kiwisolver>=1.3.1 in /home/abigor/miniconda3/envs/suntzu/lib/python3.12/site-packages (from matplotlib->suntzu) (1.4.5)\n",
      "Requirement already satisfied: packaging>=20.0 in /home/abigor/miniconda3/envs/suntzu/lib/python3.12/site-packages (from matplotlib->suntzu) (24.1)\n",
      "Requirement already satisfied: pillow>=8 in /home/abigor/miniconda3/envs/suntzu/lib/python3.12/site-packages (from matplotlib->suntzu) (10.3.0)\n",
      "Requirement already satisfied: pyparsing>=2.3.1 in /home/abigor/miniconda3/envs/suntzu/lib/python3.12/site-packages (from matplotlib->suntzu) (3.1.2)\n",
      "Requirement already satisfied: python-dateutil>=2.7 in /home/abigor/miniconda3/envs/suntzu/lib/python3.12/site-packages (from matplotlib->suntzu) (2.9.0)\n",
      "Requirement already satisfied: pytz>=2020.1 in /home/abigor/miniconda3/envs/suntzu/lib/python3.12/site-packages (from pandas->suntzu) (2024.1)\n",
      "Requirement already satisfied: tzdata>=2022.7 in /home/abigor/miniconda3/envs/suntzu/lib/python3.12/site-packages (from pandas->suntzu) (2024.1)\n",
      "Requirement already satisfied: parso<0.9.0,>=0.8.3 in /home/abigor/miniconda3/envs/suntzu/lib/python3.12/site-packages (from jedi>=0.16->IPython->suntzu) (0.8.4)\n",
      "Requirement already satisfied: ptyprocess>=0.5 in /home/abigor/miniconda3/envs/suntzu/lib/python3.12/site-packages (from pexpect>4.3->IPython->suntzu) (0.7.0)\n",
      "Requirement already satisfied: wcwidth in /home/abigor/miniconda3/envs/suntzu/lib/python3.12/site-packages (from prompt-toolkit<3.1.0,>=3.0.41->IPython->suntzu) (0.2.13)\n",
      "Requirement already satisfied: six>=1.5 in /home/abigor/miniconda3/envs/suntzu/lib/python3.12/site-packages (from python-dateutil>=2.7->matplotlib->suntzu) (1.16.0)\n",
      "Requirement already satisfied: executing>=1.2.0 in /home/abigor/miniconda3/envs/suntzu/lib/python3.12/site-packages (from stack-data->IPython->suntzu) (2.0.1)\n",
      "Requirement already satisfied: asttokens>=2.1.0 in /home/abigor/miniconda3/envs/suntzu/lib/python3.12/site-packages (from stack-data->IPython->suntzu) (2.4.1)\n",
      "Requirement already satisfied: pure-eval in /home/abigor/miniconda3/envs/suntzu/lib/python3.12/site-packages (from stack-data->IPython->suntzu) (0.2.2)\n",
      "Note: you may need to restart the kernel to use updated packages.\n"
     ]
    }
   ],
   "source": [
    "%pip install suntzu"
   ]
  },
  {
   "cell_type": "code",
   "execution_count": 2,
   "metadata": {},
   "outputs": [],
   "source": [
    "import suntzu as snt\n",
    "import json\n",
    "import pandas as pd"
   ]
  },
  {
   "cell_type": "markdown",
   "metadata": {},
   "source": [
    "#### Packages Versions"
   ]
  },
  {
   "cell_type": "code",
   "execution_count": 3,
   "metadata": {},
   "outputs": [
    {
     "name": "stdout",
     "output_type": "stream",
     "text": [
      "Suntzu version: 0.8.0\n",
      "Json version: 2.0.9\n",
      "Pandas version: 2.2.2\n"
     ]
    }
   ],
   "source": [
    "print(f\"Suntzu version: {snt.__version__}\")\n",
    "print(f\"Json version: {json.__version__}\")\n",
    "print(f\"Pandas version: {pd.__version__}\")"
   ]
  },
  {
   "cell_type": "markdown",
   "metadata": {},
   "source": [
    "### **Data Loading**"
   ]
  },
  {
   "cell_type": "markdown",
   "metadata": {},
   "source": [
    "#### Getting the Data"
   ]
  },
  {
   "cell_type": "markdown",
   "metadata": {},
   "source": [
    "If you want to follow along with this notebook on your own notebook, get the dataset [here](https://www.kaggle.com/c/titanic/data?select=train.csv)."
   ]
  },
  {
   "cell_type": "code",
   "execution_count": 4,
   "metadata": {},
   "outputs": [],
   "source": [
    "df = snt.read_file(\"titanic.csv\")"
   ]
  },
  {
   "cell_type": "markdown",
   "metadata": {},
   "source": [
    "#### Data Interpretation"
   ]
  },
  {
   "cell_type": "code",
   "execution_count": 5,
   "metadata": {},
   "outputs": [
    {
     "data": {
      "text/html": [
       "<div>\n",
       "<style scoped>\n",
       "    .dataframe tbody tr th:only-of-type {\n",
       "        vertical-align: middle;\n",
       "    }\n",
       "\n",
       "    .dataframe tbody tr th {\n",
       "        vertical-align: top;\n",
       "    }\n",
       "\n",
       "    .dataframe thead th {\n",
       "        text-align: right;\n",
       "    }\n",
       "</style>\n",
       "<table border=\"1\" class=\"dataframe\">\n",
       "  <thead>\n",
       "    <tr style=\"text-align: right;\">\n",
       "      <th></th>\n",
       "      <th>PassengerId</th>\n",
       "      <th>Survived</th>\n",
       "      <th>Pclass</th>\n",
       "      <th>Name</th>\n",
       "      <th>Sex</th>\n",
       "      <th>Age</th>\n",
       "      <th>SibSp</th>\n",
       "      <th>Parch</th>\n",
       "      <th>Ticket</th>\n",
       "      <th>Fare</th>\n",
       "      <th>Cabin</th>\n",
       "      <th>Embarked</th>\n",
       "    </tr>\n",
       "  </thead>\n",
       "  <tbody>\n",
       "    <tr>\n",
       "      <th>0</th>\n",
       "      <td>1</td>\n",
       "      <td>0</td>\n",
       "      <td>3</td>\n",
       "      <td>Braund, Mr. Owen Harris</td>\n",
       "      <td>male</td>\n",
       "      <td>22.0</td>\n",
       "      <td>1</td>\n",
       "      <td>0</td>\n",
       "      <td>A/5 21171</td>\n",
       "      <td>7.2500</td>\n",
       "      <td>NaN</td>\n",
       "      <td>S</td>\n",
       "    </tr>\n",
       "    <tr>\n",
       "      <th>1</th>\n",
       "      <td>2</td>\n",
       "      <td>1</td>\n",
       "      <td>1</td>\n",
       "      <td>Cumings, Mrs. John Bradley (Florence Briggs Th...</td>\n",
       "      <td>female</td>\n",
       "      <td>38.0</td>\n",
       "      <td>1</td>\n",
       "      <td>0</td>\n",
       "      <td>PC 17599</td>\n",
       "      <td>71.2833</td>\n",
       "      <td>C85</td>\n",
       "      <td>C</td>\n",
       "    </tr>\n",
       "    <tr>\n",
       "      <th>2</th>\n",
       "      <td>3</td>\n",
       "      <td>1</td>\n",
       "      <td>3</td>\n",
       "      <td>Heikkinen, Miss. Laina</td>\n",
       "      <td>female</td>\n",
       "      <td>26.0</td>\n",
       "      <td>0</td>\n",
       "      <td>0</td>\n",
       "      <td>STON/O2. 3101282</td>\n",
       "      <td>7.9250</td>\n",
       "      <td>NaN</td>\n",
       "      <td>S</td>\n",
       "    </tr>\n",
       "    <tr>\n",
       "      <th>3</th>\n",
       "      <td>4</td>\n",
       "      <td>1</td>\n",
       "      <td>1</td>\n",
       "      <td>Futrelle, Mrs. Jacques Heath (Lily May Peel)</td>\n",
       "      <td>female</td>\n",
       "      <td>35.0</td>\n",
       "      <td>1</td>\n",
       "      <td>0</td>\n",
       "      <td>113803</td>\n",
       "      <td>53.1000</td>\n",
       "      <td>C123</td>\n",
       "      <td>S</td>\n",
       "    </tr>\n",
       "    <tr>\n",
       "      <th>4</th>\n",
       "      <td>5</td>\n",
       "      <td>0</td>\n",
       "      <td>3</td>\n",
       "      <td>Allen, Mr. William Henry</td>\n",
       "      <td>male</td>\n",
       "      <td>35.0</td>\n",
       "      <td>0</td>\n",
       "      <td>0</td>\n",
       "      <td>373450</td>\n",
       "      <td>8.0500</td>\n",
       "      <td>NaN</td>\n",
       "      <td>S</td>\n",
       "    </tr>\n",
       "  </tbody>\n",
       "</table>\n",
       "</div>"
      ],
      "text/plain": [
       "   PassengerId  Survived  Pclass  \\\n",
       "0            1         0       3   \n",
       "1            2         1       1   \n",
       "2            3         1       3   \n",
       "3            4         1       1   \n",
       "4            5         0       3   \n",
       "\n",
       "                                                Name     Sex   Age  SibSp  \\\n",
       "0                            Braund, Mr. Owen Harris    male  22.0      1   \n",
       "1  Cumings, Mrs. John Bradley (Florence Briggs Th...  female  38.0      1   \n",
       "2                             Heikkinen, Miss. Laina  female  26.0      0   \n",
       "3       Futrelle, Mrs. Jacques Heath (Lily May Peel)  female  35.0      1   \n",
       "4                           Allen, Mr. William Henry    male  35.0      0   \n",
       "\n",
       "   Parch            Ticket     Fare Cabin Embarked  \n",
       "0      0         A/5 21171   7.2500   NaN        S  \n",
       "1      0          PC 17599  71.2833   C85        C  \n",
       "2      0  STON/O2. 3101282   7.9250   NaN        S  \n",
       "3      0            113803  53.1000  C123        S  \n",
       "4      0            373450   8.0500   NaN        S  "
      ]
     },
     "execution_count": 5,
     "metadata": {},
     "output_type": "execute_result"
    }
   ],
   "source": [
    "df.head()"
   ]
  },
  {
   "cell_type": "markdown",
   "metadata": {},
   "source": [
    "As we can see in this dataset, the information we have on the passengers includes their names, ages, genders, classes, fares, and whether they survived or not. However, we also have some data that we don't immediately understand, such as \"SibSp\" and \"Parch.\" We will try to determine what these columns mean by reading the metadata of this dataset."
   ]
  },
  {
   "cell_type": "code",
   "execution_count": 6,
   "metadata": {},
   "outputs": [
    {
     "data": {
      "text/plain": [
       "(891, 12)"
      ]
     },
     "execution_count": 6,
     "metadata": {},
     "output_type": "execute_result"
    }
   ],
   "source": [
    "df.shape"
   ]
  },
  {
   "cell_type": "markdown",
   "metadata": {},
   "source": [
    "Other information about this dataset is that has 891 rows and 12 columns"
   ]
  },
  {
   "cell_type": "markdown",
   "metadata": {},
   "source": [
    "### **Functions Demonstration**"
   ]
  },
  {
   "cell_type": "markdown",
   "metadata": {},
   "source": [
    "#### **Metadata**"
   ]
  },
  {
   "cell_type": "markdown",
   "metadata": {},
   "source": [
    "In this library, when we want to start cleaning data, optimization, visualization, or working with metadata, we need to begin the process with the function start_. \n",
    "\n",
    "For example, to start the metadata process, we will use the function start_ParquetMetadata. This function will return a dataframe with the metadata of the dataset.\n",
    "\n",
    "This method is used so that when we start a process, we don't have all of the library functions available; we just have the functions needed for that specific process. The reason for this is to help people new to Data Science understand what is done in each process. Of course, this takes some freedom from the user, but it is a good practice to know what is being done in each process. It also makes the code cleaner and more legible for people who are not programmers, helping them understand how the data was treated."
   ]
  },
  {
   "cell_type": "code",
   "execution_count": 7,
   "metadata": {},
   "outputs": [],
   "source": [
    "df = snt.start_ParquetMetadata(df)"
   ]
  },
  {
   "cell_type": "markdown",
   "metadata": {},
   "source": [
    "**Read Metadata**"
   ]
  },
  {
   "cell_type": "code",
   "execution_count": 8,
   "metadata": {},
   "outputs": [
    {
     "name": "stdout",
     "output_type": "stream",
     "text": [
      "No metadata found.\n"
     ]
    }
   ],
   "source": [
    "df.read_parquet_metadata()"
   ]
  },
  {
   "cell_type": "markdown",
   "metadata": {},
   "source": [
    "As we can see in the output below, this dataset has no metadata. Let's check the data source to understand what \"SibSp\" and \"Parch\" mean. In this case, the dataset source is Kaggle, so let's look at where the data is hosted and see if there is any information about these columns. [Source](https://www.kaggle.com/c/titanic/data?select=train.csv)"
   ]
  },
  {
   "cell_type": "markdown",
   "metadata": {},
   "source": [
    "Checking the data source we understood what it means \"Sibps\" and \"Parch\" and got more info. The info we got was:\n",
    "\n",
    "| Variable | Definition | Key |\n",
    "|----------|------------|-----|\n",
    "| survival | Survival | 0 = No, 1 = Yes |\n",
    "| pclass | Ticket class | 1 = 1st, 2 = 2nd, 3 = 3rd |\n",
    "| sex | Sex | |\n",
    "| Age | Age in years | |\n",
    "| sibsp | # of siblings / spouses aboard the Titanic | |\n",
    "| parch | # of parents / children aboard the Titanic | |\n",
    "| ticket | Ticket number | |\n",
    "| fare | Passenger fare | |\n",
    "| cabin | Cabin number | |\n",
    "| embarked | Port of Embarkation | C = Cherbourg, Q = Queenstown, S = Southampton |\n"
   ]
  },
  {
   "cell_type": "markdown",
   "metadata": {},
   "source": [
    "**Insert Metatadata**"
   ]
  },
  {
   "cell_type": "markdown",
   "metadata": {},
   "source": [
    "To fix the problem of this dataset not having metadata, let's use the information from the website and insert some metadata into this dataset.\n",
    "\n",
    "To do that let's save this data on json file and then insert it into the database, the way we do that is on the follow-up lines."
   ]
  },
  {
   "cell_type": "code",
   "execution_count": 9,
   "metadata": {},
   "outputs": [],
   "source": [
    "metadata = {\n",
    "        \"PassengerId\": \n",
    "            {\"Description\": \"Unique identifier for each passenger\"},\n",
    "        \"Survived\": \n",
    "            {\"Description\": \"Survival status 0 = No, 1 = Yes\"},\n",
    "        \"Pclass\": \n",
    "            {\"Description\": \"Ticket class\", \"Calculation\": \"1 = 1st, 2 = 2nd, 3 = 3rd\"},\n",
    "        \"Name\": \n",
    "            {\"Description\": \"Passenger's name\"},\n",
    "        \"Sex\": \n",
    "            {\"Description\": \"Passenger's gender\"},\n",
    "        \"Age\": \n",
    "            {\"Description\": \"Passenger's age\"},\n",
    "        \"SibSp\": \n",
    "            {\"Description\": \"Number of siblings/spouses aboard the Titanic\"},\n",
    "        \"Parch\": \n",
    "            {\"Description\": \"Number of parents/children aboard the Titanic\"},\n",
    "        \"Ticket\": \n",
    "            {\"Description\": \"Ticket number\"},\n",
    "        \"Fare\": \n",
    "            {\"Description\": \"Ticket fare\"},\n",
    "        \"Cabin\": \n",
    "            {\"Description\": \"Cabin number\"},\n",
    "        \"Embarked\": \n",
    "            {\"Description\": \"Port of embarkation\", \"Calculation\": \"(C = Cherbourg, Q = Queenstown, S = Southampton)\"}   \n",
    "}\n",
    "with open('titanic_metadata.json', 'w') as f:\n",
    "    json.dump(metadata, f)"
   ]
  },
  {
   "cell_type": "markdown",
   "metadata": {},
   "source": [
    "Now we use the following function to insert the metadata on file and then export it to a Parquet file because CSV does not support natively metadata"
   ]
  },
  {
   "cell_type": "code",
   "execution_count": 10,
   "metadata": {},
   "outputs": [],
   "source": [
    "df.insert_parquet_metadata_json(\"titanic_metadata.json\", \"titanic.parquet\")"
   ]
  },
  {
   "cell_type": "markdown",
   "metadata": {},
   "source": [
    "So after exporting it let's read the metadata"
   ]
  },
  {
   "cell_type": "code",
   "execution_count": 11,
   "metadata": {},
   "outputs": [
    {
     "name": "stdout",
     "output_type": "stream",
     "text": [
      "Column: PassengerId\n",
      "    Description: Unique identifier for each passenger\n",
      "Column: Survived\n",
      "    Description: Survival status 0 = No, 1 = Yes\n",
      "Column: Pclass\n",
      "    Description: Ticket class\n",
      "    Calculation: 1 = 1st, 2 = 2nd, 3 = 3rd\n",
      "Column: Name\n",
      "    Description: Passenger's name\n",
      "Column: Sex\n",
      "    Description: Passenger's gender\n",
      "Column: Age\n",
      "    Description: Passenger's age\n",
      "Column: SibSp\n",
      "    Description: Number of siblings/spouses aboard the Titanic\n",
      "Column: Parch\n",
      "    Description: Number of parents/children aboard the Titanic\n",
      "Column: Ticket\n",
      "    Description: Ticket number\n",
      "Column: Fare\n",
      "    Description: Ticket fare\n",
      "Column: Cabin\n",
      "    Description: Cabin number\n",
      "Column: Embarked\n",
      "    Description: Port of embarkation\n",
      "    Calculation: (C = Cherbourg, Q = Queenstown, S = Southampton)\n"
     ]
    }
   ],
   "source": [
    "df = snt.read_file(\"titanic.parquet\")\n",
    "metadata = snt.start_ParquetMetadata(df)\n",
    "metadata.read_parquet_metadata()"
   ]
  },
  {
   "cell_type": "markdown",
   "metadata": {},
   "source": [
    "#### **Memory Optimization**"
   ]
  },
  {
   "cell_type": "markdown",
   "metadata": {},
   "source": [
    "Now the next step let's start optimize the memory of the dataframe"
   ]
  },
  {
   "cell_type": "code",
   "execution_count": 12,
   "metadata": {},
   "outputs": [],
   "source": [
    "optimization = snt.start_Optimization(df)"
   ]
  },
  {
   "cell_type": "markdown",
   "metadata": {},
   "source": [
    "First, let's check the memory usage of the dataframe"
   ]
  },
  {
   "cell_type": "code",
   "execution_count": 13,
   "metadata": {},
   "outputs": [
    {
     "data": {
      "text/html": [
       "<div>\n",
       "<style scoped>\n",
       "    .dataframe tbody tr th:only-of-type {\n",
       "        vertical-align: middle;\n",
       "    }\n",
       "\n",
       "    .dataframe tbody tr th {\n",
       "        vertical-align: top;\n",
       "    }\n",
       "\n",
       "    .dataframe thead th {\n",
       "        text-align: right;\n",
       "    }\n",
       "</style>\n",
       "<table border=\"1\" class=\"dataframe\">\n",
       "  <thead>\n",
       "    <tr style=\"text-align: right;\">\n",
       "      <th></th>\n",
       "      <th>Col_Name</th>\n",
       "      <th>Memory_Usage(kb)</th>\n",
       "    </tr>\n",
       "  </thead>\n",
       "  <tbody>\n",
       "    <tr>\n",
       "      <th>0</th>\n",
       "      <td>PassengerId</td>\n",
       "      <td>7.09</td>\n",
       "    </tr>\n",
       "    <tr>\n",
       "      <th>1</th>\n",
       "      <td>Survived</td>\n",
       "      <td>7.09</td>\n",
       "    </tr>\n",
       "    <tr>\n",
       "      <th>2</th>\n",
       "      <td>Pclass</td>\n",
       "      <td>7.09</td>\n",
       "    </tr>\n",
       "    <tr>\n",
       "      <th>3</th>\n",
       "      <td>Name</td>\n",
       "      <td>66.23</td>\n",
       "    </tr>\n",
       "    <tr>\n",
       "      <th>4</th>\n",
       "      <td>Sex</td>\n",
       "      <td>46.86</td>\n",
       "    </tr>\n",
       "    <tr>\n",
       "      <th>5</th>\n",
       "      <td>Age</td>\n",
       "      <td>7.09</td>\n",
       "    </tr>\n",
       "    <tr>\n",
       "      <th>6</th>\n",
       "      <td>SibSp</td>\n",
       "      <td>7.09</td>\n",
       "    </tr>\n",
       "    <tr>\n",
       "      <th>7</th>\n",
       "      <td>Parch</td>\n",
       "      <td>7.09</td>\n",
       "    </tr>\n",
       "    <tr>\n",
       "      <th>8</th>\n",
       "      <td>Ticket</td>\n",
       "      <td>48.64</td>\n",
       "    </tr>\n",
       "    <tr>\n",
       "      <th>9</th>\n",
       "      <td>Fare</td>\n",
       "      <td>7.09</td>\n",
       "    </tr>\n",
       "    <tr>\n",
       "      <th>10</th>\n",
       "      <td>Cabin</td>\n",
       "      <td>26.71</td>\n",
       "    </tr>\n",
       "    <tr>\n",
       "      <th>11</th>\n",
       "      <td>Embarked</td>\n",
       "      <td>43.58</td>\n",
       "    </tr>\n",
       "    <tr>\n",
       "      <th>12</th>\n",
       "      <td>Total</td>\n",
       "      <td>281.65</td>\n",
       "    </tr>\n",
       "  </tbody>\n",
       "</table>\n",
       "</div>"
      ],
      "text/plain": [
       "       Col_Name  Memory_Usage(kb)\n",
       "0   PassengerId              7.09\n",
       "1      Survived              7.09\n",
       "2        Pclass              7.09\n",
       "3          Name             66.23\n",
       "4           Sex             46.86\n",
       "5           Age              7.09\n",
       "6         SibSp              7.09\n",
       "7         Parch              7.09\n",
       "8        Ticket             48.64\n",
       "9          Fare              7.09\n",
       "10        Cabin             26.71\n",
       "11     Embarked             43.58\n",
       "12        Total            281.65"
      ]
     },
     "metadata": {},
     "output_type": "display_data"
    }
   ],
   "source": [
    "memoryused = optimization.get_memory_usage(show_df=True)"
   ]
  },
  {
   "cell_type": "markdown",
   "metadata": {},
   "source": [
    "As we can see right now the dataframe is using 281 kilobytes of memory, judging by the size of dataframe is quite a lot so let's optimize it. To do that let's check what are the dtypes the dataframe is currently using and what are the best ones."
   ]
  },
  {
   "cell_type": "markdown",
   "metadata": {},
   "source": [
    "**Best Dtypes**"
   ]
  },
  {
   "cell_type": "code",
   "execution_count": 14,
   "metadata": {},
   "outputs": [
    {
     "data": {
      "text/html": [
       "<div>\n",
       "<style scoped>\n",
       "    .dataframe tbody tr th:only-of-type {\n",
       "        vertical-align: middle;\n",
       "    }\n",
       "\n",
       "    .dataframe tbody tr th {\n",
       "        vertical-align: top;\n",
       "    }\n",
       "\n",
       "    .dataframe thead th {\n",
       "        text-align: right;\n",
       "    }\n",
       "</style>\n",
       "<table border=\"1\" class=\"dataframe\">\n",
       "  <thead>\n",
       "    <tr style=\"text-align: right;\">\n",
       "      <th></th>\n",
       "      <th>Column_Name</th>\n",
       "      <th>Dtype</th>\n",
       "      <th>Best_Dtype</th>\n",
       "    </tr>\n",
       "  </thead>\n",
       "  <tbody>\n",
       "    <tr>\n",
       "      <th>0</th>\n",
       "      <td>PassengerId</td>\n",
       "      <td>int64</td>\n",
       "      <td>int16</td>\n",
       "    </tr>\n",
       "    <tr>\n",
       "      <th>1</th>\n",
       "      <td>Survived</td>\n",
       "      <td>int64</td>\n",
       "      <td>int8</td>\n",
       "    </tr>\n",
       "    <tr>\n",
       "      <th>2</th>\n",
       "      <td>Pclass</td>\n",
       "      <td>int64</td>\n",
       "      <td>int8</td>\n",
       "    </tr>\n",
       "    <tr>\n",
       "      <th>3</th>\n",
       "      <td>Name</td>\n",
       "      <td>object</td>\n",
       "      <td>category</td>\n",
       "    </tr>\n",
       "    <tr>\n",
       "      <th>4</th>\n",
       "      <td>Sex</td>\n",
       "      <td>object</td>\n",
       "      <td>category</td>\n",
       "    </tr>\n",
       "    <tr>\n",
       "      <th>5</th>\n",
       "      <td>Age</td>\n",
       "      <td>float64</td>\n",
       "      <td>float16</td>\n",
       "    </tr>\n",
       "    <tr>\n",
       "      <th>6</th>\n",
       "      <td>SibSp</td>\n",
       "      <td>int64</td>\n",
       "      <td>int8</td>\n",
       "    </tr>\n",
       "    <tr>\n",
       "      <th>7</th>\n",
       "      <td>Parch</td>\n",
       "      <td>int64</td>\n",
       "      <td>int8</td>\n",
       "    </tr>\n",
       "    <tr>\n",
       "      <th>8</th>\n",
       "      <td>Ticket</td>\n",
       "      <td>object</td>\n",
       "      <td>category</td>\n",
       "    </tr>\n",
       "    <tr>\n",
       "      <th>9</th>\n",
       "      <td>Fare</td>\n",
       "      <td>float64</td>\n",
       "      <td>float16</td>\n",
       "    </tr>\n",
       "    <tr>\n",
       "      <th>10</th>\n",
       "      <td>Cabin</td>\n",
       "      <td>object</td>\n",
       "      <td>category</td>\n",
       "    </tr>\n",
       "    <tr>\n",
       "      <th>11</th>\n",
       "      <td>Embarked</td>\n",
       "      <td>object</td>\n",
       "      <td>category</td>\n",
       "    </tr>\n",
       "  </tbody>\n",
       "</table>\n",
       "</div>"
      ],
      "text/plain": [
       "    Column_Name    Dtype Best_Dtype\n",
       "0   PassengerId    int64      int16\n",
       "1      Survived    int64       int8\n",
       "2        Pclass    int64       int8\n",
       "3          Name   object   category\n",
       "4           Sex   object   category\n",
       "5           Age  float64    float16\n",
       "6         SibSp    int64       int8\n",
       "7         Parch    int64       int8\n",
       "8        Ticket   object   category\n",
       "9          Fare  float64    float16\n",
       "10        Cabin   object   category\n",
       "11     Embarked   object   category"
      ]
     },
     "execution_count": 14,
     "metadata": {},
     "output_type": "execute_result"
    }
   ],
   "source": [
    "optimization.get_best_dtypes(show_df=True)"
   ]
  },
  {
   "cell_type": "markdown",
   "metadata": {},
   "source": [
    "As seen above, none of dataframe columns are using the best_dtype or recommended dtype. Let's fix that by converting it to the best dtypes and check the memory usage after that conversion."
   ]
  },
  {
   "cell_type": "code",
   "execution_count": 15,
   "metadata": {},
   "outputs": [
    {
     "data": {
      "text/html": [
       "<div>\n",
       "<style scoped>\n",
       "    .dataframe tbody tr th:only-of-type {\n",
       "        vertical-align: middle;\n",
       "    }\n",
       "\n",
       "    .dataframe tbody tr th {\n",
       "        vertical-align: top;\n",
       "    }\n",
       "\n",
       "    .dataframe thead th {\n",
       "        text-align: right;\n",
       "    }\n",
       "</style>\n",
       "<table border=\"1\" class=\"dataframe\">\n",
       "  <thead>\n",
       "    <tr style=\"text-align: right;\">\n",
       "      <th></th>\n",
       "      <th>Column_Name</th>\n",
       "      <th>Dtype</th>\n",
       "      <th>Best_Dtype</th>\n",
       "    </tr>\n",
       "  </thead>\n",
       "  <tbody>\n",
       "    <tr>\n",
       "      <th>0</th>\n",
       "      <td>PassengerId</td>\n",
       "      <td>int64</td>\n",
       "      <td>int16</td>\n",
       "    </tr>\n",
       "    <tr>\n",
       "      <th>1</th>\n",
       "      <td>Survived</td>\n",
       "      <td>int64</td>\n",
       "      <td>int8</td>\n",
       "    </tr>\n",
       "    <tr>\n",
       "      <th>2</th>\n",
       "      <td>Pclass</td>\n",
       "      <td>int64</td>\n",
       "      <td>int8</td>\n",
       "    </tr>\n",
       "    <tr>\n",
       "      <th>3</th>\n",
       "      <td>Name</td>\n",
       "      <td>object</td>\n",
       "      <td>category</td>\n",
       "    </tr>\n",
       "    <tr>\n",
       "      <th>4</th>\n",
       "      <td>Sex</td>\n",
       "      <td>object</td>\n",
       "      <td>category</td>\n",
       "    </tr>\n",
       "    <tr>\n",
       "      <th>5</th>\n",
       "      <td>Age</td>\n",
       "      <td>float64</td>\n",
       "      <td>float16</td>\n",
       "    </tr>\n",
       "    <tr>\n",
       "      <th>6</th>\n",
       "      <td>SibSp</td>\n",
       "      <td>int64</td>\n",
       "      <td>int8</td>\n",
       "    </tr>\n",
       "    <tr>\n",
       "      <th>7</th>\n",
       "      <td>Parch</td>\n",
       "      <td>int64</td>\n",
       "      <td>int8</td>\n",
       "    </tr>\n",
       "    <tr>\n",
       "      <th>8</th>\n",
       "      <td>Ticket</td>\n",
       "      <td>object</td>\n",
       "      <td>category</td>\n",
       "    </tr>\n",
       "    <tr>\n",
       "      <th>9</th>\n",
       "      <td>Fare</td>\n",
       "      <td>float64</td>\n",
       "      <td>float16</td>\n",
       "    </tr>\n",
       "    <tr>\n",
       "      <th>10</th>\n",
       "      <td>Cabin</td>\n",
       "      <td>object</td>\n",
       "      <td>category</td>\n",
       "    </tr>\n",
       "    <tr>\n",
       "      <th>11</th>\n",
       "      <td>Embarked</td>\n",
       "      <td>object</td>\n",
       "      <td>category</td>\n",
       "    </tr>\n",
       "  </tbody>\n",
       "</table>\n",
       "</div>"
      ],
      "text/plain": [
       "    Column_Name    Dtype Best_Dtype\n",
       "0   PassengerId    int64      int16\n",
       "1      Survived    int64       int8\n",
       "2        Pclass    int64       int8\n",
       "3          Name   object   category\n",
       "4           Sex   object   category\n",
       "5           Age  float64    float16\n",
       "6         SibSp    int64       int8\n",
       "7         Parch    int64       int8\n",
       "8        Ticket   object   category\n",
       "9          Fare  float64    float16\n",
       "10        Cabin   object   category\n",
       "11     Embarked   object   category"
      ]
     },
     "metadata": {},
     "output_type": "display_data"
    }
   ],
   "source": [
    "optimization = optimization.get_best_dtypes(convert=True, show_df=True)"
   ]
  },
  {
   "cell_type": "code",
   "execution_count": 16,
   "metadata": {},
   "outputs": [
    {
     "data": {
      "text/html": [
       "<div>\n",
       "<style scoped>\n",
       "    .dataframe tbody tr th:only-of-type {\n",
       "        vertical-align: middle;\n",
       "    }\n",
       "\n",
       "    .dataframe tbody tr th {\n",
       "        vertical-align: top;\n",
       "    }\n",
       "\n",
       "    .dataframe thead th {\n",
       "        text-align: right;\n",
       "    }\n",
       "</style>\n",
       "<table border=\"1\" class=\"dataframe\">\n",
       "  <thead>\n",
       "    <tr style=\"text-align: right;\">\n",
       "      <th></th>\n",
       "      <th>Col_Name</th>\n",
       "      <th>Memory_Usage(kb)</th>\n",
       "    </tr>\n",
       "  </thead>\n",
       "  <tbody>\n",
       "    <tr>\n",
       "      <th>0</th>\n",
       "      <td>PassengerId</td>\n",
       "      <td>1.87</td>\n",
       "    </tr>\n",
       "    <tr>\n",
       "      <th>1</th>\n",
       "      <td>Survived</td>\n",
       "      <td>1.00</td>\n",
       "    </tr>\n",
       "    <tr>\n",
       "      <th>2</th>\n",
       "      <td>Pclass</td>\n",
       "      <td>1.00</td>\n",
       "    </tr>\n",
       "    <tr>\n",
       "      <th>3</th>\n",
       "      <td>Name</td>\n",
       "      <td>100.26</td>\n",
       "    </tr>\n",
       "    <tr>\n",
       "      <th>4</th>\n",
       "      <td>Sex</td>\n",
       "      <td>1.21</td>\n",
       "    </tr>\n",
       "    <tr>\n",
       "      <th>5</th>\n",
       "      <td>Age</td>\n",
       "      <td>1.87</td>\n",
       "    </tr>\n",
       "    <tr>\n",
       "      <th>6</th>\n",
       "      <td>SibSp</td>\n",
       "      <td>1.00</td>\n",
       "    </tr>\n",
       "    <tr>\n",
       "      <th>7</th>\n",
       "      <td>Parch</td>\n",
       "      <td>1.00</td>\n",
       "    </tr>\n",
       "    <tr>\n",
       "      <th>8</th>\n",
       "      <td>Ticket</td>\n",
       "      <td>55.16</td>\n",
       "    </tr>\n",
       "    <tr>\n",
       "      <th>9</th>\n",
       "      <td>Fare</td>\n",
       "      <td>1.87</td>\n",
       "    </tr>\n",
       "    <tr>\n",
       "      <th>10</th>\n",
       "      <td>Cabin</td>\n",
       "      <td>13.46</td>\n",
       "    </tr>\n",
       "    <tr>\n",
       "      <th>11</th>\n",
       "      <td>Embarked</td>\n",
       "      <td>1.25</td>\n",
       "    </tr>\n",
       "    <tr>\n",
       "      <th>12</th>\n",
       "      <td>Total</td>\n",
       "      <td>180.95</td>\n",
       "    </tr>\n",
       "  </tbody>\n",
       "</table>\n",
       "</div>"
      ],
      "text/plain": [
       "       Col_Name  Memory_Usage(kb)\n",
       "0   PassengerId              1.87\n",
       "1      Survived              1.00\n",
       "2        Pclass              1.00\n",
       "3          Name            100.26\n",
       "4           Sex              1.21\n",
       "5           Age              1.87\n",
       "6         SibSp              1.00\n",
       "7         Parch              1.00\n",
       "8        Ticket             55.16\n",
       "9          Fare              1.87\n",
       "10        Cabin             13.46\n",
       "11     Embarked              1.25\n",
       "12        Total            180.95"
      ]
     },
     "metadata": {},
     "output_type": "display_data"
    }
   ],
   "source": [
    "memoryused = optimization.get_memory_usage(show_df=True)"
   ]
  },
  {
   "cell_type": "markdown",
   "metadata": {},
   "source": [
    "After the conversion we can see that we reduced quite a lot of memory usage, now the dataframe is using only 180 kilobytes of memory. But the memory used by the columns \"Name\" and \"Ticket\" increased so let's revert that and investigate later why that increase in memory."
   ]
  },
  {
   "cell_type": "code",
   "execution_count": 17,
   "metadata": {},
   "outputs": [],
   "source": [
    "optimization[\"Name\"] = optimization[\"Name\"].astype(\"object\")\n",
    "optimization[\"Ticket\"] = optimization[\"Ticket\"].astype(\"object\")"
   ]
  },
  {
   "cell_type": "code",
   "execution_count": 18,
   "metadata": {},
   "outputs": [
    {
     "data": {
      "text/html": [
       "<div>\n",
       "<style scoped>\n",
       "    .dataframe tbody tr th:only-of-type {\n",
       "        vertical-align: middle;\n",
       "    }\n",
       "\n",
       "    .dataframe tbody tr th {\n",
       "        vertical-align: top;\n",
       "    }\n",
       "\n",
       "    .dataframe thead th {\n",
       "        text-align: right;\n",
       "    }\n",
       "</style>\n",
       "<table border=\"1\" class=\"dataframe\">\n",
       "  <thead>\n",
       "    <tr style=\"text-align: right;\">\n",
       "      <th></th>\n",
       "      <th>Col_Name</th>\n",
       "      <th>Memory_Usage(kb)</th>\n",
       "    </tr>\n",
       "  </thead>\n",
       "  <tbody>\n",
       "    <tr>\n",
       "      <th>0</th>\n",
       "      <td>PassengerId</td>\n",
       "      <td>1.87</td>\n",
       "    </tr>\n",
       "    <tr>\n",
       "      <th>1</th>\n",
       "      <td>Survived</td>\n",
       "      <td>1.00</td>\n",
       "    </tr>\n",
       "    <tr>\n",
       "      <th>2</th>\n",
       "      <td>Pclass</td>\n",
       "      <td>1.00</td>\n",
       "    </tr>\n",
       "    <tr>\n",
       "      <th>3</th>\n",
       "      <td>Name</td>\n",
       "      <td>66.23</td>\n",
       "    </tr>\n",
       "    <tr>\n",
       "      <th>4</th>\n",
       "      <td>Sex</td>\n",
       "      <td>1.21</td>\n",
       "    </tr>\n",
       "    <tr>\n",
       "      <th>5</th>\n",
       "      <td>Age</td>\n",
       "      <td>1.87</td>\n",
       "    </tr>\n",
       "    <tr>\n",
       "      <th>6</th>\n",
       "      <td>SibSp</td>\n",
       "      <td>1.00</td>\n",
       "    </tr>\n",
       "    <tr>\n",
       "      <th>7</th>\n",
       "      <td>Parch</td>\n",
       "      <td>1.00</td>\n",
       "    </tr>\n",
       "    <tr>\n",
       "      <th>8</th>\n",
       "      <td>Ticket</td>\n",
       "      <td>48.64</td>\n",
       "    </tr>\n",
       "    <tr>\n",
       "      <th>9</th>\n",
       "      <td>Fare</td>\n",
       "      <td>1.87</td>\n",
       "    </tr>\n",
       "    <tr>\n",
       "      <th>10</th>\n",
       "      <td>Cabin</td>\n",
       "      <td>13.46</td>\n",
       "    </tr>\n",
       "    <tr>\n",
       "      <th>11</th>\n",
       "      <td>Embarked</td>\n",
       "      <td>1.25</td>\n",
       "    </tr>\n",
       "    <tr>\n",
       "      <th>12</th>\n",
       "      <td>Total</td>\n",
       "      <td>140.40</td>\n",
       "    </tr>\n",
       "  </tbody>\n",
       "</table>\n",
       "</div>"
      ],
      "text/plain": [
       "       Col_Name  Memory_Usage(kb)\n",
       "0   PassengerId              1.87\n",
       "1      Survived              1.00\n",
       "2        Pclass              1.00\n",
       "3          Name             66.23\n",
       "4           Sex              1.21\n",
       "5           Age              1.87\n",
       "6         SibSp              1.00\n",
       "7         Parch              1.00\n",
       "8        Ticket             48.64\n",
       "9          Fare              1.87\n",
       "10        Cabin             13.46\n",
       "11     Embarked              1.25\n",
       "12        Total            140.40"
      ]
     },
     "metadata": {},
     "output_type": "display_data"
    }
   ],
   "source": [
    "memoryused = optimization.get_memory_usage(show_df=True)"
   ]
  },
  {
   "cell_type": "markdown",
   "metadata": {},
   "source": [
    "After reverting the dtype of \"Name\" we reduced even more the memory usage and now it's only using 140 kilobytes.\n",
    "\n",
    "It's possible to reduce it even more? Yes, by cleaning the data. As you can see below the columns \"Age\" and \"Fare\" are using float values and I think it should make more sense to use int values, so let's convert it."
   ]
  },
  {
   "cell_type": "code",
   "execution_count": 19,
   "metadata": {},
   "outputs": [
    {
     "data": {
      "text/html": [
       "<div>\n",
       "<style scoped>\n",
       "    .dataframe tbody tr th:only-of-type {\n",
       "        vertical-align: middle;\n",
       "    }\n",
       "\n",
       "    .dataframe tbody tr th {\n",
       "        vertical-align: top;\n",
       "    }\n",
       "\n",
       "    .dataframe thead th {\n",
       "        text-align: right;\n",
       "    }\n",
       "</style>\n",
       "<table border=\"1\" class=\"dataframe\">\n",
       "  <thead>\n",
       "    <tr style=\"text-align: right;\">\n",
       "      <th></th>\n",
       "      <th>PassengerId</th>\n",
       "      <th>Survived</th>\n",
       "      <th>Pclass</th>\n",
       "      <th>Name</th>\n",
       "      <th>Sex</th>\n",
       "      <th>Age</th>\n",
       "      <th>SibSp</th>\n",
       "      <th>Parch</th>\n",
       "      <th>Ticket</th>\n",
       "      <th>Fare</th>\n",
       "      <th>Cabin</th>\n",
       "      <th>Embarked</th>\n",
       "    </tr>\n",
       "  </thead>\n",
       "  <tbody>\n",
       "    <tr>\n",
       "      <th>0</th>\n",
       "      <td>1</td>\n",
       "      <td>0</td>\n",
       "      <td>3</td>\n",
       "      <td>Braund, Mr. Owen Harris</td>\n",
       "      <td>male</td>\n",
       "      <td>22.0</td>\n",
       "      <td>1</td>\n",
       "      <td>0</td>\n",
       "      <td>A/5 21171</td>\n",
       "      <td>7.250000</td>\n",
       "      <td>NaN</td>\n",
       "      <td>S</td>\n",
       "    </tr>\n",
       "    <tr>\n",
       "      <th>1</th>\n",
       "      <td>2</td>\n",
       "      <td>1</td>\n",
       "      <td>1</td>\n",
       "      <td>Cumings, Mrs. John Bradley (Florence Briggs Th...</td>\n",
       "      <td>female</td>\n",
       "      <td>38.0</td>\n",
       "      <td>1</td>\n",
       "      <td>0</td>\n",
       "      <td>PC 17599</td>\n",
       "      <td>71.312500</td>\n",
       "      <td>C85</td>\n",
       "      <td>C</td>\n",
       "    </tr>\n",
       "    <tr>\n",
       "      <th>2</th>\n",
       "      <td>3</td>\n",
       "      <td>1</td>\n",
       "      <td>3</td>\n",
       "      <td>Heikkinen, Miss. Laina</td>\n",
       "      <td>female</td>\n",
       "      <td>26.0</td>\n",
       "      <td>0</td>\n",
       "      <td>0</td>\n",
       "      <td>STON/O2. 3101282</td>\n",
       "      <td>7.925781</td>\n",
       "      <td>NaN</td>\n",
       "      <td>S</td>\n",
       "    </tr>\n",
       "    <tr>\n",
       "      <th>3</th>\n",
       "      <td>4</td>\n",
       "      <td>1</td>\n",
       "      <td>1</td>\n",
       "      <td>Futrelle, Mrs. Jacques Heath (Lily May Peel)</td>\n",
       "      <td>female</td>\n",
       "      <td>35.0</td>\n",
       "      <td>1</td>\n",
       "      <td>0</td>\n",
       "      <td>113803</td>\n",
       "      <td>53.093750</td>\n",
       "      <td>C123</td>\n",
       "      <td>S</td>\n",
       "    </tr>\n",
       "    <tr>\n",
       "      <th>4</th>\n",
       "      <td>5</td>\n",
       "      <td>0</td>\n",
       "      <td>3</td>\n",
       "      <td>Allen, Mr. William Henry</td>\n",
       "      <td>male</td>\n",
       "      <td>35.0</td>\n",
       "      <td>0</td>\n",
       "      <td>0</td>\n",
       "      <td>373450</td>\n",
       "      <td>8.046875</td>\n",
       "      <td>NaN</td>\n",
       "      <td>S</td>\n",
       "    </tr>\n",
       "  </tbody>\n",
       "</table>\n",
       "</div>"
      ],
      "text/plain": [
       "   PassengerId  Survived  Pclass  \\\n",
       "0            1         0       3   \n",
       "1            2         1       1   \n",
       "2            3         1       3   \n",
       "3            4         1       1   \n",
       "4            5         0       3   \n",
       "\n",
       "                                                Name     Sex   Age  SibSp  \\\n",
       "0                            Braund, Mr. Owen Harris    male  22.0      1   \n",
       "1  Cumings, Mrs. John Bradley (Florence Briggs Th...  female  38.0      1   \n",
       "2                             Heikkinen, Miss. Laina  female  26.0      0   \n",
       "3       Futrelle, Mrs. Jacques Heath (Lily May Peel)  female  35.0      1   \n",
       "4                           Allen, Mr. William Henry    male  35.0      0   \n",
       "\n",
       "   Parch            Ticket       Fare Cabin Embarked  \n",
       "0      0         A/5 21171   7.250000   NaN        S  \n",
       "1      0          PC 17599  71.312500   C85        C  \n",
       "2      0  STON/O2. 3101282   7.925781   NaN        S  \n",
       "3      0            113803  53.093750  C123        S  \n",
       "4      0            373450   8.046875   NaN        S  "
      ]
     },
     "execution_count": 19,
     "metadata": {},
     "output_type": "execute_result"
    }
   ],
   "source": [
    "optimization.head()"
   ]
  },
  {
   "cell_type": "code",
   "execution_count": 20,
   "metadata": {},
   "outputs": [
    {
     "data": {
      "text/html": [
       "<div>\n",
       "<style scoped>\n",
       "    .dataframe tbody tr th:only-of-type {\n",
       "        vertical-align: middle;\n",
       "    }\n",
       "\n",
       "    .dataframe tbody tr th {\n",
       "        vertical-align: top;\n",
       "    }\n",
       "\n",
       "    .dataframe thead th {\n",
       "        text-align: right;\n",
       "    }\n",
       "</style>\n",
       "<table border=\"1\" class=\"dataframe\">\n",
       "  <thead>\n",
       "    <tr style=\"text-align: right;\">\n",
       "      <th></th>\n",
       "      <th>Column</th>\n",
       "      <th>Dtype</th>\n",
       "      <th>Recommend_Dtype</th>\n",
       "      <th>Memory</th>\n",
       "      <th>Memory_Percentage</th>\n",
       "      <th>Missing_Values</th>\n",
       "      <th>Percentage_of_Missing_Values</th>\n",
       "      <th>Distinct_Values</th>\n",
       "    </tr>\n",
       "  </thead>\n",
       "  <tbody>\n",
       "    <tr>\n",
       "      <th>0</th>\n",
       "      <td>PassengerId</td>\n",
       "      <td>int16</td>\n",
       "      <td>int16</td>\n",
       "      <td>1.87 kb</td>\n",
       "      <td>1.33%</td>\n",
       "      <td>0</td>\n",
       "      <td>0.0%</td>\n",
       "      <td>891</td>\n",
       "    </tr>\n",
       "    <tr>\n",
       "      <th>1</th>\n",
       "      <td>Survived</td>\n",
       "      <td>int8</td>\n",
       "      <td>int8</td>\n",
       "      <td>1.0 kb</td>\n",
       "      <td>0.71%</td>\n",
       "      <td>0</td>\n",
       "      <td>0.0%</td>\n",
       "      <td>2</td>\n",
       "    </tr>\n",
       "    <tr>\n",
       "      <th>2</th>\n",
       "      <td>Pclass</td>\n",
       "      <td>int8</td>\n",
       "      <td>int8</td>\n",
       "      <td>1.0 kb</td>\n",
       "      <td>0.71%</td>\n",
       "      <td>0</td>\n",
       "      <td>0.0%</td>\n",
       "      <td>3</td>\n",
       "    </tr>\n",
       "    <tr>\n",
       "      <th>3</th>\n",
       "      <td>Name</td>\n",
       "      <td>object</td>\n",
       "      <td>category</td>\n",
       "      <td>66.23 kb</td>\n",
       "      <td>47.17%</td>\n",
       "      <td>0</td>\n",
       "      <td>0.0%</td>\n",
       "      <td>891</td>\n",
       "    </tr>\n",
       "    <tr>\n",
       "      <th>4</th>\n",
       "      <td>Sex</td>\n",
       "      <td>category</td>\n",
       "      <td>category</td>\n",
       "      <td>1.21 kb</td>\n",
       "      <td>0.86%</td>\n",
       "      <td>0</td>\n",
       "      <td>0.0%</td>\n",
       "      <td>2</td>\n",
       "    </tr>\n",
       "    <tr>\n",
       "      <th>5</th>\n",
       "      <td>Age</td>\n",
       "      <td>float16</td>\n",
       "      <td>float16</td>\n",
       "      <td>1.87 kb</td>\n",
       "      <td>1.33%</td>\n",
       "      <td>177</td>\n",
       "      <td>19.87%</td>\n",
       "      <td>88</td>\n",
       "    </tr>\n",
       "    <tr>\n",
       "      <th>6</th>\n",
       "      <td>SibSp</td>\n",
       "      <td>int8</td>\n",
       "      <td>int8</td>\n",
       "      <td>1.0 kb</td>\n",
       "      <td>0.71%</td>\n",
       "      <td>0</td>\n",
       "      <td>0.0%</td>\n",
       "      <td>7</td>\n",
       "    </tr>\n",
       "    <tr>\n",
       "      <th>7</th>\n",
       "      <td>Parch</td>\n",
       "      <td>int8</td>\n",
       "      <td>int8</td>\n",
       "      <td>1.0 kb</td>\n",
       "      <td>0.71%</td>\n",
       "      <td>0</td>\n",
       "      <td>0.0%</td>\n",
       "      <td>7</td>\n",
       "    </tr>\n",
       "    <tr>\n",
       "      <th>8</th>\n",
       "      <td>Ticket</td>\n",
       "      <td>object</td>\n",
       "      <td>category</td>\n",
       "      <td>48.64 kb</td>\n",
       "      <td>34.64%</td>\n",
       "      <td>0</td>\n",
       "      <td>0.0%</td>\n",
       "      <td>681</td>\n",
       "    </tr>\n",
       "    <tr>\n",
       "      <th>9</th>\n",
       "      <td>Fare</td>\n",
       "      <td>float16</td>\n",
       "      <td>float16</td>\n",
       "      <td>1.87 kb</td>\n",
       "      <td>1.33%</td>\n",
       "      <td>0</td>\n",
       "      <td>0.0%</td>\n",
       "      <td>242</td>\n",
       "    </tr>\n",
       "    <tr>\n",
       "      <th>10</th>\n",
       "      <td>Cabin</td>\n",
       "      <td>category</td>\n",
       "      <td>category</td>\n",
       "      <td>13.46 kb</td>\n",
       "      <td>9.59%</td>\n",
       "      <td>687</td>\n",
       "      <td>77.1%</td>\n",
       "      <td>147</td>\n",
       "    </tr>\n",
       "    <tr>\n",
       "      <th>11</th>\n",
       "      <td>Embarked</td>\n",
       "      <td>category</td>\n",
       "      <td>category</td>\n",
       "      <td>1.25 kb</td>\n",
       "      <td>0.89%</td>\n",
       "      <td>2</td>\n",
       "      <td>0.22%</td>\n",
       "      <td>3</td>\n",
       "    </tr>\n",
       "  </tbody>\n",
       "</table>\n",
       "</div>"
      ],
      "text/plain": [
       "         Column     Dtype Recommend_Dtype    Memory Memory_Percentage  \\\n",
       "0   PassengerId     int16           int16   1.87 kb             1.33%   \n",
       "1      Survived      int8            int8    1.0 kb             0.71%   \n",
       "2        Pclass      int8            int8    1.0 kb             0.71%   \n",
       "3          Name    object        category  66.23 kb            47.17%   \n",
       "4           Sex  category        category   1.21 kb             0.86%   \n",
       "5           Age   float16         float16   1.87 kb             1.33%   \n",
       "6         SibSp      int8            int8    1.0 kb             0.71%   \n",
       "7         Parch      int8            int8    1.0 kb             0.71%   \n",
       "8        Ticket    object        category  48.64 kb            34.64%   \n",
       "9          Fare   float16         float16   1.87 kb             1.33%   \n",
       "10        Cabin  category        category  13.46 kb             9.59%   \n",
       "11     Embarked  category        category   1.25 kb             0.89%   \n",
       "\n",
       "    Missing_Values Percentage_of_Missing_Values  Distinct_Values  \n",
       "0                0                         0.0%              891  \n",
       "1                0                         0.0%                2  \n",
       "2                0                         0.0%                3  \n",
       "3                0                         0.0%              891  \n",
       "4                0                         0.0%                2  \n",
       "5              177                       19.87%               88  \n",
       "6                0                         0.0%                7  \n",
       "7                0                         0.0%                7  \n",
       "8                0                         0.0%              681  \n",
       "9                0                         0.0%              242  \n",
       "10             687                        77.1%              147  \n",
       "11               2                        0.22%                3  "
      ]
     },
     "execution_count": 20,
     "metadata": {},
     "output_type": "execute_result"
    }
   ],
   "source": [
    "optimization.get_dataframe_mem_insight()"
   ]
  },
  {
   "cell_type": "markdown",
   "metadata": {},
   "source": [
    "After using the function above we get meaningful details about the dataframe, that is the column \"Age\" is missing some values, so if we try to convert it to int it will not work. So let's start by fixing that problem, filling the missing values with the mean value of age as there is not other way to get the age right.\n",
    "\n",
    "Other detail we can notice is that Cabin is missing a lot of values and that column is not that useful so let's delete it later, another column who is also useless is the PassengerId so we will delete both columns"
   ]
  },
  {
   "cell_type": "markdown",
   "metadata": {},
   "source": [
    "#### **Optimization and Cleaning**"
   ]
  },
  {
   "cell_type": "code",
   "execution_count": 21,
   "metadata": {},
   "outputs": [],
   "source": [
    "cleaning = snt.start_Cleaning(optimization)"
   ]
  },
  {
   "cell_type": "markdown",
   "metadata": {},
   "source": [
    "With the function below filled all missing values on the column **\"Age\"** with their mean and defined the values to have 0 decimals house, because we want to convert it to *int* later "
   ]
  },
  {
   "cell_type": "code",
   "execution_count": 22,
   "metadata": {},
   "outputs": [],
   "source": [
    "cleaning = cleaning.fill_rows_with_missing_values_mean([\"Age\"], 0)"
   ]
  },
  {
   "cell_type": "markdown",
   "metadata": {},
   "source": [
    "Now we round all the other values in **\"Age\"** and **\"Fare\"** and then we will convert it to *int*"
   ]
  },
  {
   "cell_type": "code",
   "execution_count": 23,
   "metadata": {},
   "outputs": [
    {
     "name": "stderr",
     "output_type": "stream",
     "text": [
      "/home/abigor/miniconda3/envs/suntzu/lib/python3.12/site-packages/suntzu/cleaning.py:144: FutureWarning: DataFrame.applymap has been deprecated. Use DataFrame.map instead.\n",
      "  self[numerical_cols] = self[numerical_cols].applymap(lambda x: round(x, decimals) if isinstance(x, (int, float)) else x)\n"
     ]
    }
   ],
   "source": [
    "cleaning = cleaning.round_rows_value([\"Age\", \"Fare\"], 0)"
   ]
  },
  {
   "cell_type": "code",
   "execution_count": 24,
   "metadata": {},
   "outputs": [],
   "source": [
    "cleaning[\"Age\"] = cleaning[\"Age\"].astype(\"int8\")\n",
    "cleaning[\"Fare\"] = cleaning[\"Fare\"].astype(\"int8\") "
   ]
  },
  {
   "cell_type": "code",
   "execution_count": 25,
   "metadata": {},
   "outputs": [],
   "source": [
    "cleaning = snt.Cleaning(cleaning.drop([\"PassengerId\", \"Cabin\"], axis=1))"
   ]
  },
  {
   "cell_type": "code",
   "execution_count": 26,
   "metadata": {},
   "outputs": [
    {
     "data": {
      "text/html": [
       "<div>\n",
       "<style scoped>\n",
       "    .dataframe tbody tr th:only-of-type {\n",
       "        vertical-align: middle;\n",
       "    }\n",
       "\n",
       "    .dataframe tbody tr th {\n",
       "        vertical-align: top;\n",
       "    }\n",
       "\n",
       "    .dataframe thead th {\n",
       "        text-align: right;\n",
       "    }\n",
       "</style>\n",
       "<table border=\"1\" class=\"dataframe\">\n",
       "  <thead>\n",
       "    <tr style=\"text-align: right;\">\n",
       "      <th></th>\n",
       "      <th>Col_Name</th>\n",
       "      <th>Memory_Usage(kb)</th>\n",
       "    </tr>\n",
       "  </thead>\n",
       "  <tbody>\n",
       "    <tr>\n",
       "      <th>0</th>\n",
       "      <td>Survived</td>\n",
       "      <td>1.00</td>\n",
       "    </tr>\n",
       "    <tr>\n",
       "      <th>1</th>\n",
       "      <td>Pclass</td>\n",
       "      <td>1.00</td>\n",
       "    </tr>\n",
       "    <tr>\n",
       "      <th>2</th>\n",
       "      <td>Name</td>\n",
       "      <td>66.23</td>\n",
       "    </tr>\n",
       "    <tr>\n",
       "      <th>3</th>\n",
       "      <td>Sex</td>\n",
       "      <td>1.21</td>\n",
       "    </tr>\n",
       "    <tr>\n",
       "      <th>4</th>\n",
       "      <td>Age</td>\n",
       "      <td>1.00</td>\n",
       "    </tr>\n",
       "    <tr>\n",
       "      <th>5</th>\n",
       "      <td>SibSp</td>\n",
       "      <td>1.00</td>\n",
       "    </tr>\n",
       "    <tr>\n",
       "      <th>6</th>\n",
       "      <td>Parch</td>\n",
       "      <td>1.00</td>\n",
       "    </tr>\n",
       "    <tr>\n",
       "      <th>7</th>\n",
       "      <td>Ticket</td>\n",
       "      <td>48.64</td>\n",
       "    </tr>\n",
       "    <tr>\n",
       "      <th>8</th>\n",
       "      <td>Fare</td>\n",
       "      <td>1.00</td>\n",
       "    </tr>\n",
       "    <tr>\n",
       "      <th>9</th>\n",
       "      <td>Embarked</td>\n",
       "      <td>1.25</td>\n",
       "    </tr>\n",
       "    <tr>\n",
       "      <th>10</th>\n",
       "      <td>Total</td>\n",
       "      <td>123.33</td>\n",
       "    </tr>\n",
       "  </tbody>\n",
       "</table>\n",
       "</div>"
      ],
      "text/plain": [
       "    Col_Name  Memory_Usage(kb)\n",
       "0   Survived              1.00\n",
       "1     Pclass              1.00\n",
       "2       Name             66.23\n",
       "3        Sex              1.21\n",
       "4        Age              1.00\n",
       "5      SibSp              1.00\n",
       "6      Parch              1.00\n",
       "7     Ticket             48.64\n",
       "8       Fare              1.00\n",
       "9   Embarked              1.25\n",
       "10     Total            123.33"
      ]
     },
     "metadata": {},
     "output_type": "display_data"
    },
    {
     "data": {
      "text/plain": [
       "123.33"
      ]
     },
     "execution_count": 26,
     "metadata": {},
     "output_type": "execute_result"
    }
   ],
   "source": [
    "optimization = snt.start_Optimization(cleaning)\n",
    "optimization.get_memory_usage(show_df=True)"
   ]
  },
  {
   "cell_type": "markdown",
   "metadata": {},
   "source": [
    "After all that cleaning, the memory usage is now 123 kilobytes, which is less than half of the original memory usage.\n",
    "\n",
    "Now let's return to the cleaning process and add some more steps to make the data even cleaner and more visually pleasing."
   ]
  },
  {
   "cell_type": "markdown",
   "metadata": {},
   "source": [
    "#### **Cleaning**"
   ]
  },
  {
   "cell_type": "code",
   "execution_count": 27,
   "metadata": {},
   "outputs": [
    {
     "data": {
      "text/html": [
       "<div>\n",
       "<style scoped>\n",
       "    .dataframe tbody tr th:only-of-type {\n",
       "        vertical-align: middle;\n",
       "    }\n",
       "\n",
       "    .dataframe tbody tr th {\n",
       "        vertical-align: top;\n",
       "    }\n",
       "\n",
       "    .dataframe thead th {\n",
       "        text-align: right;\n",
       "    }\n",
       "</style>\n",
       "<table border=\"1\" class=\"dataframe\">\n",
       "  <thead>\n",
       "    <tr style=\"text-align: right;\">\n",
       "      <th></th>\n",
       "      <th>Survived</th>\n",
       "      <th>Pclass</th>\n",
       "      <th>Name</th>\n",
       "      <th>Sex</th>\n",
       "      <th>Age</th>\n",
       "      <th>SibSp</th>\n",
       "      <th>Parch</th>\n",
       "      <th>Ticket</th>\n",
       "      <th>Fare</th>\n",
       "      <th>Embarked</th>\n",
       "    </tr>\n",
       "  </thead>\n",
       "  <tbody>\n",
       "    <tr>\n",
       "      <th>0</th>\n",
       "      <td>0</td>\n",
       "      <td>3</td>\n",
       "      <td>Braund, Mr. Owen Harris</td>\n",
       "      <td>male</td>\n",
       "      <td>22</td>\n",
       "      <td>1</td>\n",
       "      <td>0</td>\n",
       "      <td>A/5 21171</td>\n",
       "      <td>7</td>\n",
       "      <td>S</td>\n",
       "    </tr>\n",
       "    <tr>\n",
       "      <th>1</th>\n",
       "      <td>1</td>\n",
       "      <td>1</td>\n",
       "      <td>Cumings, Mrs. John Bradley (Florence Briggs Th...</td>\n",
       "      <td>female</td>\n",
       "      <td>38</td>\n",
       "      <td>1</td>\n",
       "      <td>0</td>\n",
       "      <td>PC 17599</td>\n",
       "      <td>71</td>\n",
       "      <td>C</td>\n",
       "    </tr>\n",
       "    <tr>\n",
       "      <th>2</th>\n",
       "      <td>1</td>\n",
       "      <td>3</td>\n",
       "      <td>Heikkinen, Miss. Laina</td>\n",
       "      <td>female</td>\n",
       "      <td>26</td>\n",
       "      <td>0</td>\n",
       "      <td>0</td>\n",
       "      <td>STON/O2. 3101282</td>\n",
       "      <td>8</td>\n",
       "      <td>S</td>\n",
       "    </tr>\n",
       "    <tr>\n",
       "      <th>3</th>\n",
       "      <td>1</td>\n",
       "      <td>1</td>\n",
       "      <td>Futrelle, Mrs. Jacques Heath (Lily May Peel)</td>\n",
       "      <td>female</td>\n",
       "      <td>35</td>\n",
       "      <td>1</td>\n",
       "      <td>0</td>\n",
       "      <td>113803</td>\n",
       "      <td>53</td>\n",
       "      <td>S</td>\n",
       "    </tr>\n",
       "    <tr>\n",
       "      <th>4</th>\n",
       "      <td>0</td>\n",
       "      <td>3</td>\n",
       "      <td>Allen, Mr. William Henry</td>\n",
       "      <td>male</td>\n",
       "      <td>35</td>\n",
       "      <td>0</td>\n",
       "      <td>0</td>\n",
       "      <td>373450</td>\n",
       "      <td>8</td>\n",
       "      <td>S</td>\n",
       "    </tr>\n",
       "  </tbody>\n",
       "</table>\n",
       "</div>"
      ],
      "text/plain": [
       "   Survived  Pclass                                               Name  \\\n",
       "0         0       3                            Braund, Mr. Owen Harris   \n",
       "1         1       1  Cumings, Mrs. John Bradley (Florence Briggs Th...   \n",
       "2         1       3                             Heikkinen, Miss. Laina   \n",
       "3         1       1       Futrelle, Mrs. Jacques Heath (Lily May Peel)   \n",
       "4         0       3                           Allen, Mr. William Henry   \n",
       "\n",
       "      Sex  Age  SibSp  Parch            Ticket  Fare Embarked  \n",
       "0    male   22      1      0         A/5 21171     7        S  \n",
       "1  female   38      1      0          PC 17599    71        C  \n",
       "2  female   26      0      0  STON/O2. 3101282     8        S  \n",
       "3  female   35      1      0            113803    53        S  \n",
       "4    male   35      0      0            373450     8        S  "
      ]
     },
     "execution_count": 27,
     "metadata": {},
     "output_type": "execute_result"
    }
   ],
   "source": [
    "cleaning = snt.start_Cleaning(optimization)\n",
    "cleaning.head()"
   ]
  },
  {
   "cell_type": "markdown",
   "metadata": {},
   "source": [
    "In the first step, let's capitalize all the values in the column **\"Sex\"** to make it more visually pleasing."
   ]
  },
  {
   "cell_type": "code",
   "execution_count": 28,
   "metadata": {},
   "outputs": [],
   "source": [
    "cleaning = cleaning.capitalize_rows_string([\"Sex\"])"
   ]
  },
  {
   "cell_type": "markdown",
   "metadata": {},
   "source": [
    "Now let's remap the values in the column **\"Embarked\"** to make it more visually pleasing. Instead of using the initials, we will use the full names."
   ]
  },
  {
   "cell_type": "code",
   "execution_count": 29,
   "metadata": {},
   "outputs": [],
   "source": [
    "new_names_for_port_of_embarkation = {'C': 'Cherbourg', 'Q': 'Queenstown', 'S': 'Southampton'}\n",
    "cleaning['Embarked'] = cleaning['Embarked'].map(new_names_for_port_of_embarkation)"
   ]
  },
  {
   "cell_type": "code",
   "execution_count": 30,
   "metadata": {},
   "outputs": [
    {
     "data": {
      "text/html": [
       "<div>\n",
       "<style scoped>\n",
       "    .dataframe tbody tr th:only-of-type {\n",
       "        vertical-align: middle;\n",
       "    }\n",
       "\n",
       "    .dataframe tbody tr th {\n",
       "        vertical-align: top;\n",
       "    }\n",
       "\n",
       "    .dataframe thead th {\n",
       "        text-align: right;\n",
       "    }\n",
       "</style>\n",
       "<table border=\"1\" class=\"dataframe\">\n",
       "  <thead>\n",
       "    <tr style=\"text-align: right;\">\n",
       "      <th></th>\n",
       "      <th>Survived</th>\n",
       "      <th>Pclass</th>\n",
       "      <th>Name</th>\n",
       "      <th>Sex</th>\n",
       "      <th>Age</th>\n",
       "      <th>SibSp</th>\n",
       "      <th>Parch</th>\n",
       "      <th>Ticket</th>\n",
       "      <th>Fare</th>\n",
       "      <th>Embarked</th>\n",
       "    </tr>\n",
       "  </thead>\n",
       "  <tbody>\n",
       "    <tr>\n",
       "      <th>0</th>\n",
       "      <td>0</td>\n",
       "      <td>3</td>\n",
       "      <td>Braund, Mr. Owen Harris</td>\n",
       "      <td>Male</td>\n",
       "      <td>22</td>\n",
       "      <td>1</td>\n",
       "      <td>0</td>\n",
       "      <td>A/5 21171</td>\n",
       "      <td>7</td>\n",
       "      <td>Southampton</td>\n",
       "    </tr>\n",
       "    <tr>\n",
       "      <th>1</th>\n",
       "      <td>1</td>\n",
       "      <td>1</td>\n",
       "      <td>Cumings, Mrs. John Bradley (Florence Briggs Th...</td>\n",
       "      <td>Female</td>\n",
       "      <td>38</td>\n",
       "      <td>1</td>\n",
       "      <td>0</td>\n",
       "      <td>PC 17599</td>\n",
       "      <td>71</td>\n",
       "      <td>Cherbourg</td>\n",
       "    </tr>\n",
       "    <tr>\n",
       "      <th>2</th>\n",
       "      <td>1</td>\n",
       "      <td>3</td>\n",
       "      <td>Heikkinen, Miss. Laina</td>\n",
       "      <td>Female</td>\n",
       "      <td>26</td>\n",
       "      <td>0</td>\n",
       "      <td>0</td>\n",
       "      <td>STON/O2. 3101282</td>\n",
       "      <td>8</td>\n",
       "      <td>Southampton</td>\n",
       "    </tr>\n",
       "    <tr>\n",
       "      <th>3</th>\n",
       "      <td>1</td>\n",
       "      <td>1</td>\n",
       "      <td>Futrelle, Mrs. Jacques Heath (Lily May Peel)</td>\n",
       "      <td>Female</td>\n",
       "      <td>35</td>\n",
       "      <td>1</td>\n",
       "      <td>0</td>\n",
       "      <td>113803</td>\n",
       "      <td>53</td>\n",
       "      <td>Southampton</td>\n",
       "    </tr>\n",
       "    <tr>\n",
       "      <th>4</th>\n",
       "      <td>0</td>\n",
       "      <td>3</td>\n",
       "      <td>Allen, Mr. William Henry</td>\n",
       "      <td>Male</td>\n",
       "      <td>35</td>\n",
       "      <td>0</td>\n",
       "      <td>0</td>\n",
       "      <td>373450</td>\n",
       "      <td>8</td>\n",
       "      <td>Southampton</td>\n",
       "    </tr>\n",
       "  </tbody>\n",
       "</table>\n",
       "</div>"
      ],
      "text/plain": [
       "   Survived  Pclass                                               Name  \\\n",
       "0         0       3                            Braund, Mr. Owen Harris   \n",
       "1         1       1  Cumings, Mrs. John Bradley (Florence Briggs Th...   \n",
       "2         1       3                             Heikkinen, Miss. Laina   \n",
       "3         1       1       Futrelle, Mrs. Jacques Heath (Lily May Peel)   \n",
       "4         0       3                           Allen, Mr. William Henry   \n",
       "\n",
       "      Sex  Age  SibSp  Parch            Ticket  Fare     Embarked  \n",
       "0    Male   22      1      0         A/5 21171     7  Southampton  \n",
       "1  Female   38      1      0          PC 17599    71    Cherbourg  \n",
       "2  Female   26      0      0  STON/O2. 3101282     8  Southampton  \n",
       "3  Female   35      1      0            113803    53  Southampton  \n",
       "4    Male   35      0      0            373450     8  Southampton  "
      ]
     },
     "execution_count": 30,
     "metadata": {},
     "output_type": "execute_result"
    }
   ],
   "source": [
    "cleaning.head()"
   ]
  },
  {
   "cell_type": "markdown",
   "metadata": {},
   "source": [
    "Now let's change the column name and create two new columns from it. Let's start by creating a new column called honorifics. This column will store the honorifics of the passenger. Then, we will create a new column called surname. This column will store the surname of the passenger.\n",
    "\n",
    "After that, let's reorder the columns to make the dataset more readable."
   ]
  },
  {
   "cell_type": "code",
   "execution_count": 31,
   "metadata": {},
   "outputs": [
    {
     "data": {
      "text/html": [
       "<div>\n",
       "<style scoped>\n",
       "    .dataframe tbody tr th:only-of-type {\n",
       "        vertical-align: middle;\n",
       "    }\n",
       "\n",
       "    .dataframe tbody tr th {\n",
       "        vertical-align: top;\n",
       "    }\n",
       "\n",
       "    .dataframe thead th {\n",
       "        text-align: right;\n",
       "    }\n",
       "</style>\n",
       "<table border=\"1\" class=\"dataframe\">\n",
       "  <thead>\n",
       "    <tr style=\"text-align: right;\">\n",
       "      <th></th>\n",
       "      <th>Survived</th>\n",
       "      <th>Pclass</th>\n",
       "      <th>Name</th>\n",
       "      <th>Sex</th>\n",
       "      <th>Age</th>\n",
       "      <th>SibSp</th>\n",
       "      <th>Parch</th>\n",
       "      <th>Ticket</th>\n",
       "      <th>Fare</th>\n",
       "      <th>Embarked</th>\n",
       "      <th>Honorofics</th>\n",
       "    </tr>\n",
       "  </thead>\n",
       "  <tbody>\n",
       "    <tr>\n",
       "      <th>0</th>\n",
       "      <td>0</td>\n",
       "      <td>3</td>\n",
       "      <td>Owen Harris</td>\n",
       "      <td>Male</td>\n",
       "      <td>22</td>\n",
       "      <td>1</td>\n",
       "      <td>0</td>\n",
       "      <td>A/5 21171</td>\n",
       "      <td>7</td>\n",
       "      <td>Southampton</td>\n",
       "      <td>Braund, Mr</td>\n",
       "    </tr>\n",
       "    <tr>\n",
       "      <th>1</th>\n",
       "      <td>1</td>\n",
       "      <td>1</td>\n",
       "      <td>John Bradley (Florence Briggs Thayer)</td>\n",
       "      <td>Female</td>\n",
       "      <td>38</td>\n",
       "      <td>1</td>\n",
       "      <td>0</td>\n",
       "      <td>PC 17599</td>\n",
       "      <td>71</td>\n",
       "      <td>Cherbourg</td>\n",
       "      <td>Cumings, Mrs</td>\n",
       "    </tr>\n",
       "    <tr>\n",
       "      <th>2</th>\n",
       "      <td>1</td>\n",
       "      <td>3</td>\n",
       "      <td>Laina</td>\n",
       "      <td>Female</td>\n",
       "      <td>26</td>\n",
       "      <td>0</td>\n",
       "      <td>0</td>\n",
       "      <td>STON/O2. 3101282</td>\n",
       "      <td>8</td>\n",
       "      <td>Southampton</td>\n",
       "      <td>Heikkinen, Miss</td>\n",
       "    </tr>\n",
       "    <tr>\n",
       "      <th>3</th>\n",
       "      <td>1</td>\n",
       "      <td>1</td>\n",
       "      <td>Jacques Heath (Lily May Peel)</td>\n",
       "      <td>Female</td>\n",
       "      <td>35</td>\n",
       "      <td>1</td>\n",
       "      <td>0</td>\n",
       "      <td>113803</td>\n",
       "      <td>53</td>\n",
       "      <td>Southampton</td>\n",
       "      <td>Futrelle, Mrs</td>\n",
       "    </tr>\n",
       "    <tr>\n",
       "      <th>4</th>\n",
       "      <td>0</td>\n",
       "      <td>3</td>\n",
       "      <td>William Henry</td>\n",
       "      <td>Male</td>\n",
       "      <td>35</td>\n",
       "      <td>0</td>\n",
       "      <td>0</td>\n",
       "      <td>373450</td>\n",
       "      <td>8</td>\n",
       "      <td>Southampton</td>\n",
       "      <td>Allen, Mr</td>\n",
       "    </tr>\n",
       "  </tbody>\n",
       "</table>\n",
       "</div>"
      ],
      "text/plain": [
       "   Survived  Pclass                                    Name     Sex  Age  \\\n",
       "0         0       3                             Owen Harris    Male   22   \n",
       "1         1       1   John Bradley (Florence Briggs Thayer)  Female   38   \n",
       "2         1       3                                   Laina  Female   26   \n",
       "3         1       1           Jacques Heath (Lily May Peel)  Female   35   \n",
       "4         0       3                           William Henry    Male   35   \n",
       "\n",
       "   SibSp  Parch            Ticket  Fare     Embarked       Honorofics  \n",
       "0      1      0         A/5 21171     7  Southampton       Braund, Mr  \n",
       "1      1      0          PC 17599    71    Cherbourg     Cumings, Mrs  \n",
       "2      0      0  STON/O2. 3101282     8  Southampton  Heikkinen, Miss  \n",
       "3      1      0            113803    53  Southampton    Futrelle, Mrs  \n",
       "4      0      0            373450     8  Southampton        Allen, Mr  "
      ]
     },
     "execution_count": 31,
     "metadata": {},
     "output_type": "execute_result"
    }
   ],
   "source": [
    "cleaning = cleaning.split_rows_string(\"Name\", new_cols=[\"Honorofics\"], delete_col=False, separator=\".\")\n",
    "cleaning.head()"
   ]
  },
  {
   "cell_type": "code",
   "execution_count": 32,
   "metadata": {},
   "outputs": [
    {
     "data": {
      "text/html": [
       "<div>\n",
       "<style scoped>\n",
       "    .dataframe tbody tr th:only-of-type {\n",
       "        vertical-align: middle;\n",
       "    }\n",
       "\n",
       "    .dataframe tbody tr th {\n",
       "        vertical-align: top;\n",
       "    }\n",
       "\n",
       "    .dataframe thead th {\n",
       "        text-align: right;\n",
       "    }\n",
       "</style>\n",
       "<table border=\"1\" class=\"dataframe\">\n",
       "  <thead>\n",
       "    <tr style=\"text-align: right;\">\n",
       "      <th></th>\n",
       "      <th>Survived</th>\n",
       "      <th>Pclass</th>\n",
       "      <th>Name</th>\n",
       "      <th>Sex</th>\n",
       "      <th>Age</th>\n",
       "      <th>SibSp</th>\n",
       "      <th>Parch</th>\n",
       "      <th>Ticket</th>\n",
       "      <th>Fare</th>\n",
       "      <th>Embarked</th>\n",
       "      <th>Honorofics</th>\n",
       "      <th>Surname</th>\n",
       "    </tr>\n",
       "  </thead>\n",
       "  <tbody>\n",
       "    <tr>\n",
       "      <th>0</th>\n",
       "      <td>0</td>\n",
       "      <td>3</td>\n",
       "      <td>Owen Harris</td>\n",
       "      <td>Male</td>\n",
       "      <td>22</td>\n",
       "      <td>1</td>\n",
       "      <td>0</td>\n",
       "      <td>A/5 21171</td>\n",
       "      <td>7</td>\n",
       "      <td>Southampton</td>\n",
       "      <td>Mr</td>\n",
       "      <td>Braund</td>\n",
       "    </tr>\n",
       "    <tr>\n",
       "      <th>1</th>\n",
       "      <td>1</td>\n",
       "      <td>1</td>\n",
       "      <td>John Bradley (Florence Briggs Thayer)</td>\n",
       "      <td>Female</td>\n",
       "      <td>38</td>\n",
       "      <td>1</td>\n",
       "      <td>0</td>\n",
       "      <td>PC 17599</td>\n",
       "      <td>71</td>\n",
       "      <td>Cherbourg</td>\n",
       "      <td>Mrs</td>\n",
       "      <td>Cumings</td>\n",
       "    </tr>\n",
       "    <tr>\n",
       "      <th>2</th>\n",
       "      <td>1</td>\n",
       "      <td>3</td>\n",
       "      <td>Laina</td>\n",
       "      <td>Female</td>\n",
       "      <td>26</td>\n",
       "      <td>0</td>\n",
       "      <td>0</td>\n",
       "      <td>STON/O2. 3101282</td>\n",
       "      <td>8</td>\n",
       "      <td>Southampton</td>\n",
       "      <td>Miss</td>\n",
       "      <td>Heikkinen</td>\n",
       "    </tr>\n",
       "    <tr>\n",
       "      <th>3</th>\n",
       "      <td>1</td>\n",
       "      <td>1</td>\n",
       "      <td>Jacques Heath (Lily May Peel)</td>\n",
       "      <td>Female</td>\n",
       "      <td>35</td>\n",
       "      <td>1</td>\n",
       "      <td>0</td>\n",
       "      <td>113803</td>\n",
       "      <td>53</td>\n",
       "      <td>Southampton</td>\n",
       "      <td>Mrs</td>\n",
       "      <td>Futrelle</td>\n",
       "    </tr>\n",
       "    <tr>\n",
       "      <th>4</th>\n",
       "      <td>0</td>\n",
       "      <td>3</td>\n",
       "      <td>William Henry</td>\n",
       "      <td>Male</td>\n",
       "      <td>35</td>\n",
       "      <td>0</td>\n",
       "      <td>0</td>\n",
       "      <td>373450</td>\n",
       "      <td>8</td>\n",
       "      <td>Southampton</td>\n",
       "      <td>Mr</td>\n",
       "      <td>Allen</td>\n",
       "    </tr>\n",
       "  </tbody>\n",
       "</table>\n",
       "</div>"
      ],
      "text/plain": [
       "   Survived  Pclass                                    Name     Sex  Age  \\\n",
       "0         0       3                             Owen Harris    Male   22   \n",
       "1         1       1   John Bradley (Florence Briggs Thayer)  Female   38   \n",
       "2         1       3                                   Laina  Female   26   \n",
       "3         1       1           Jacques Heath (Lily May Peel)  Female   35   \n",
       "4         0       3                           William Henry    Male   35   \n",
       "\n",
       "   SibSp  Parch            Ticket  Fare     Embarked Honorofics    Surname  \n",
       "0      1      0         A/5 21171     7  Southampton         Mr     Braund  \n",
       "1      1      0          PC 17599    71    Cherbourg        Mrs    Cumings  \n",
       "2      0      0  STON/O2. 3101282     8  Southampton       Miss  Heikkinen  \n",
       "3      1      0            113803    53  Southampton        Mrs   Futrelle  \n",
       "4      0      0            373450     8  Southampton         Mr      Allen  "
      ]
     },
     "execution_count": 32,
     "metadata": {},
     "output_type": "execute_result"
    }
   ],
   "source": [
    "cleaning = cleaning.split_rows_string(\"Honorofics\", new_cols=[\"Surname\"], delete_col=False)\n",
    "cleaning.head()"
   ]
  },
  {
   "cell_type": "code",
   "execution_count": 33,
   "metadata": {},
   "outputs": [
    {
     "data": {
      "text/html": [
       "<div>\n",
       "<style scoped>\n",
       "    .dataframe tbody tr th:only-of-type {\n",
       "        vertical-align: middle;\n",
       "    }\n",
       "\n",
       "    .dataframe tbody tr th {\n",
       "        vertical-align: top;\n",
       "    }\n",
       "\n",
       "    .dataframe thead th {\n",
       "        text-align: right;\n",
       "    }\n",
       "</style>\n",
       "<table border=\"1\" class=\"dataframe\">\n",
       "  <thead>\n",
       "    <tr style=\"text-align: right;\">\n",
       "      <th></th>\n",
       "      <th>Honorofics</th>\n",
       "      <th>Name</th>\n",
       "      <th>Surname</th>\n",
       "      <th>Age</th>\n",
       "      <th>Sex</th>\n",
       "      <th>SibSp</th>\n",
       "      <th>Parch</th>\n",
       "      <th>Pclass</th>\n",
       "      <th>Ticket</th>\n",
       "      <th>Fare</th>\n",
       "      <th>Embarked</th>\n",
       "      <th>Survived</th>\n",
       "    </tr>\n",
       "  </thead>\n",
       "  <tbody>\n",
       "    <tr>\n",
       "      <th>0</th>\n",
       "      <td>Mr</td>\n",
       "      <td>Owen Harris</td>\n",
       "      <td>Braund</td>\n",
       "      <td>22</td>\n",
       "      <td>Male</td>\n",
       "      <td>1</td>\n",
       "      <td>0</td>\n",
       "      <td>3</td>\n",
       "      <td>A/5 21171</td>\n",
       "      <td>7</td>\n",
       "      <td>Southampton</td>\n",
       "      <td>0</td>\n",
       "    </tr>\n",
       "    <tr>\n",
       "      <th>1</th>\n",
       "      <td>Mrs</td>\n",
       "      <td>John Bradley (Florence Briggs Thayer)</td>\n",
       "      <td>Cumings</td>\n",
       "      <td>38</td>\n",
       "      <td>Female</td>\n",
       "      <td>1</td>\n",
       "      <td>0</td>\n",
       "      <td>1</td>\n",
       "      <td>PC 17599</td>\n",
       "      <td>71</td>\n",
       "      <td>Cherbourg</td>\n",
       "      <td>1</td>\n",
       "    </tr>\n",
       "    <tr>\n",
       "      <th>2</th>\n",
       "      <td>Miss</td>\n",
       "      <td>Laina</td>\n",
       "      <td>Heikkinen</td>\n",
       "      <td>26</td>\n",
       "      <td>Female</td>\n",
       "      <td>0</td>\n",
       "      <td>0</td>\n",
       "      <td>3</td>\n",
       "      <td>STON/O2. 3101282</td>\n",
       "      <td>8</td>\n",
       "      <td>Southampton</td>\n",
       "      <td>1</td>\n",
       "    </tr>\n",
       "    <tr>\n",
       "      <th>3</th>\n",
       "      <td>Mrs</td>\n",
       "      <td>Jacques Heath (Lily May Peel)</td>\n",
       "      <td>Futrelle</td>\n",
       "      <td>35</td>\n",
       "      <td>Female</td>\n",
       "      <td>1</td>\n",
       "      <td>0</td>\n",
       "      <td>1</td>\n",
       "      <td>113803</td>\n",
       "      <td>53</td>\n",
       "      <td>Southampton</td>\n",
       "      <td>1</td>\n",
       "    </tr>\n",
       "    <tr>\n",
       "      <th>4</th>\n",
       "      <td>Mr</td>\n",
       "      <td>William Henry</td>\n",
       "      <td>Allen</td>\n",
       "      <td>35</td>\n",
       "      <td>Male</td>\n",
       "      <td>0</td>\n",
       "      <td>0</td>\n",
       "      <td>3</td>\n",
       "      <td>373450</td>\n",
       "      <td>8</td>\n",
       "      <td>Southampton</td>\n",
       "      <td>0</td>\n",
       "    </tr>\n",
       "  </tbody>\n",
       "</table>\n",
       "</div>"
      ],
      "text/plain": [
       "  Honorofics                                    Name    Surname  Age     Sex  \\\n",
       "0         Mr                             Owen Harris     Braund   22    Male   \n",
       "1        Mrs   John Bradley (Florence Briggs Thayer)    Cumings   38  Female   \n",
       "2       Miss                                   Laina  Heikkinen   26  Female   \n",
       "3        Mrs           Jacques Heath (Lily May Peel)   Futrelle   35  Female   \n",
       "4         Mr                           William Henry      Allen   35    Male   \n",
       "\n",
       "   SibSp  Parch  Pclass            Ticket  Fare     Embarked  Survived  \n",
       "0      1      0       3         A/5 21171     7  Southampton         0  \n",
       "1      1      0       1          PC 17599    71    Cherbourg         1  \n",
       "2      0      0       3  STON/O2. 3101282     8  Southampton         1  \n",
       "3      1      0       1            113803    53  Southampton         1  \n",
       "4      0      0       3            373450     8  Southampton         0  "
      ]
     },
     "execution_count": 33,
     "metadata": {},
     "output_type": "execute_result"
    }
   ],
   "source": [
    "cleaning = cleaning[['Honorofics','Name','Surname', 'Age', 'Sex', 'SibSp', 'Parch', 'Pclass', 'Ticket', 'Fare', 'Embarked', 'Survived']]\n",
    "cleaning.head()"
   ]
  },
  {
   "cell_type": "markdown",
   "metadata": {},
   "source": [
    "Notice that the dataset is now more readable and visually pleasing, but the memory usage has increased significantly. This increase is due to the creation of new columns and the expanded memory usage of some columns, such as using full names in the \"Embarked\" column. While this isn't an issue for our small dataset, it could be problematic for larger datasets. In such cases, the changes made for readability might not be worth the increased memory usage."
   ]
  },
  {
   "cell_type": "code",
   "execution_count": 34,
   "metadata": {},
   "outputs": [
    {
     "data": {
      "text/html": [
       "<div>\n",
       "<style scoped>\n",
       "    .dataframe tbody tr th:only-of-type {\n",
       "        vertical-align: middle;\n",
       "    }\n",
       "\n",
       "    .dataframe tbody tr th {\n",
       "        vertical-align: top;\n",
       "    }\n",
       "\n",
       "    .dataframe thead th {\n",
       "        text-align: right;\n",
       "    }\n",
       "</style>\n",
       "<table border=\"1\" class=\"dataframe\">\n",
       "  <thead>\n",
       "    <tr style=\"text-align: right;\">\n",
       "      <th></th>\n",
       "      <th>Col_Name</th>\n",
       "      <th>Memory_Usage(kb)</th>\n",
       "    </tr>\n",
       "  </thead>\n",
       "  <tbody>\n",
       "    <tr>\n",
       "      <th>0</th>\n",
       "      <td>Honorofics</td>\n",
       "      <td>46.05</td>\n",
       "    </tr>\n",
       "    <tr>\n",
       "      <th>1</th>\n",
       "      <td>Name</td>\n",
       "      <td>55.24</td>\n",
       "    </tr>\n",
       "    <tr>\n",
       "      <th>2</th>\n",
       "      <td>Surname</td>\n",
       "      <td>48.72</td>\n",
       "    </tr>\n",
       "    <tr>\n",
       "      <th>3</th>\n",
       "      <td>Age</td>\n",
       "      <td>1.00</td>\n",
       "    </tr>\n",
       "    <tr>\n",
       "      <th>4</th>\n",
       "      <td>Sex</td>\n",
       "      <td>1.21</td>\n",
       "    </tr>\n",
       "    <tr>\n",
       "      <th>5</th>\n",
       "      <td>SibSp</td>\n",
       "      <td>1.00</td>\n",
       "    </tr>\n",
       "    <tr>\n",
       "      <th>6</th>\n",
       "      <td>Parch</td>\n",
       "      <td>1.00</td>\n",
       "    </tr>\n",
       "    <tr>\n",
       "      <th>7</th>\n",
       "      <td>Pclass</td>\n",
       "      <td>1.00</td>\n",
       "    </tr>\n",
       "    <tr>\n",
       "      <th>8</th>\n",
       "      <td>Ticket</td>\n",
       "      <td>48.64</td>\n",
       "    </tr>\n",
       "    <tr>\n",
       "      <th>9</th>\n",
       "      <td>Fare</td>\n",
       "      <td>1.00</td>\n",
       "    </tr>\n",
       "    <tr>\n",
       "      <th>10</th>\n",
       "      <td>Embarked</td>\n",
       "      <td>1.28</td>\n",
       "    </tr>\n",
       "    <tr>\n",
       "      <th>11</th>\n",
       "      <td>Survived</td>\n",
       "      <td>1.00</td>\n",
       "    </tr>\n",
       "    <tr>\n",
       "      <th>12</th>\n",
       "      <td>Total</td>\n",
       "      <td>207.14</td>\n",
       "    </tr>\n",
       "  </tbody>\n",
       "</table>\n",
       "</div>"
      ],
      "text/plain": [
       "      Col_Name  Memory_Usage(kb)\n",
       "0   Honorofics             46.05\n",
       "1         Name             55.24\n",
       "2      Surname             48.72\n",
       "3          Age              1.00\n",
       "4          Sex              1.21\n",
       "5        SibSp              1.00\n",
       "6        Parch              1.00\n",
       "7       Pclass              1.00\n",
       "8       Ticket             48.64\n",
       "9         Fare              1.00\n",
       "10    Embarked              1.28\n",
       "11    Survived              1.00\n",
       "12       Total            207.14"
      ]
     },
     "metadata": {},
     "output_type": "display_data"
    }
   ],
   "source": [
    "optimization = snt.start_Optimization(cleaning)\n",
    "memoryused = optimization.get_memory_usage(show_df=True)"
   ]
  },
  {
   "cell_type": "markdown",
   "metadata": {},
   "source": [
    "#### **Statistics**"
   ]
  },
  {
   "cell_type": "markdown",
   "metadata": {},
   "source": [
    "Now in this part, let's start getting some useful informations about the values present on dataset and then create a lot of graphs with the values"
   ]
  },
  {
   "cell_type": "code",
   "execution_count": 35,
   "metadata": {},
   "outputs": [],
   "source": [
    "statistics = snt.start_Statistics(cleaning)"
   ]
  },
  {
   "cell_type": "code",
   "execution_count": 36,
   "metadata": {},
   "outputs": [
    {
     "data": {
      "text/html": [
       "<div>\n",
       "<style scoped>\n",
       "    .dataframe tbody tr th:only-of-type {\n",
       "        vertical-align: middle;\n",
       "    }\n",
       "\n",
       "    .dataframe tbody tr th {\n",
       "        vertical-align: top;\n",
       "    }\n",
       "\n",
       "    .dataframe thead th {\n",
       "        text-align: right;\n",
       "    }\n",
       "</style>\n",
       "<table border=\"1\" class=\"dataframe\">\n",
       "  <thead>\n",
       "    <tr style=\"text-align: right;\">\n",
       "      <th></th>\n",
       "      <th>Column</th>\n",
       "      <th>Dtype</th>\n",
       "      <th>Distinct_Values</th>\n",
       "      <th>Most_Common/Max_Value</th>\n",
       "      <th>Occurrences_of_Max_Value</th>\n",
       "      <th>Percentages_of_Occurrences_of_Max_Value</th>\n",
       "      <th>Less_Common/Min_Value</th>\n",
       "      <th>Occurrences_of_Min_Value</th>\n",
       "      <th>Percentage_of_Occurrences_of_Min_Value</th>\n",
       "      <th>Missing_Values</th>\n",
       "      <th>Percentage_of_Missing_Values</th>\n",
       "    </tr>\n",
       "  </thead>\n",
       "  <tbody>\n",
       "    <tr>\n",
       "      <th>0</th>\n",
       "      <td>Honorofics</td>\n",
       "      <td>object</td>\n",
       "      <td>17</td>\n",
       "      <td>the Countess</td>\n",
       "      <td>1</td>\n",
       "      <td>0.11%</td>\n",
       "      <td>Capt</td>\n",
       "      <td>1</td>\n",
       "      <td>0.11%</td>\n",
       "      <td>0</td>\n",
       "      <td>0.0%</td>\n",
       "    </tr>\n",
       "    <tr>\n",
       "      <th>1</th>\n",
       "      <td>Name</td>\n",
       "      <td>object</td>\n",
       "      <td>799</td>\n",
       "      <td>of (Lucy Noel Martha Dyer-Edwards)</td>\n",
       "      <td>1</td>\n",
       "      <td>0.11%</td>\n",
       "      <td>(Ada E Hall)</td>\n",
       "      <td>1</td>\n",
       "      <td>0.11%</td>\n",
       "      <td>0</td>\n",
       "      <td>0.0%</td>\n",
       "    </tr>\n",
       "    <tr>\n",
       "      <th>2</th>\n",
       "      <td>Surname</td>\n",
       "      <td>object</td>\n",
       "      <td>667</td>\n",
       "      <td>van Melkebeke</td>\n",
       "      <td>1</td>\n",
       "      <td>0.11%</td>\n",
       "      <td>Abbing</td>\n",
       "      <td>1</td>\n",
       "      <td>0.11%</td>\n",
       "      <td>0</td>\n",
       "      <td>0.0%</td>\n",
       "    </tr>\n",
       "    <tr>\n",
       "      <th>3</th>\n",
       "      <td>Age</td>\n",
       "      <td>int8</td>\n",
       "      <td>71</td>\n",
       "      <td>80</td>\n",
       "      <td>1</td>\n",
       "      <td>0.11%</td>\n",
       "      <td>0</td>\n",
       "      <td>1</td>\n",
       "      <td>0.11%</td>\n",
       "      <td>0</td>\n",
       "      <td>0.0%</td>\n",
       "    </tr>\n",
       "    <tr>\n",
       "      <th>4</th>\n",
       "      <td>Sex</td>\n",
       "      <td>category</td>\n",
       "      <td>2</td>\n",
       "      <td>Male</td>\n",
       "      <td>577</td>\n",
       "      <td>64.76%</td>\n",
       "      <td>Female</td>\n",
       "      <td>314</td>\n",
       "      <td>35.24%</td>\n",
       "      <td>0</td>\n",
       "      <td>0.0%</td>\n",
       "    </tr>\n",
       "    <tr>\n",
       "      <th>5</th>\n",
       "      <td>SibSp</td>\n",
       "      <td>int8</td>\n",
       "      <td>7</td>\n",
       "      <td>8</td>\n",
       "      <td>7</td>\n",
       "      <td>0.79%</td>\n",
       "      <td>0</td>\n",
       "      <td>608</td>\n",
       "      <td>68.24%</td>\n",
       "      <td>0</td>\n",
       "      <td>0.0%</td>\n",
       "    </tr>\n",
       "    <tr>\n",
       "      <th>6</th>\n",
       "      <td>Parch</td>\n",
       "      <td>int8</td>\n",
       "      <td>7</td>\n",
       "      <td>6</td>\n",
       "      <td>1</td>\n",
       "      <td>0.11%</td>\n",
       "      <td>0</td>\n",
       "      <td>678</td>\n",
       "      <td>76.09%</td>\n",
       "      <td>0</td>\n",
       "      <td>0.0%</td>\n",
       "    </tr>\n",
       "    <tr>\n",
       "      <th>7</th>\n",
       "      <td>Pclass</td>\n",
       "      <td>int8</td>\n",
       "      <td>3</td>\n",
       "      <td>3</td>\n",
       "      <td>491</td>\n",
       "      <td>55.11%</td>\n",
       "      <td>1</td>\n",
       "      <td>216</td>\n",
       "      <td>24.24%</td>\n",
       "      <td>0</td>\n",
       "      <td>0.0%</td>\n",
       "    </tr>\n",
       "    <tr>\n",
       "      <th>8</th>\n",
       "      <td>Ticket</td>\n",
       "      <td>object</td>\n",
       "      <td>681</td>\n",
       "      <td>WE/P 5735</td>\n",
       "      <td>2</td>\n",
       "      <td>0.22%</td>\n",
       "      <td>110152</td>\n",
       "      <td>3</td>\n",
       "      <td>0.34%</td>\n",
       "      <td>0</td>\n",
       "      <td>0.0%</td>\n",
       "    </tr>\n",
       "    <tr>\n",
       "      <th>9</th>\n",
       "      <td>Fare</td>\n",
       "      <td>int8</td>\n",
       "      <td>88</td>\n",
       "      <td>120</td>\n",
       "      <td>4</td>\n",
       "      <td>0.45%</td>\n",
       "      <td>-122</td>\n",
       "      <td>4</td>\n",
       "      <td>0.45%</td>\n",
       "      <td>0</td>\n",
       "      <td>0.0%</td>\n",
       "    </tr>\n",
       "    <tr>\n",
       "      <th>10</th>\n",
       "      <td>Embarked</td>\n",
       "      <td>category</td>\n",
       "      <td>3</td>\n",
       "      <td>Southampton</td>\n",
       "      <td>644</td>\n",
       "      <td>72.44%</td>\n",
       "      <td>Queenstown</td>\n",
       "      <td>77</td>\n",
       "      <td>8.66%</td>\n",
       "      <td>2</td>\n",
       "      <td>0.22%</td>\n",
       "    </tr>\n",
       "    <tr>\n",
       "      <th>11</th>\n",
       "      <td>Survived</td>\n",
       "      <td>int8</td>\n",
       "      <td>2</td>\n",
       "      <td>1</td>\n",
       "      <td>342</td>\n",
       "      <td>38.38%</td>\n",
       "      <td>0</td>\n",
       "      <td>549</td>\n",
       "      <td>61.62%</td>\n",
       "      <td>0</td>\n",
       "      <td>0.0%</td>\n",
       "    </tr>\n",
       "  </tbody>\n",
       "</table>\n",
       "</div>"
      ],
      "text/plain": [
       "        Column     Dtype  Distinct_Values  \\\n",
       "0   Honorofics    object               17   \n",
       "1         Name    object              799   \n",
       "2      Surname    object              667   \n",
       "3          Age      int8               71   \n",
       "4          Sex  category                2   \n",
       "5        SibSp      int8                7   \n",
       "6        Parch      int8                7   \n",
       "7       Pclass      int8                3   \n",
       "8       Ticket    object              681   \n",
       "9         Fare      int8               88   \n",
       "10    Embarked  category                3   \n",
       "11    Survived      int8                2   \n",
       "\n",
       "                  Most_Common/Max_Value  Occurrences_of_Max_Value  \\\n",
       "0                          the Countess                         1   \n",
       "1    of (Lucy Noel Martha Dyer-Edwards)                         1   \n",
       "2                         van Melkebeke                         1   \n",
       "3                                    80                         1   \n",
       "4                                  Male                       577   \n",
       "5                                     8                         7   \n",
       "6                                     6                         1   \n",
       "7                                     3                       491   \n",
       "8                             WE/P 5735                         2   \n",
       "9                                   120                         4   \n",
       "10                          Southampton                       644   \n",
       "11                                    1                       342   \n",
       "\n",
       "   Percentages_of_Occurrences_of_Max_Value Less_Common/Min_Value  \\\n",
       "0                                    0.11%                  Capt   \n",
       "1                                    0.11%          (Ada E Hall)   \n",
       "2                                    0.11%                Abbing   \n",
       "3                                    0.11%                     0   \n",
       "4                                   64.76%                Female   \n",
       "5                                    0.79%                     0   \n",
       "6                                    0.11%                     0   \n",
       "7                                   55.11%                     1   \n",
       "8                                    0.22%                110152   \n",
       "9                                    0.45%                  -122   \n",
       "10                                  72.44%            Queenstown   \n",
       "11                                  38.38%                     0   \n",
       "\n",
       "    Occurrences_of_Min_Value Percentage_of_Occurrences_of_Min_Value  \\\n",
       "0                          1                                  0.11%   \n",
       "1                          1                                  0.11%   \n",
       "2                          1                                  0.11%   \n",
       "3                          1                                  0.11%   \n",
       "4                        314                                 35.24%   \n",
       "5                        608                                 68.24%   \n",
       "6                        678                                 76.09%   \n",
       "7                        216                                 24.24%   \n",
       "8                          3                                  0.34%   \n",
       "9                          4                                  0.45%   \n",
       "10                        77                                  8.66%   \n",
       "11                       549                                 61.62%   \n",
       "\n",
       "    Missing_Values Percentage_of_Missing_Values  \n",
       "0                0                         0.0%  \n",
       "1                0                         0.0%  \n",
       "2                0                         0.0%  \n",
       "3                0                         0.0%  \n",
       "4                0                         0.0%  \n",
       "5                0                         0.0%  \n",
       "6                0                         0.0%  \n",
       "7                0                         0.0%  \n",
       "8                0                         0.0%  \n",
       "9                0                         0.0%  \n",
       "10               2                        0.22%  \n",
       "11               0                         0.0%  "
      ]
     },
     "execution_count": 36,
     "metadata": {},
     "output_type": "execute_result"
    }
   ],
   "source": [
    "statistics.get_dataframe_values_insight()"
   ]
  },
  {
   "cell_type": "markdown",
   "metadata": {},
   "source": [
    "#### **Visualization**"
   ]
  },
  {
   "cell_type": "code",
   "execution_count": 37,
   "metadata": {},
   "outputs": [],
   "source": [
    "visualization = snt.start_Visualization(statistics)\n",
    "settings = snt.change_Settings()"
   ]
  },
  {
   "cell_type": "markdown",
   "metadata": {},
   "source": [
    "Default Settings for the graphs"
   ]
  },
  {
   "cell_type": "code",
   "execution_count": 38,
   "metadata": {},
   "outputs": [],
   "source": [
    "settings.increase_graph_size(15, 6)\n",
    "settings.set_title_settings(size=20)\n",
    "settings.set_labels_settings()\n",
    "settings.set_grid()"
   ]
  },
  {
   "cell_type": "markdown",
   "metadata": {},
   "source": [
    "##### **Bar Plots**"
   ]
  },
  {
   "cell_type": "markdown",
   "metadata": {},
   "source": [
    "Percentage of Survival per Class"
   ]
  },
  {
   "cell_type": "code",
   "execution_count": 39,
   "metadata": {},
   "outputs": [
    {
     "data": {
      "image/png": "[encoded data removed]",
      "text/plain": [
       "<Figure size 1500x600 with 1 Axes>"
      ]
     },
     "metadata": {},
     "output_type": "display_data"
    }
   ],
   "source": [
    "srbc = visualization.groupby('Pclass')['Survived'].mean().reset_index() # srbc stands for survival_rate_by_class\n",
    "srbc['Survived'] = [int(rate * 100) for rate in srbc['Survived']]\n",
    "srbc[\"Pclass\"] = srbc[\"Pclass\"].astype(str)\n",
    "new_names_for_port_of_embarkation = {'1': '1st', '2': '2nd', '3': '3rd'}\n",
    "srbc['Pclass'] = srbc['Pclass'].map(new_names_for_port_of_embarkation)\n",
    "srbc = snt.start_Visualization(srbc)\n",
    "srbc = srbc.barplot(\n",
    "    \"Pclass\", \n",
    "    \"Survived\", \n",
    "    title=\"Percentage of Survival per Class\", \n",
    "    xlabel=\"Class\", \n",
    "    ylabel=\"Percentage\"\n",
    ")\n",
    "srbc = settings.change_bar_colors(srbc, [\"green\"], alpha=0.7)\n",
    "srbc = settings.show_bar_values(srbc)"
   ]
  },
  {
   "cell_type": "markdown",
   "metadata": {},
   "source": [
    "Survival Rate by Age Group"
   ]
  },
  {
   "cell_type": "code",
   "execution_count": 40,
   "metadata": {},
   "outputs": [
    {
     "data": {
      "image/png": "[encoded data removed]",
      "text/plain": [
       "<Figure size 1500x600 with 1 Axes>"
      ]
     },
     "metadata": {},
     "output_type": "display_data"
    }
   ],
   "source": [
    "age_bins = [0, 10, 20, 30, 40, 50, 60, 70, 80]\n",
    "srag = visualization.copy() #srag stands for survival_rate_by_age_group\n",
    "srag['AgeGroup'] = pd.cut(srag['Age'], bins=age_bins)\n",
    "srag.dropna(inplace=True)\n",
    "srag[\"AgeGroup\"] = srag[\"AgeGroup\"].astype(str)\n",
    "new_names_for_port_of_embarkation = {\n",
    "    '(0, 10]': '0-10',\n",
    "    '(10, 20]': '10-20',\n",
    "    '(20, 30]': '20-30',\n",
    "    '(30, 40]': '30-40',\n",
    "    '(40, 50]': '40-50',\n",
    "    '(50, 60]': '50-60',\n",
    "    '(60, 70]': '60-70',\n",
    "    '(70, 80]': '70-80'\n",
    "}\n",
    "srag['AgeGroup'] = srag['AgeGroup'].map(new_names_for_port_of_embarkation)\n",
    "srag = srag.groupby('AgeGroup')['Survived'].mean().reset_index()\n",
    "srag['Survived'] = (srag['Survived'] * 100).astype(int)\n",
    "srag = snt.start_Visualization(srag)\n",
    "srag = srag.barplot(\n",
    "    \"AgeGroup\", \"Survived\",\n",
    "    title=\"Survival Rate per Age Group\",\n",
    "    xlabel=\"Age Group\",\n",
    "    ylabel=\"Survival Rate (%)\",\n",
    "    grid=True\n",
    ")\n",
    "srag = settings.show_bar_values(srag) \n",
    "srag = settings.change_bar_colors(srag, [\"gray\"], alpha=0.7)\n",
    "srag = settings.highlight_max_min_bar(srag)"
   ]
  },
  {
   "cell_type": "markdown",
   "metadata": {},
   "source": [
    "Survival Rate by Gender"
   ]
  },
  {
   "cell_type": "code",
   "execution_count": 41,
   "metadata": {},
   "outputs": [
    {
     "name": "stderr",
     "output_type": "stream",
     "text": [
      "/tmp/ipykernel_104692/517514277.py:1: FutureWarning: The default of observed=False is deprecated and will be changed to True in a future version of pandas. Pass observed=False to retain current behavior or observed=True to adopt the future default and silence this warning.\n",
      "  srbg = visualization.groupby('Sex')['Survived'].mean().reset_index() # srbg stands for survival_rate_by_gender\n"
     ]
    },
    {
     "data": {
      "image/png": "[encoded data removed]",
      "text/plain": [
       "<Figure size 1500x600 with 1 Axes>"
      ]
     },
     "metadata": {},
     "output_type": "display_data"
    }
   ],
   "source": [
    "srbg = visualization.groupby('Sex')['Survived'].mean().reset_index() # srbg stands for survival_rate_by_gender\n",
    "srbg['Survived'] = (srbg['Survived'] * 100).astype(int)\n",
    "survival_rate_by_gender = snt.start_Visualization(srbg)\n",
    "srbg = survival_rate_by_gender.barplot(\n",
    "    \"Sex\", \n",
    "    \"Survived\", \n",
    "    title=\"Percentage of Survival per Gender\", \n",
    "    xlabel=\"Gender\", \n",
    "    ylabel=\"Percentage\"\n",
    ")\n",
    "srbg = settings.change_bar_colors(srbg, [\"pink\"], alpha=0.7)\n",
    "srbg = settings.show_bar_values(srbg)"
   ]
  },
  {
   "cell_type": "markdown",
   "metadata": {},
   "source": [
    "Percentage of Survival Per Port"
   ]
  },
  {
   "cell_type": "code",
   "execution_count": 42,
   "metadata": {},
   "outputs": [
    {
     "name": "stderr",
     "output_type": "stream",
     "text": [
      "/tmp/ipykernel_104692/3357246823.py:1: FutureWarning: The default of observed=False is deprecated and will be changed to True in a future version of pandas. Pass observed=False to retain current behavior or observed=True to adopt the future default and silence this warning.\n",
      "  srbp = visualization.groupby('Embarked')['Survived'].mean().reset_index() # srbp stands for survival_rate_by_port\n"
     ]
    },
    {
     "data": {
      "image/png": "[encoded data removed]",
      "text/plain": [
       "<Figure size 1500x600 with 1 Axes>"
      ]
     },
     "metadata": {},
     "output_type": "display_data"
    }
   ],
   "source": [
    "srbp = visualization.groupby('Embarked')['Survived'].mean().reset_index() # srbp stands for survival_rate_by_port\n",
    "srbp['Survived'] = (srbp['Survived'] * 100).astype(int)\n",
    "srbp = snt.start_Visualization(srbp)\n",
    "srbp = srbp.barplot(\n",
    "    \"Embarked\", \n",
    "    \"Survived\", \n",
    "    title=\"Percentage of Survival per Port\", \n",
    "    xlabel=\"Port of Embarkation\", \n",
    "    ylabel=\"Percentage\"\n",
    ")\n",
    "srbp = settings.change_bar_colors(srbp, [\"yellow\"], alpha=0.7)\n",
    "srbp = settings.show_bar_values(srbp)"
   ]
  },
  {
   "cell_type": "markdown",
   "metadata": {},
   "source": [
    "Percentage of Survival per Honorofic"
   ]
  },
  {
   "cell_type": "code",
   "execution_count": 54,
   "metadata": {},
   "outputs": [
    {
     "data": {
      "image/png": "[encoded data removed]",
      "text/plain": [
       "<Figure size 1500x600 with 1 Axes>"
      ]
     },
     "metadata": {},
     "output_type": "display_data"
    }
   ],
   "source": [
    "psh = visualization.groupby('Honorofics')['Survived'].mean().reset_index() # psh stands for percentage_of_survival_per_honorofic\n",
    "psh['Survived'] = (psh['Survived'] * 100).astype(int)\n",
    "psh = snt.start_Visualization(psh)\n",
    "psh = psh.barplot(\n",
    "    \"Honorofics\", \n",
    "    \"Survived\", \n",
    "    title=\"Percentage of Survival per Port\", \n",
    "    xlabel=\"Honorofics\", \n",
    "    ylabel=\"Percentage\"\n",
    ")\n",
    "psh = settings.change_bar_colors(psh, [\"orange\"], alpha=0.7)\n",
    "psh = settings.highlight_equal_values(psh, \"yellow\")\n",
    "psh = settings.show_bar_values(psh)"
   ]
  },
  {
   "cell_type": "markdown",
   "metadata": {},
   "source": [
    "##### **Line Plots**"
   ]
  },
  {
   "cell_type": "markdown",
   "metadata": {},
   "source": [
    "Average Fare per Age Group"
   ]
  },
  {
   "cell_type": "code",
   "execution_count": 43,
   "metadata": {},
   "outputs": [
    {
     "data": {
      "image/png": "[encoded data removed]",
      "text/plain": [
       "<Figure size 1500x600 with 1 Axes>"
      ]
     },
     "metadata": {},
     "output_type": "display_data"
    }
   ],
   "source": [
    "age_bins = [0, 10, 20, 30, 40, 50, 60, 70, 80]\n",
    "afag = visualization.copy() #afag stands for average_fare_by_age_group\n",
    "afag['AgeGroup'] = pd.cut(afag['Age'], bins=age_bins)\n",
    "afag.dropna(inplace=True)\n",
    "afag[\"AgeGroup\"] = afag[\"AgeGroup\"].astype(str)\n",
    "new_names_for_port_of_embarkation = {\n",
    "    '(0, 10]': '0-10',\n",
    "    '(10, 20]': '10-20',\n",
    "    '(20, 30]': '20-30',\n",
    "    '(30, 40]': '30-40',\n",
    "    '(40, 50]': '40-50',\n",
    "    '(50, 60]': '50-60',\n",
    "    '(60, 70]': '60-70',\n",
    "    '(70, 80]': '70-80'\n",
    "}\n",
    "afag['AgeGroup'] = afag['AgeGroup'].map(new_names_for_port_of_embarkation)\n",
    "afag = afag.groupby('AgeGroup')['Fare'].mean().reset_index()\n",
    "afag = snt.start_Visualization(afag)\n",
    "settings.set_line_settings(marker=\">\")\n",
    "afag = afag.lineplot(\n",
    "    \"AgeGroup\", \n",
    "    \"Fare\", \n",
    "    title=\"Average Fare per Age Group\", \n",
    "    xlabel=\"Age Group\", \n",
    "    ylabel=\"Average Fare\", \n",
    "    grid=True\n",
    ")"
   ]
  },
  {
   "cell_type": "markdown",
   "metadata": {},
   "source": [
    "Survival Rate by Age Group"
   ]
  },
  {
   "cell_type": "code",
   "execution_count": 44,
   "metadata": {},
   "outputs": [
    {
     "data": {
      "image/png": "[encoded data removed]",
      "text/plain": [
       "<Figure size 1500x600 with 1 Axes>"
      ]
     },
     "metadata": {},
     "output_type": "display_data"
    }
   ],
   "source": [
    "age_bins = [0, 10, 20, 30, 40, 50, 60, 70, 80]\n",
    "srag = visualization.copy() # srag stands for survival_rate_by_age_group\n",
    "srag['AgeGroup'] = pd.cut(srag['Age'], bins=age_bins)\n",
    "srag.dropna(inplace=True)\n",
    "srag[\"AgeGroup\"] = srag[\"AgeGroup\"].astype(str)\n",
    "new_names_for_port_of_embarkation = {\n",
    "    '(0, 10]': '0-10',\n",
    "    '(10, 20]': '10-20',\n",
    "    '(20, 30]': '20-30',\n",
    "    '(30, 40]': '30-40',\n",
    "    '(40, 50]': '40-50',\n",
    "    '(50, 60]': '50-60',\n",
    "    '(60, 70]': '60-70',\n",
    "    '(70, 80]': '70-80'\n",
    "}\n",
    "srag['AgeGroup'] = srag['AgeGroup'].map(new_names_for_port_of_embarkation)\n",
    "srag = srag.groupby('AgeGroup')['Survived'].mean().reset_index()\n",
    "srag['Survived'] = (srag['Survived'] * 100).astype(int)\n",
    "srag = snt.start_Visualization(srag)\n",
    "settings.set_grid()\n",
    "settings.set_line_settings(\"red\", marker=\"o\")\n",
    "srag = srag.lineplot(\n",
    "    \"AgeGroup\", \n",
    "    \"Survived\", \n",
    "    title=\"Survival Rate per Age Group\", \n",
    "    xlabel=\"Age Group\", \n",
    "    ylabel=\"Survival Rate (%)\", \n",
    "    grid=True\n",
    ")"
   ]
  },
  {
   "cell_type": "markdown",
   "metadata": {},
   "source": [
    "Passenger Count by Age Group"
   ]
  },
  {
   "cell_type": "code",
   "execution_count": 45,
   "metadata": {},
   "outputs": [
    {
     "data": {
      "image/png": "[encoded data removed]",
      "text/plain": [
       "<Figure size 1500x600 with 1 Axes>"
      ]
     },
     "metadata": {},
     "output_type": "display_data"
    }
   ],
   "source": [
    "age_bins = [0, 10, 20, 30, 40, 50, 60, 70, 80]\n",
    "pcag = visualization.copy() # pcag stands for passenger_count_by_age_group\n",
    "pcag['AgeGroup'] = pd.cut(pcag['Age'], bins=age_bins)\n",
    "pcag.dropna(inplace=True)\n",
    "pcag[\"AgeGroup\"] = pcag[\"AgeGroup\"].astype(str)\n",
    "new_names_for_port_of_embarkation = {\n",
    "    '(0, 10]': '0-10',\n",
    "    '(10, 20]': '10-20',\n",
    "    '(20, 30]': '20-30',\n",
    "    '(30, 40]': '30-40',\n",
    "    '(40, 50]': '40-50',\n",
    "    '(50, 60]': '50-60',\n",
    "    '(60, 70]': '60-70',\n",
    "    '(70, 80]': '70-80'\n",
    "}\n",
    "pcag['AgeGroup'] = pcag['AgeGroup'].map(new_names_for_port_of_embarkation)\n",
    "pcag = pcag.groupby('AgeGroup').size().reset_index(name='PassengerCount')\n",
    "pcag = snt.start_Visualization(pcag)\n",
    "settings.set_line_settings(\"blue\", \"--\", marker=\"o\", markeredgecolor=\"white\")\n",
    "settings.set_grid(grid_backgroundcolor=\"ffffff\", gridline=\"black\")\n",
    "pcag = pcag.lineplot(\n",
    "    \"AgeGroup\", \"PassengerCount\",\n",
    "    title=\"Number of Passengers per Age Group\",\n",
    "    xlabel=\"Age Group\",\n",
    "    ylabel=\"Number of Passengers\",\n",
    "    grid=True\n",
    ")"
   ]
  },
  {
   "cell_type": "markdown",
   "metadata": {},
   "source": [
    "##### **Sending images via Slack**"
   ]
  },
  {
   "cell_type": "code",
   "execution_count": 46,
   "metadata": {},
   "outputs": [
    {
     "name": "stdout",
     "output_type": "stream",
     "text": [
      "\n",
      "            1. Creating a slack_bot (read the first paragraph): https://medium.com/applied-data-science/how-to-build-you-own-slack-bot-714283fd16e5\n",
      "            2. Getting the channel_id (read method 1): https://www.process.st/how-to/find-slack-channel-id/ \n",
      "            \n"
     ]
    }
   ],
   "source": [
    "settings.help_slack_bot()"
   ]
  },
  {
   "cell_type": "markdown",
   "metadata": {},
   "source": [
    "Use tutorial below and then save your credentials, I will not save mine for obvious reasons."
   ]
  },
  {
   "cell_type": "code",
   "execution_count": 47,
   "metadata": {},
   "outputs": [],
   "source": [
    "# settings.save_slack_credentials()"
   ]
  },
  {
   "cell_type": "code",
   "execution_count": 48,
   "metadata": {},
   "outputs": [
    {
     "name": "stderr",
     "output_type": "stream",
     "text": [
      "/home/abigor/miniconda3/envs/suntzu/lib/python3.12/site-packages/slack_sdk/web/internal_utils.py:422: UserWarning: client.files_upload() may cause some issues like timeouts for relatively large files. Our latest recommendation is to use client.files_upload_v2(), which is mostly compatible and much stabler, instead.\n",
      "  warnings.warn(message)\n"
     ]
    },
    {
     "name": "stdout",
     "output_type": "stream",
     "text": [
      "The photo was sent.\n"
     ]
    }
   ],
   "source": [
    "settings.send_images_via_slack(\"../imgs/numberofpassengerspergroup.png\", \n",
    "                               caption=\"Here is a graph that shows the number of passengers per age group\")"
   ]
  },
  {
   "cell_type": "markdown",
   "metadata": {},
   "source": [
    "##### **Sending images via Telegram**"
   ]
  },
  {
   "cell_type": "code",
   "execution_count": 49,
   "metadata": {},
   "outputs": [
    {
     "name": "stdout",
     "output_type": "stream",
     "text": [
      "\n",
      "        1. How to create a bot: https://www.directual.com/lesson-library/how-to-create-a-telegram-bot\n",
      "        2. Adding the bot to a group: https://botifi.me/en/help/telegram-adding-bot-to-channel-or-group/\n",
      "        3. Getting the bot_token: https://botifi.me/en/help/telegram-existed-bot/\n",
      "        4. Getting the chat_id of a group: https://www.wikihow.com/Know-Chat-ID-on-Telegram-on-Android\n",
      "        5. Possible errors: https://core.telegram.org/api/errors\n",
      "        \n"
     ]
    }
   ],
   "source": [
    "settings.help_telegram_bot()"
   ]
  },
  {
   "cell_type": "markdown",
   "metadata": {},
   "source": [
    "Use tutorial below and then save your credentials, I will not save mine for obvious reasons."
   ]
  },
  {
   "cell_type": "code",
   "execution_count": 50,
   "metadata": {},
   "outputs": [],
   "source": [
    "# settings.save_telegram_credentials()"
   ]
  },
  {
   "cell_type": "code",
   "execution_count": 51,
   "metadata": {},
   "outputs": [
    {
     "name": "stdout",
     "output_type": "stream",
     "text": [
      "The photo was sent.\n"
     ]
    }
   ],
   "source": [
    "settings.send_images_via_telegram(\"../imgs/numberofpassengerspergroup.png\", caption=\"Here is a graph that shows the number of passengers per age group\")"
   ]
  }
 ],
 "metadata": {
  "kernelspec": {
   "display_name": "suntzu",
   "language": "python",
   "name": "python3"
  },
  "language_info": {
   "codemirror_mode": {
    "name": "ipython",
    "version": 3
   },
   "file_extension": ".py",
   "mimetype": "text/x-python",
   "name": "python",
   "nbconvert_exporter": "python",
   "pygments_lexer": "ipython3",
   "version": "3.12.3"
  }
 },
 "nbformat": 4,
 "nbformat_minor": 2
}
