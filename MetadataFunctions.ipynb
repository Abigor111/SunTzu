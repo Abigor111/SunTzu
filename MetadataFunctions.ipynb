{
 "cells": [
  {
   "cell_type": "code",
   "execution_count": 5,
   "metadata": {},
   "outputs": [],
   "source": [
    "%load_ext autoreload\n",
    "%autoreload 2"
   ]
  },
  {
   "cell_type": "markdown",
   "metadata": {},
   "source": [
    "## Imports"
   ]
  },
  {
   "cell_type": "code",
   "execution_count": 4,
   "metadata": {},
   "outputs": [],
   "source": [
    "import pandas as pd\n",
    "import pyarrow as pa\n",
    "import pyarrow.parquet as pq\n",
    "import json\n",
    "import jsonschema\n",
    "from jsonschema.exceptions import ValidationError\n",
    "import os\n",
    "import pathlib\n",
    "import os.path\n",
    "import xarray as xr\n",
    "import matplotlib.pyplot as plt\n",
    "import requests\n",
    "from slack_sdk import WebClient\n",
    "from slack_sdk.errors import SlackApiError\n",
    "import time\n",
    "import os\n",
    "import numpy as np\n",
    "from IPython.display import display"
   ]
  },
  {
   "cell_type": "markdown",
   "metadata": {},
   "source": [
    "### **Next Steps** "
   ]
  },
  {
   "cell_type": "code",
   "execution_count": 1,
   "metadata": {},
   "outputs": [],
   "source": [
    "import os\n",
    "import json\n",
    "import requests\n",
    "from slack_sdk import WebClient\n",
    "from slack_sdk.errors import SlackApiError\n",
    "class Visualization:\n",
    "    def save_telegram_credentials(bot_token: str =None, chat_id: str=None):\n",
    "        \"\"\"\n",
    "        Save the Telegram credentials to a JSON file.\n",
    "\n",
    "        Args:\n",
    "            bot_token (str, optional): The bot token. If not provided, the user will be prompted to enter it.\n",
    "            chat_id (str, optional): The chat ID. If not provided, the user will be prompted to enter it.\n",
    "            filename (str, optional): The name of the JSON file to save the credentials. Defaults to \"telegram_credentials.json\".\n",
    "        \"\"\"\n",
    "        bot_token = bot_token or input(\"Insert the bot_token: \")\n",
    "        chat_id = chat_id or input(\"Insert the chat id: \")\n",
    "        dictionary = {\"chat_id\": chat_id, \"bot_token\": bot_token}\n",
    "        try:\n",
    "            with open('telegram_credentials.json', \"w\") as outfile:\n",
    "                json.dump(dictionary, outfile)\n",
    "        except Exception as e:\n",
    "            print(\"Error occurred while saving telegram credentials:\", str(e))\n",
    "    def send_images_via_telegram(file_path: str, chat_id: str=None, bot_token: str =None, caption: str =\"This is a caption\"):\n",
    "        \"\"\"\n",
    "        Sends an image via Telegram using the provided file path, chat ID, bot token, and caption.\n",
    "\n",
    "        Args:\n",
    "            file_path (str): The path to the image file.\n",
    "            chat_id (str, optional): The ID of the chat to send the image to. If not provided, it will be retrieved from the 'telegram_credentials.json' file. Defaults to None.\n",
    "            bot_token (str, optional): The token of the Telegram bot. If not provided, it will be retrieved from the 'telegram_credentials.json' file. Defaults to None.\n",
    "            caption (str, optional): The caption for the image. Defaults to \"This is a caption\".\n",
    "\n",
    "        Raises:\n",
    "            ValueError: If chat_id and bot_token are not provided and the 'telegram_credentials.json' file does not exist.\n",
    "            ValueError: If chat_id or bot_token is not provided.\n",
    "\n",
    "        Returns:\n",
    "            None\n",
    "        \"\"\"\n",
    "        if chat_id is None and bot_token is None:\n",
    "            if os.path.exists('telegram_credentials.json'):\n",
    "                try:\n",
    "                    with open('telegram_credentials.json', 'r') as openfile:\n",
    "                        json_object = json.load(openfile)\n",
    "                    chat_id = json_object.get(\"chat_id\")\n",
    "                    bot_token = json_object.get(\"bot_token\")\n",
    "                except ValueError:\n",
    "                    print(\"Please use the function 'save_telegram_credentials'\")\n",
    "            else:\n",
    "                raise ValueError(\"Please provide the chat_id and the bot_token or use the function 'save_telegram_credentials'.\")\n",
    "        if chat_id is None or bot_token is None:\n",
    "            raise ValueError(\"chat_id and bot_token are required parameters\")\n",
    "        base_url = f\"https://api.telegram.org/bot{bot_token}/sendPhoto\"\n",
    "        with open(file_path, 'rb') as my_file:\n",
    "            parameters = {\n",
    "                \"chat_id\": chat_id,\n",
    "                \"caption\": caption\n",
    "            }\n",
    "            files = {   \n",
    "                \"photo\": my_file\n",
    "            }\n",
    "            try:\n",
    "                resp = requests.post(base_url, data=parameters, files=files)\n",
    "                status_code = resp.status_code\n",
    "                if status_code == 200:\n",
    "                    print(\"The photo was sent.\")\n",
    "                else:\n",
    "                    resp_json = resp.json()\n",
    "                    print(\"Sent\",\"-\", resp_json.get(\"ok\"))\n",
    "                    del resp_json[\"ok\"]\n",
    "                    for key, values in resp_json.items():\n",
    "                        print(key.capitalize(), \"-\", values)\n",
    "            except requests.exceptions.RequestException as e:\n",
    "                print(\"An error occurred during the request:\", str(e))\n",
    "    def help_telegram_bot():\n",
    "        \"\"\"\n",
    "        Provides information on how to use a Telegram bot.\n",
    "        \"\"\"\n",
    "        print('''\n",
    "        1. How to create a bot: https://www.directual.com/lesson-library/how-to-create-a-telegram-bot\n",
    "        2. Adding the bot to a group: https://botifi.me/en/help/telegram-adding-bot-to-channel-or-group/\n",
    "        3. Getting the bot_token: https://botifi.me/en/help/telegram-existed-bot/\n",
    "        4. Getting the chat_id of a group: https://www.wikihow.com/Know-Chat-ID-on-Telegram-on-Android\n",
    "        5. Possible errors: https://core.telegram.org/api/errors\n",
    "        ''')\n",
    "    \n",
    "    def save_slack_credentials(channel_id:str = None, slack_token:str=None):\n",
    "        \"\"\"\n",
    "        Saves Slack credentials (channel ID and token) to a JSON file.\n",
    "\n",
    "        Args:\n",
    "            channel_id (str, optional): The ID of the Slack channel. If not provided, the user will be prompted to enter it.\n",
    "            slack_token (str, optional): The Slack token. If not provided, the user will be prompted to enter it.\n",
    "\n",
    "        Returns:\n",
    "            None: The function does not return any value.\n",
    "        \"\"\"\n",
    "        slack_token = slack_token or input(\"Insert the slack_token: \")\n",
    "        channel_id = channel_id or input(\"Insert the channel_id: \")\n",
    "        dictionary = {\"channel_id\": channel_id, \"slack_token\": slack_token}\n",
    "        try:\n",
    "            with open('slack_credentials.json', \"w\") as outfile:\n",
    "                json.dump(dictionary, outfile)\n",
    "        except Exception as e:\n",
    "            print(\"Error occurred while saving slack credentials:\", str(e))\n",
    "    def send_images_via_slack(file_path: str, channel_id: str=None, slack_token: str =None, caption: str =\"This is a caption\"):\n",
    "        \"\"\"\n",
    "        Sends an image file to a specified Slack channel using the Slack API.\n",
    "\n",
    "        Args:\n",
    "            file_path (str): The path to the image file to be sent.\n",
    "            channel_id (str, optional): The ID of the Slack channel to send the image to. If not provided, it will attempt to read the channel ID from a JSON file named 'slack_credentials.json'.\n",
    "            slack_token (str, optional): The Slack API token. If not provided, it will attempt to read the token from the same JSON file mentioned above.\n",
    "            caption (str, optional): The caption to be displayed with the image in Slack.\n",
    "\n",
    "        Raises:\n",
    "            ValueError: If 'slack_credentials.json' file is not found or the values are not valid.\n",
    "            ValueError: If either `channel_id` or `slack_token` is missing.\n",
    "\n",
    "        Returns:\n",
    "            None\n",
    "        \"\"\"\n",
    "        if channel_id is None and slack_token is None:\n",
    "            if os.path.exists('slack_credentials.json'):\n",
    "                try:\n",
    "                    with open('slack_credentials.json', 'r') as openfile:\n",
    "                        json_object = json.load(openfile)\n",
    "                    channel_id = json_object.get(\"channel_id\")\n",
    "                    slack_token = json_object.get(\"slack_token\")\n",
    "                except ValueError:\n",
    "                    print(\"Please use the function 'save_slack_credentials'\")\n",
    "            else:\n",
    "                raise ValueError(\"Please provide the channel_id and the slack_token or use the function 'save_slack_credentials'.\")\n",
    "        if channel_id is None or slack_token is None:\n",
    "            raise ValueError(\"channel_id and slack_token are required parameters\")\n",
    "        client = WebClient(token=slack_token)\n",
    "        try:\n",
    "            response = client.files_upload(\n",
    "                channels=channel_id,\n",
    "                file=file_path,\n",
    "                title=caption\n",
    "            )\n",
    "            if response[\"ok\"]:\n",
    "                print(\"The photo was sent.\")\n",
    "            else:\n",
    "                for key, value in response.items():\n",
    "                    print(f\"{key.capitalize()}: {value}\")\n",
    "        except SlackApiError as e:\n",
    "            print(f\"Error uploading file: {e.response['error']}\")\n",
    "    def help_slack_bot():\n",
    "        \"\"\"\n",
    "        Provides a list of resources to help users create and configure a Slack bot.\n",
    "        \"\"\"\n",
    "        print('''\n",
    "            1. Creating a slack_bot (read the first paragraph): https://medium.com/applied-data-science/how-to-build-you-own-slack-bot-714283fd16e5\n",
    "            2. Getting the channel_id (read method 1): https://www.process.st/how-to/find-slack-channel-id/ \n",
    "            ''')"
   ]
  },
  {
   "cell_type": "code",
   "execution_count": 1,
   "metadata": {},
   "outputs": [
    {
     "ename": "NameError",
     "evalue": "name 'Visualization' is not defined",
     "output_type": "error",
     "traceback": [
      "\u001b[0;31m---------------------------------------------------------------------------\u001b[0m",
      "\u001b[0;31mNameError\u001b[0m                                 Traceback (most recent call last)",
      "Cell \u001b[0;32mIn[1], line 1\u001b[0m\n\u001b[0;32m----> 1\u001b[0m \u001b[43mVisualization\u001b[49m\u001b[38;5;241m.\u001b[39msend_images_via_slack(file_path\u001b[38;5;241m=\u001b[39m\u001b[38;5;124m\"\u001b[39m\u001b[38;5;124mimgs/suntzulogo.png\u001b[39m\u001b[38;5;124m\"\u001b[39m, caption\u001b[38;5;241m=\u001b[39m\u001b[38;5;124m\"\u001b[39m\u001b[38;5;124mLogo\u001b[39m\u001b[38;5;124m\"\u001b[39m)\n",
      "\u001b[0;31mNameError\u001b[0m: name 'Visualization' is not defined"
     ]
    }
   ],
   "source": [
    "Visualization.send_images_via_slack(file_path=\"imgs/suntzulogo.png\", caption=\"Logo\")"
   ]
  },
  {
   "cell_type": "code",
   "execution_count": 8,
   "metadata": {},
   "outputs": [
    {
     "name": "stdout",
     "output_type": "stream",
     "text": [
      "\n",
      "            1. Creating a slack_bot (read the first paragraph): https://medium.com/applied-data-science/how-to-build-you-own-slack-bot-714283fd16e5\n",
      "            2. Getting the channel_id (read method 1): https://www.process.st/how-to/find-slack-channel-id/ \n",
      "            \n"
     ]
    }
   ],
   "source": [
    "Visualization.help_slack_bot()"
   ]
  },
  {
   "cell_type": "markdown",
   "metadata": {},
   "source": [
    "# Testes"
   ]
  },
  {
   "cell_type": "code",
   "execution_count": null,
   "metadata": {},
   "outputs": [
    {
     "name": "stderr",
     "output_type": "stream",
     "text": [
      "<frozen abc>:106: FutureWarning: xarray subclass netCDF_Metadata should explicitly define __slots__\n"
     ]
    },
    {
     "data": {
      "text/html": [
       "<div>\n",
       "<style scoped>\n",
       "    .dataframe tbody tr th:only-of-type {\n",
       "        vertical-align: middle;\n",
       "    }\n",
       "\n",
       "    .dataframe tbody tr th {\n",
       "        vertical-align: top;\n",
       "    }\n",
       "\n",
       "    .dataframe thead th {\n",
       "        text-align: right;\n",
       "    }\n",
       "</style>\n",
       "<table border=\"1\" class=\"dataframe\">\n",
       "  <thead>\n",
       "    <tr style=\"text-align: right;\">\n",
       "      <th></th>\n",
       "      <th>Gender</th>\n",
       "      <th>Age</th>\n",
       "      <th>SibSp</th>\n",
       "      <th>Parents_on_Board</th>\n",
       "      <th>Ticket_Price</th>\n",
       "      <th>Port_of_Embarkation</th>\n",
       "      <th>Survived</th>\n",
       "    </tr>\n",
       "  </thead>\n",
       "  <tbody>\n",
       "    <tr>\n",
       "      <th>0</th>\n",
       "      <td>male</td>\n",
       "      <td>22.0</td>\n",
       "      <td>1</td>\n",
       "      <td>0</td>\n",
       "      <td>7.2500</td>\n",
       "      <td>Southampton</td>\n",
       "      <td>0</td>\n",
       "    </tr>\n",
       "    <tr>\n",
       "      <th>1</th>\n",
       "      <td>female</td>\n",
       "      <td>38.0</td>\n",
       "      <td>1</td>\n",
       "      <td>0</td>\n",
       "      <td>71.2833</td>\n",
       "      <td>Cherbourg</td>\n",
       "      <td>1</td>\n",
       "    </tr>\n",
       "    <tr>\n",
       "      <th>2</th>\n",
       "      <td>female</td>\n",
       "      <td>26.0</td>\n",
       "      <td>0</td>\n",
       "      <td>0</td>\n",
       "      <td>7.9250</td>\n",
       "      <td>Southampton</td>\n",
       "      <td>1</td>\n",
       "    </tr>\n",
       "    <tr>\n",
       "      <th>3</th>\n",
       "      <td>female</td>\n",
       "      <td>35.0</td>\n",
       "      <td>1</td>\n",
       "      <td>0</td>\n",
       "      <td>53.1000</td>\n",
       "      <td>Southampton</td>\n",
       "      <td>1</td>\n",
       "    </tr>\n",
       "    <tr>\n",
       "      <th>4</th>\n",
       "      <td>male</td>\n",
       "      <td>35.0</td>\n",
       "      <td>0</td>\n",
       "      <td>0</td>\n",
       "      <td>8.0500</td>\n",
       "      <td>Southampton</td>\n",
       "      <td>0</td>\n",
       "    </tr>\n",
       "  </tbody>\n",
       "</table>\n",
       "</div>"
      ],
      "text/plain": [
       "   Gender   Age  SibSp  Parents_on_Board  Ticket_Price Port_of_Embarkation  \\\n",
       "0    male  22.0      1                 0        7.2500         Southampton   \n",
       "1  female  38.0      1                 0       71.2833           Cherbourg   \n",
       "2  female  26.0      0                 0        7.9250         Southampton   \n",
       "3  female  35.0      1                 0       53.1000         Southampton   \n",
       "4    male  35.0      0                 0        8.0500         Southampton   \n",
       "\n",
       "   Survived  \n",
       "0         0  \n",
       "1         1  \n",
       "2         1  \n",
       "3         1  \n",
       "4         0  "
      ]
     },
     "execution_count": 1,
     "metadata": {},
     "output_type": "execute_result"
    }
   ],
   "source": [
    "import suntzu as snt\n",
    "df = snt.read_file(\"examples/Titanic.parquet\")\n",
    "df.head()   "
   ]
  },
  {
   "cell_type": "code",
   "execution_count": 4,
   "metadata": {},
   "outputs": [],
   "source": [
    "import pandas as pd\n",
    "import numpy as np\n",
    "import matplotlib.pyplot as plt\n",
    "data = {\n",
    "    'Tempo': pd.date_range('2024-01-01', periods=100),\n",
    "    'Vendas': np.random.randint(0, 100, size=100),\n",
    "    'Lucro': np.random.uniform(0, 1000, size=100),\n",
    "    'Categoria': np.random.choice(['A', 'B', 'C'], size=100),\n",
    "    'Idade': np.random.randint(18, 70, size=100)\n",
    "}\n",
    "\n",
    "df = pd.DataFrame(data)"
   ]
  },
  {
   "cell_type": "code",
   "execution_count": 2,
   "metadata": {},
   "outputs": [],
   "source": [
    "def increase_graph_size(width: int, height: int):\n",
    "    plt.rcParams['figure.figsize'] = (width, height)"
   ]
  },
  {
   "cell_type": "code",
   "execution_count": 3,
   "metadata": {},
   "outputs": [],
   "source": [
    "# Revise\n",
    "def set_grid(grid_backgroundcolor: str =\"#EBEBEB\", grid_border: bool = False, gridline: str =\"white\", gridlinewidth: int | float =1.2, minorgridlines: bool=False):\n",
    "    plt.rcParams['axes.facecolor'] = grid_backgroundcolor  \n",
    "    plt.rcParams['axes.grid.axis'] = 'both'\n",
    "    plt.rcParams['axes.grid.which'] = 'major'  \n",
    "    plt.rcParams['grid.color'] = gridline  \n",
    "    plt.rcParams['grid.linewidth'] = gridlinewidth \n",
    "    if minorgridlines:\n",
    "        plt.rcParams['axes.grid.which'] = 'both'  # Show both major and minor gridlines\n",
    "        plt.rcParams['axes.grid'] = True  # Show minor gridlines\n",
    "        plt.rcParams['axes.linewidth'] = 0.6  # Set gridline width for minor grid\n",
    "        plt.rcParams['xtick.minor.visible'] = True  # Show minor ticks on x-axis\n",
    "        plt.rcParams['ytick.minor.visible'] = True  # Show minor ticks on y-axis\n",
    "        plt.rcParams['xtick.minor.pad'] = 3.5  # Padding between minor ticks and labels on x-axis\n",
    "        plt.rcParams['ytick.minor.pad'] = 3.5  # Padding between minor ticks and labels on y-axis\n",
    "        plt.rcParams['xtick.minor.width'] = 0.5  # Width of minor ticks on x-axis\n",
    "        plt.rcParams['ytick.minor.width'] = 0.5  # Width of minor ticks on y-axis\n",
    "        plt.rcParams['xtick.minor.size'] = 3  # Length of minor ticks on x-axis\n",
    "        plt.rcParams['ytick.minor.size'] = 3  # Length of minor ticks on y-axis\n",
    "    if not grid_border:\n",
    "        plt.rcParams['axes.spines.bottom'] = False  # Hide minor ticks on x-axis\n",
    "        plt.rcParams['axes.spines.left'] = False  # Hide minor ticks on y-axis\n",
    "        plt.rcParams['axes.spines.top'] = False  # Hide minor ticks on x-axis\n",
    "        plt.rcParams['axes.spines.right'] = False  # Hide minor ticks on y-axes"
   ]
  },
  {
   "cell_type": "markdown",
   "metadata": {},
   "source": [
    "lineplot - Done\n",
    "\n",
    "multilineplot\n",
    "\n",
    "correlation heatmap\n",
    "\n",
    "box plot\n",
    "\n",
    "histogram\n",
    "\n",
    "bar plot\n",
    "\n",
    "kde plot\n",
    "\n",
    "cross tabulation\n",
    "\n",
    "geographical map"
   ]
  },
  {
   "cell_type": "code",
   "execution_count": 33,
   "metadata": {},
   "outputs": [],
   "source": [
    "# plt.rcParams.keys()"
   ]
  },
  {
   "cell_type": "code",
   "execution_count": 1,
   "metadata": {},
   "outputs": [
    {
     "name": "stdout",
     "output_type": "stream",
     "text": [
      "<class 'pandas.core.frame.DataFrame'>\n"
     ]
    },
    {
     "name": "stderr",
     "output_type": "stream",
     "text": [
      "/home/abigor/miniconda3/envs/pygmtsar/lib/python3.10/abc.py:106: FutureWarning: xarray subclass netCDF_Metadata should explicitly define __slots__\n",
      "  cls = super().__new__(mcls, name, bases, namespace, **kwargs)\n"
     ]
    }
   ],
   "source": [
    "import suntzu as snt\n",
    "df = snt.read_file(\"examples/Titanic.csv\")\n",
    "df.head()\n",
    "print(type(df))"
   ]
  },
  {
   "cell_type": "code",
   "execution_count": 4,
   "metadata": {},
   "outputs": [],
   "source": [
    "def reset_settings(matplotlib=True, pandas=True):\n",
    "    if pandas:\n",
    "        pd.reset_option('all')\n",
    "    if matplotlib:\n",
    "        plt.rcdefaults()"
   ]
  },
  {
   "cell_type": "code",
   "execution_count": 5,
   "metadata": {},
   "outputs": [],
   "source": [
    "def set_labels_settings(font: str= \"serif\",labelcolor: str = \"black\", labelsize: int | str = \"medium\", labelweight: str = \"normal\", pad: int |str= 4):\n",
    "    plt.rcParams['axes.labelcolor'] = labelcolor\n",
    "    plt.rcParams['axes.labelsize'] = labelsize\n",
    "    plt.rcParams['axes.labelweight'] = labelweight\n",
    "    plt.rcParams['axes.labelpad'] = pad\n",
    "    plt.rcParams['font.family'] = font"
   ]
  },
  {
   "cell_type": "code",
   "execution_count": 6,
   "metadata": {},
   "outputs": [],
   "source": [
    "from cycler import cycler\n",
    "def set_marker_settings(size: int | float = 10, type: str = 'o', color: str | list[str] = \"green\", outline: str = \"white\", outlinewidth: int | float = 1):\n",
    "    plt.rcParams['scatter.marker'] = type\n",
    "    plt.rcParams['axes.prop_cycle'] = cycler('color', [color, '#ff7f0e', '#2ca02c', '#d62728', '#9467bd', '#8c564b', '#e377c2', '#7f7f7f', '#bcbd22', '#17becf'])\n",
    "    plt.rcParams['scatter.edgecolors'] = outline\n",
    "    plt.rcParams['lines.linewidth'] = outlinewidth\n",
    "    plt.rcParams['lines.markersize'] = size"
   ]
  },
  {
   "cell_type": "code",
   "execution_count": 7,
   "metadata": {},
   "outputs": [],
   "source": [
    "def set_title_settings(color: str = 'auto', location: str = 'center', size: int | str = 'large', weight: str = \"bold\", pad: int | float = 6.0):\n",
    "    plt.rcParams['axes.titlecolor'] = color\n",
    "    plt.rcParams['axes.titlelocation'] = location\n",
    "    plt.rcParams['axes.titlesize'] = size\n",
    "    plt.rcParams['axes.titleweight'] = weight\n",
    "    plt.rcParams['axes.titlepad'] = pad"
   ]
  },
  {
   "cell_type": "code",
   "execution_count": 22,
   "metadata": {},
   "outputs": [],
   "source": [
    "def scatter_plot(self: pd.DataFrame, x: pd.Series, y: pd.Series, title: str =None, xlabel:str =None, xlim: tuple = None, ylabel: str =None, ylim: tuple = None,  rotation_xlabel: int = None, grid=False, legend: bool=True, filename: str =None, dpi: int = 100):\n",
    "    if xlabel is None:\n",
    "        xlabel = str(x)\n",
    "    if ylabel is None:\n",
    "        ylabel = str(y)\n",
    "    if title is None:\n",
    "        title = xlabel + \" VS \" + ylabel\n",
    "    fig, ax = plt.subplots()\n",
    "    ax.set_xlabel(xlabel)\n",
    "    ax.set_ylabel(ylabel)\n",
    "    ax.set_title(title)\n",
    "    ax.grid(grid)\n",
    "    if rotation_xlabel is not None:\n",
    "        plt.xticks(rotation=rotation_xlabel)\n",
    "    if plt.gca().get_legend() is not None and legend:\n",
    "        if any(label.get_label() for label in plt.gca().get_legend().get_texts()):\n",
    "            plt.legend()\n",
    "    if xlim is not None:\n",
    "        ax.set_xlim(xlim)\n",
    "    if ylim is not None:\n",
    "        ax.set_ylim(ylim)\n",
    "    if x in self.columns and y in self.columns:\n",
    "        ax.scatter(x=self[x], y=self[y], zorder=2)\n",
    "    else:\n",
    "        raise ValueError(f\"Columns '{x}' or '{y}' not found in DataFrame.\")\n",
    "    if filename is not None:\n",
    "        fig.savefig(filename, dpi=dpi)\n",
    "    plt.show()"
   ]
  },
  {
   "cell_type": "code",
   "execution_count": 9,
   "metadata": {},
   "outputs": [],
   "source": [
    "# increase_graph_size(15, 10)\n",
    "# set_grid(grid_border=False)\n",
    "# set_title_settings(size=24)\n",
    "# set_labels_settings(labelsize=20)\n",
    "# set_marker_settings(outlinewidth=5)"
   ]
  },
  {
   "cell_type": "code",
   "execution_count": 10,
   "metadata": {},
   "outputs": [
    {
     "data": {
      "text/html": [
       "<div>\n",
       "<style scoped>\n",
       "    .dataframe tbody tr th:only-of-type {\n",
       "        vertical-align: middle;\n",
       "    }\n",
       "\n",
       "    .dataframe tbody tr th {\n",
       "        vertical-align: top;\n",
       "    }\n",
       "\n",
       "    .dataframe thead th {\n",
       "        text-align: right;\n",
       "    }\n",
       "</style>\n",
       "<table border=\"1\" class=\"dataframe\">\n",
       "  <thead>\n",
       "    <tr style=\"text-align: right;\">\n",
       "      <th></th>\n",
       "      <th>Date</th>\n",
       "      <th>Value</th>\n",
       "    </tr>\n",
       "  </thead>\n",
       "  <tbody>\n",
       "    <tr>\n",
       "      <th>0</th>\n",
       "      <td>2023-01-01</td>\n",
       "      <td>0.509110</td>\n",
       "    </tr>\n",
       "    <tr>\n",
       "      <th>1</th>\n",
       "      <td>2023-01-02</td>\n",
       "      <td>0.456407</td>\n",
       "    </tr>\n",
       "    <tr>\n",
       "      <th>2</th>\n",
       "      <td>2023-01-03</td>\n",
       "      <td>-0.411696</td>\n",
       "    </tr>\n",
       "    <tr>\n",
       "      <th>3</th>\n",
       "      <td>2023-01-04</td>\n",
       "      <td>-0.961030</td>\n",
       "    </tr>\n",
       "    <tr>\n",
       "      <th>4</th>\n",
       "      <td>2023-01-05</td>\n",
       "      <td>-1.553252</td>\n",
       "    </tr>\n",
       "  </tbody>\n",
       "</table>\n",
       "</div>"
      ],
      "text/plain": [
       "        Date     Value\n",
       "0 2023-01-01  0.509110\n",
       "1 2023-01-02  0.456407\n",
       "2 2023-01-03 -0.411696\n",
       "3 2023-01-04 -0.961030\n",
       "4 2023-01-05 -1.553252"
      ]
     },
     "execution_count": 10,
     "metadata": {},
     "output_type": "execute_result"
    }
   ],
   "source": [
    "import pandas as pd\n",
    "import numpy as np\n",
    "\n",
    "# Sample DataFrame for Line Plot\n",
    "df_line = pd.DataFrame({\n",
    "    'Date': pd.date_range(start='1/1/2023', periods=100),\n",
    "    'Value': np.random.randn(100).cumsum()\n",
    "})\n",
    "\n",
    "df_line.head()"
   ]
  },
  {
   "cell_type": "code",
   "execution_count": 11,
   "metadata": {},
   "outputs": [],
   "source": [
    "def set_line_settings(color: str = \"green\", linestyle: str =\"-\", linewidth: int | float = 1.5, marker: str = \"None\", markeredgecolor: str = 'auto', markeredgewidth: int | float = 1.0, markerfacecolor: str = 'auto', markersize: int | float = 6.0):\n",
    "    plt.rcParams['lines.color'] = color\n",
    "    plt.rcParams['lines.linestyle'] = linestyle\n",
    "    plt.rcParams['lines.linewidth'] = linewidth\n",
    "    plt.rcParams['lines.marker'] = marker\n",
    "    plt.rcParams['lines.markeredgecolor'] = markeredgecolor\n",
    "    plt.rcParams['lines.markeredgewidth'] = markeredgewidth\n",
    "    plt.rcParams['lines.markerfacecolor'] = markerfacecolor\n",
    "    plt.rcParams['lines.markersize'] = markersize"
   ]
  },
  {
   "cell_type": "code",
   "execution_count": 23,
   "metadata": {},
   "outputs": [],
   "source": [
    "def lineplot(self: pd.DataFrame , x: pd.Series, y: pd.Series, title: str =None, xlabel:str =None, xlim: tuple = None, ylabel: str =None, ylim: tuple = None, rotation_xlabel: int = None, grid=False, legend: bool=True, filename: str =None, dpi: int = 100):\n",
    "    if xlabel is None:\n",
    "        xlabel = str(x)\n",
    "    if ylabel is None:\n",
    "        ylabel = str(y)\n",
    "    if title is None:\n",
    "        title = xlabel + \" VS \" + ylabel\n",
    "    fig, ax = plt.subplots()\n",
    "    ax.set_xlabel(xlabel)\n",
    "    ax.set_ylabel(ylabel)\n",
    "    ax.set_title(title)\n",
    "    ax.grid(grid)\n",
    "    if rotation_xlabel is not None:\n",
    "        plt.xticks(rotation=rotation_xlabel)\n",
    "    if plt.gca().get_legend() is not None and legend:\n",
    "        if any(label.get_label() for label in plt.gca().get_legend().get_texts()):\n",
    "            plt.legend()\n",
    "    if xlim is not None:\n",
    "        ax.set_xlim(xlim)\n",
    "    if ylim is not None:\n",
    "        ax.set_ylim(ylim)   \n",
    "    if x in self.columns and y in self.columns:    \n",
    "        ax.plot(self[x], self[y], color=plt.rcParams['lines.color'],\n",
    "                                linestyle=plt.rcParams['lines.linestyle'],\n",
    "                                linewidth=plt.rcParams['lines.linewidth'],\n",
    "                                marker=plt.rcParams['lines.marker'],\n",
    "                                markeredgecolor=plt.rcParams['lines.markeredgecolor'],\n",
    "                                markeredgewidth=plt.rcParams['lines.markeredgewidth'],\n",
    "                                markerfacecolor=plt.rcParams['lines.markerfacecolor'],\n",
    "                                markersize=plt.rcParams['lines.markersize'],\n",
    "                                zorder=2)\n",
    "    else:\n",
    "        raise ValueError(f\"Columns '{x}' or '{y}' not found in DataFrame.\")\n",
    "\n",
    "    if filename is not None:\n",
    "        fig.savefig(filename, dpi=dpi)\n",
    "    plt.show()"
   ]
  },
  {
   "cell_type": "code",
   "execution_count": 29,
   "metadata": {},
   "outputs": [],
   "source": [
    "import matplotlib.pyplot as plt\n",
    "# increase_graph_size(15, 6)\n",
    "# set_labels_settings()\n",
    "# set_title_settings()\n",
    "# set_grid()\n",
    "# reset_settings()\n",
    "# set_line_settings(marker=\"o\", markerfacecolor=\"black\", markeredgecolor=\"white\", markersize=7, linestyle=\"--\")\n",
    "# lineplot(df_line, \"Date\", \"Value\")"
   ]
  },
  {
   "cell_type": "code",
   "execution_count": 44,
   "metadata": {},
   "outputs": [
    {
     "data": {
      "text/html": [
       "<div>\n",
       "<style scoped>\n",
       "    .dataframe tbody tr th:only-of-type {\n",
       "        vertical-align: middle;\n",
       "    }\n",
       "\n",
       "    .dataframe tbody tr th {\n",
       "        vertical-align: top;\n",
       "    }\n",
       "\n",
       "    .dataframe thead th {\n",
       "        text-align: right;\n",
       "    }\n",
       "</style>\n",
       "<table border=\"1\" class=\"dataframe\">\n",
       "  <thead>\n",
       "    <tr style=\"text-align: right;\">\n",
       "      <th></th>\n",
       "      <th>Category</th>\n",
       "      <th>Value</th>\n",
       "    </tr>\n",
       "  </thead>\n",
       "  <tbody>\n",
       "    <tr>\n",
       "      <th>0</th>\n",
       "      <td>A</td>\n",
       "      <td>23</td>\n",
       "    </tr>\n",
       "    <tr>\n",
       "      <th>1</th>\n",
       "      <td>B</td>\n",
       "      <td>45</td>\n",
       "    </tr>\n",
       "    <tr>\n",
       "      <th>2</th>\n",
       "      <td>C</td>\n",
       "      <td>56</td>\n",
       "    </tr>\n",
       "    <tr>\n",
       "      <th>3</th>\n",
       "      <td>D</td>\n",
       "      <td>78</td>\n",
       "    </tr>\n",
       "  </tbody>\n",
       "</table>\n",
       "</div>"
      ],
      "text/plain": [
       "  Category  Value\n",
       "0        A     23\n",
       "1        B     45\n",
       "2        C     56\n",
       "3        D     78"
      ]
     },
     "execution_count": 44,
     "metadata": {},
     "output_type": "execute_result"
    }
   ],
   "source": [
    "# Sample DataFrame for Bar Plot\n",
    "df_bar = pd.DataFrame({\n",
    "    'Category': ['A', 'B', 'C', 'D'],\n",
    "    'Value': [23, 45, 56, 78]\n",
    "})\n",
    "\n",
    "df_bar.head()"
   ]
  },
  {
   "cell_type": "code",
   "execution_count": 53,
   "metadata": {},
   "outputs": [],
   "source": [
    "def barplot(self: pd.DataFrame , x: pd.Series, y: pd.Series, title: str =None, xlabel:str =None, xlim: tuple = None, ylabel: str =None, ylim: tuple = None, rotation_xlabel: int = None, grid=False, legend: bool=True, filename: str =None, dpi: int = 100, show_values: bool = True):\n",
    "    if xlabel is None:\n",
    "        xlabel = str(x)\n",
    "    if ylabel is None:\n",
    "        ylabel = str(y)\n",
    "    if title is None:\n",
    "        title = xlabel + \" VS \" + ylabel\n",
    "    fig, ax = plt.subplots()\n",
    "    ax.set_xlabel(xlabel)\n",
    "    ax.set_ylabel(ylabel)\n",
    "    ax.set_title(title)\n",
    "    ax.grid(grid)\n",
    "    if rotation_xlabel is not None:\n",
    "        plt.xticks(rotation=rotation_xlabel)\n",
    "    if plt.gca().get_legend() is not None and legend:\n",
    "        if any(label.get_label() for label in plt.gca().get_legend().get_texts()):\n",
    "            plt.legend()\n",
    "    if xlim is not None:\n",
    "        ax.set_xlim(xlim)\n",
    "    if ylim is not None:\n",
    "        ax.set_ylim(ylim)\n",
    "    try:\n",
    "        if x in self.columns and y in self.columns:\n",
    "            bars = ax.bar(self[x], self[y])\n",
    "        else:\n",
    "            raise ValueError(f\"Columns '{x}' or '{y}' not found in DataFrame.\")\n",
    "    except Exception as e:\n",
    "        print(f\"An error occurred: {e}\")\n",
    "        return\n",
    "        \n",
    "    for bar in bars:\n",
    "        height = bar.get_height()\n",
    "        plt.text(bar.get_x() + bar.get_width() / 2.0, height, f'{height}', ha='center', va='bottom')\n",
    "    if filename is not None:\n",
    "        fig.savefig(filename, dpi=dpi)\n",
    "    plt.show()"
   ]
  },
  {
   "cell_type": "code",
   "execution_count": 54,
   "metadata": {},
   "outputs": [
    {
     "data": {
      "image/png": "[encoded data removed]",
      "text/plain": [
       "<Figure size 640x480 with 1 Axes>"
      ]
     },
     "metadata": {},
     "output_type": "display_data"
    }
   ],
   "source": [
    "barplot(df_bar, \"Category\", \"Value\")"
   ]
  },
  {
   "cell_type": "code",
   "execution_count": null,
   "metadata": {},
   "outputs": [],
   "source": [
    "print(type(df))\n",
    "df.get_memory_usage()"
   ]
  },
  {
   "cell_type": "code",
   "execution_count": null,
   "metadata": {},
   "outputs": [],
   "source": [
    "df.get_dataframe_mem_insight()"
   ]
  },
  {
   "cell_type": "code",
   "execution_count": null,
   "metadata": {},
   "outputs": [],
   "source": [
    "df.get_dataframe_mem_insight(transpose=True)"
   ]
  },
  {
   "cell_type": "code",
   "execution_count": null,
   "metadata": {},
   "outputs": [],
   "source": [
    "df.get_best_dtypes()"
   ]
  },
  {
   "cell_type": "code",
   "execution_count": null,
   "metadata": {},
   "outputs": [],
   "source": [
    "print(type(df))\n",
    "df = df.get_best_dtypes(show_df=True, convert=True)"
   ]
  },
  {
   "cell_type": "code",
   "execution_count": null,
   "metadata": {},
   "outputs": [],
   "source": [
    "print(type(df))\n",
    "df.get_memory_usage()"
   ]
  },
  {
   "cell_type": "code",
   "execution_count": null,
   "metadata": {},
   "outputs": [],
   "source": [
    "df.get_dataframe_values_insight()"
   ]
  },
  {
   "cell_type": "code",
   "execution_count": null,
   "metadata": {},
   "outputs": [],
   "source": [
    "df.get_dataframe_values_insight(transpose=True)"
   ]
  },
  {
   "cell_type": "code",
   "execution_count": null,
   "metadata": {},
   "outputs": [],
   "source": [
    "print(type(df))\n",
    "df = df.capitalize_rows_string(cols=[\"Gender\"])\n",
    "df.head()"
   ]
  },
  {
   "cell_type": "code",
   "execution_count": null,
   "metadata": {},
   "outputs": [],
   "source": [
    "df = df.round_rows_value(cols=[\"Ticket_Price\"], decimals=3)\n",
    "df.head()"
   ]
  },
  {
   "cell_type": "code",
   "execution_count": null,
   "metadata": {},
   "outputs": [],
   "source": [
    "Visualization.help_telegram_bot()"
   ]
  },
  {
   "cell_type": "code",
   "execution_count": null,
   "metadata": {},
   "outputs": [],
   "source": [
    "Visualization.save_telegram_credentials()"
   ]
  },
  {
   "cell_type": "code",
   "execution_count": 1,
   "metadata": {},
   "outputs": [
    {
     "ename": "NameError",
     "evalue": "name 'Visualization' is not defined",
     "output_type": "error",
     "traceback": [
      "\u001b[0;31m---------------------------------------------------------------------------\u001b[0m",
      "\u001b[0;31mNameError\u001b[0m                                 Traceback (most recent call last)",
      "Cell \u001b[0;32mIn[1], line 1\u001b[0m\n\u001b[0;32m----> 1\u001b[0m \u001b[43mVisualization\u001b[49m\u001b[38;5;241m.\u001b[39msend_images_via_telegram(file_path\u001b[38;5;241m=\u001b[39m\u001b[38;5;124m\"\u001b[39m\u001b[38;5;124mimgs/suntzulogo.png\u001b[39m\u001b[38;5;124m\"\u001b[39m, caption\u001b[38;5;241m=\u001b[39m\u001b[38;5;124m\"\u001b[39m\u001b[38;5;124mlefa\u001b[39m\u001b[38;5;124m\"\u001b[39m)\n",
      "\u001b[0;31mNameError\u001b[0m: name 'Visualization' is not defined"
     ]
    }
   ],
   "source": [
    "Visualization.send_images_via_telegram(file_path=\"imgs/suntzulogo.png\", caption=\"lefa\")"
   ]
  },
  {
   "cell_type": "code",
   "execution_count": null,
   "metadata": {},
   "outputs": [],
   "source": [
    "Visualization.help_slack_bot()"
   ]
  },
  {
   "cell_type": "code",
   "execution_count": null,
   "metadata": {},
   "outputs": [],
   "source": [
    "Visualization.save_slack_credentials()"
   ]
  },
  {
   "cell_type": "code",
   "execution_count": null,
   "metadata": {},
   "outputs": [],
   "source": [
    "Visualization.send_images_via_slack(file_path=\"imgs/suntzulogo.png\", caption=\"Logo\")"
   ]
  },
  {
   "cell_type": "code",
   "execution_count": null,
   "metadata": {},
   "outputs": [],
   "source": [
    "df = pd.read_csv(\"./Titanic.csv\")\n",
    "df1 = pd.read_csv(\"./Sales_Data.csv\")\n",
    "df2 = pd.read_parquet(\"./Titanic_Cleaned.parquet\")"
   ]
  },
  {
   "cell_type": "code",
   "execution_count": null,
   "metadata": {},
   "outputs": [],
   "source": [
    "# Define the string\n",
    "my_string = \"HellO, wOrld!\"\n",
    "\n",
    "# Define the character you want to check for\n",
    "character_to_check = \"o\"\n",
    "\n",
    "# Check if the character is in the string\n",
    "if character_to_check.lower() in my_string.lower():\n",
    "    print(f\"The character '{character_to_check}' is in the string.\")\n",
    "else:\n",
    "    print(f\"The character '{character_to_check}' is not in the string.\")\n"
   ]
  },
  {
   "cell_type": "code",
   "execution_count": null,
   "metadata": {},
   "outputs": [],
   "source": [
    "import pandas as pd\n",
    "\n",
    "# Creating a DataFrame for testing\n",
    "data = {\n",
    "    'name': ['Alice', 'Bob', 'Charlie', 'David', 'Emma'],\n",
    "    'age': [25, 30, 35, 40, None],\n",
    "    'Gender': ['female', 'male', None, 'male', 'female'],\n",
    "    'City': ['New York', 'Los Angeles', 'Chicago', 'Houston', 'Phoenix'],\n",
    "    'SCORE': [85.5, None, 90.7, 75.2, 88.9]\n",
    "}\n",
    "df = pd.DataFrame(data)\n",
    "df.head()"
   ]
  },
  {
   "cell_type": "code",
   "execution_count": null,
   "metadata": {},
   "outputs": [],
   "source": [
    "df.head()"
   ]
  },
  {
   "cell_type": "code",
   "execution_count": null,
   "metadata": {},
   "outputs": [],
   "source": [
    "df1.head()"
   ]
  },
  {
   "cell_type": "code",
   "execution_count": null,
   "metadata": {},
   "outputs": [],
   "source": [
    "erro"
   ]
  },
  {
   "cell_type": "code",
   "execution_count": null,
   "metadata": {},
   "outputs": [],
   "source": [
    "# self.info()"
   ]
  },
  {
   "cell_type": "code",
   "execution_count": null,
   "metadata": {},
   "outputs": [],
   "source": [
    "# teste = File.read_file(\"./Titanic_Cleaned.parquet\")\n",
    "# teste.info()"
   ]
  },
  {
   "cell_type": "code",
   "execution_count": null,
   "metadata": {},
   "outputs": [],
   "source": [
    "import pandas as pd\n",
    "# Criar um DataFrame de exemplo\n",
    "data = {\n",
    "    'Name': ['Alice', 'Bob', 'Charlie', 'David', 'Emma'],\n",
    "    'Age': [25, 30, 35, 40, 45],\n",
    "    'Gender': ['Female', 'Male', 'Male', 'Male', 'Female'],\n",
    "    'City': ['New York', 'Los Angeles', 'Chicago', 'Houston', 'Phoenix']\n",
    "}\n",
    "df = pd.DataFrame(data)\n",
    "df.head()"
   ]
  },
  {
   "cell_type": "code",
   "execution_count": null,
   "metadata": {},
   "outputs": [],
   "source": [
    "# Conditions for filtering\n",
    "conditions = [\n",
    "    df['Age'] <= 35,\n",
    "    df['Gender'] == 'Male'\n",
    "]\n",
    "df_find = Statistics.find(df, conditions)\n",
    "df_find.head()"
   ]
  },
  {
   "cell_type": "code",
   "execution_count": null,
   "metadata": {},
   "outputs": [],
   "source": [
    "df_replaced = Statistics.find_replace(df, conditions, ('Age', 'Unknown'))\n",
    "df_replaced.head()"
   ]
  },
  {
   "cell_type": "code",
   "execution_count": null,
   "metadata": {},
   "outputs": [],
   "source": [
    "# df_deleted = Statistics.find_delete(df, conditions)\n",
    "# df_deleted.head()"
   ]
  },
  {
   "cell_type": "code",
   "execution_count": null,
   "metadata": {},
   "outputs": [],
   "source": [
    "# Statistics.get_best_dtypes(self, output=True, convert=True)"
   ]
  },
  {
   "cell_type": "code",
   "execution_count": null,
   "metadata": {},
   "outputs": [],
   "source": [
    "# Statistics.get_null_percentage(teste, get_dict=True, output=False, get_total=False)"
   ]
  },
  {
   "cell_type": "code",
   "execution_count": null,
   "metadata": {},
   "outputs": [],
   "source": [
    "# Metadata.read_netCDF_metadata(teste)"
   ]
  },
  {
   "cell_type": "code",
   "execution_count": null,
   "metadata": {},
   "outputs": [],
   "source": [
    "# teste.head()"
   ]
  },
  {
   "cell_type": "code",
   "execution_count": null,
   "metadata": {},
   "outputs": [],
   "source": [
    "# get_nulls_count(teste1)"
   ]
  },
  {
   "cell_type": "code",
   "execution_count": null,
   "metadata": {},
   "outputs": [],
   "source": [
    "# import pandas as pd\n",
    "\n",
    "# # Creating a sample DataFrame\n",
    "# data = {\n",
    "#     'col1': ['apple, pie', 'banana! split', 'cherry? cake'],\n",
    "#     'col2': ['ice-cream', 'chocolate? cake', 'strawberry! shortcake']\n",
    "# }\n",
    "\n",
    "# teste = pd.DataFrame(data)\n",
    "# teste.head()\n"
   ]
  },
  {
   "cell_type": "code",
   "execution_count": null,
   "metadata": {},
   "outputs": [],
   "source": [
    "# self.head()"
   ]
  },
  {
   "cell_type": "code",
   "execution_count": null,
   "metadata": {},
   "outputs": [],
   "source": [
    "# self = pd.read_csv(\"./Titanic.csv\")\n",
    "# condition = self[\"sex\"] == \"female\"\n",
    "# conditions = [condition]\n",
    "# teste = find_delete(self, conditions)\n",
    "# teste[\"sex\"].value_counts()"
   ]
  },
  {
   "cell_type": "code",
   "execution_count": null,
   "metadata": {},
   "outputs": [],
   "source": [
    "# self = pd.read_csv(\"./Titanic.csv\")\n",
    "# condition = self[\"sex\"] == \"female\"\n",
    "# conditions = [condition]\n",
    "# replace = [\"survived\", 1]\n",
    "# teste = replace.values()\n",
    "# teste\n",
    "# teste = find_replace(self, conditions, replace)\n",
    "# teste4 = find(teste, conditions)\n",
    "# teste4[\"survived\"].value_counts()"
   ]
  },
  {
   "cell_type": "code",
   "execution_count": null,
   "metadata": {},
   "outputs": [],
   "source": [
    "# self = pd.read_csv(\"./Titanic.csv\")\n",
    "# teste2 = find(self, [self[\"sex\"] == \"female\"])\n",
    "# self.loc[teste2.index, \"survived\"] = 0\n",
    "# teste3 = find(self, [self[\"sex\"] == \"female\"])\n",
    "# teste3[\"survived\"].value_counts()"
   ]
  },
  {
   "cell_type": "code",
   "execution_count": null,
   "metadata": {},
   "outputs": [],
   "source": [
    "# condition = self[\"sex\"] == \"female\"\n",
    "# conditions = [condition]\n",
    "# replace = [self[\"survived\"], 1]\n",
    "# teste = replace.values()\n",
    "# teste\n",
    "# teste = find_replace(self, conditions, replace)\n",
    "# teste.head()\n",
    "# teste1 = find(teste, conditions)\n",
    "# teste1[\"survived\"].value_counts()\n",
    "# adw = find(teste, conditions)\n",
    "# teste.head()\n",
    "# df[\"female\"].value_counts()"
   ]
  },
  {
   "cell_type": "code",
   "execution_count": null,
   "metadata": {},
   "outputs": [],
   "source": [
    "# teste.head()"
   ]
  },
  {
   "cell_type": "code",
   "execution_count": null,
   "metadata": {},
   "outputs": [],
   "source": [
    "# teste = remove_rows_character(teste, characters=[\"-\", \"?\", \"!\", \" \", \",\"], add_blankspace=True)\n",
    "# teste.head()"
   ]
  },
  {
   "cell_type": "code",
   "execution_count": null,
   "metadata": {},
   "outputs": [],
   "source": [
    "# df1[\"Product\"].dtypes"
   ]
  },
  {
   "cell_type": "code",
   "execution_count": null,
   "metadata": {},
   "outputs": [],
   "source": [
    "# get_nulls_count(df1)"
   ]
  },
  {
   "cell_type": "code",
   "execution_count": null,
   "metadata": {},
   "outputs": [],
   "source": [
    "# df1.info()"
   ]
  },
  {
   "cell_type": "code",
   "execution_count": null,
   "metadata": {},
   "outputs": [],
   "source": [
    "# get_dtype(df1, \"Product\")"
   ]
  },
  {
   "cell_type": "code",
   "execution_count": null,
   "metadata": {},
   "outputs": [],
   "source": [
    "# df1 = get_best_dtypes(df1, convert=True)"
   ]
  },
  {
   "cell_type": "code",
   "execution_count": null,
   "metadata": {},
   "outputs": [],
   "source": [
    "# df1.info()"
   ]
  },
  {
   "cell_type": "code",
   "execution_count": null,
   "metadata": {},
   "outputs": [],
   "source": [
    "# df1 = remove_rows_with_missing_values(df1)\n",
    "#Gender\tAge\tSiblings_on_Board\tParents_on_Board\tTicket_Price\tPort_of_Embarkation\tClass\tAdult/Child\tAlone\tSurvived"
   ]
  },
  {
   "cell_type": "code",
   "execution_count": null,
   "metadata": {},
   "outputs": [],
   "source": [
    "import pandas as pd\n",
    "teste = pd.read_csv(\"examples/Titanic.csv\")\n",
    "teste.head()\n",
    "teste.drop(columns=[\"Ticket\", \"Cabin\", \"PassengerId\", \"Name\", \"Pclass\"], inplace=True)\n",
    "teste.head()"
   ]
  },
  {
   "cell_type": "code",
   "execution_count": null,
   "metadata": {},
   "outputs": [],
   "source": [
    "teste['Port_of_Embarkation'] = teste['Port_of_Embarkation'].map({'S': 'Southampton', 'C': 'Cherbourg', 'Q': 'Queenstown'})"
   ]
  },
  {
   "cell_type": "code",
   "execution_count": null,
   "metadata": {},
   "outputs": [],
   "source": [
    "teste = teste.rename(columns={'Sex': 'Gender', 'Sibsp': 'Siblings_on_Board', 'Parch': 'Parents_on_Board', 'Fare': 'Ticket_Price', 'Embarked': 'Port_of_Embarkation', 'Survived':'Survived'})"
   ]
  },
  {
   "cell_type": "code",
   "execution_count": null,
   "metadata": {},
   "outputs": [],
   "source": [
    "teste.head()"
   ]
  },
  {
   "cell_type": "code",
   "execution_count": null,
   "metadata": {},
   "outputs": [],
   "source": [
    "# get_col_null_count(df1, [\"Purchase Address\"])"
   ]
  },
  {
   "cell_type": "code",
   "execution_count": null,
   "metadata": {},
   "outputs": [],
   "source": [
    "Cleaning.split_rows_string(df1, \"Purchase Address\", [\"Address\", \"City\", \"State\"], delete_col=False)"
   ]
  }
 ],
 "metadata": {
  "kernelspec": {
   "display_name": "pygmtsar",
   "language": "python",
   "name": "python3"
  },
  "language_info": {
   "codemirror_mode": {
    "name": "ipython",
    "version": 3
   },
   "file_extension": ".py",
   "mimetype": "text/x-python",
   "name": "python",
   "nbconvert_exporter": "python",
   "pygments_lexer": "ipython3",
   "version": "3.12.3"
  },
  "orig_nbformat": 4
 },
 "nbformat": 4,
 "nbformat_minor": 2
}
